{
 "cells": [
  {
   "cell_type": "code",
   "execution_count": null,
   "metadata": {},
   "outputs": [],
   "source": [
    "import otter\n",
    "grader = otter.Notebook()"
   ]
  },
  {
   "cell_type": "markdown",
   "metadata": {},
   "source": [
    "# Instructions"
   ]
  },
  {
   "cell_type": "markdown",
   "metadata": {},
   "source": [
    "\n",
    "###  General Instructions\n",
    "\n",
    "* **How to install 'otter'**: Run `pip install otter-grader` in your Anaconda Command Prompt\n",
    "* **Otter**: It is an autograder that we will be using for grading your notebooks.\n",
    "* **grader.check('qn')**: This command runs test cases for nth question `qn` provided to you and displays the result. But these are not the only test cases, these are provided just for your basic testing. There will be some *hidden test cases* on which your answers will be tested as well.\n",
    "* You are **not** allowed to edit any pre-defined variables and as per the instructions for every question you have to assign your answers to these variables.\n",
    "* Write your answers in place of `...` where prompted\n",
    "* **How to run this on google colab**: Uncomment the below code and replace wherever necessary to run this assignment on google colab (only if you want to - jupyter notebooks work just fine).\n",
    "\n",
    "###  Assignment 2 part 1 specific instructions\n",
    "\n",
    "* Make sure that your code is properly commented. If your code is not properly commented, it may lead to loss in marks.\n",
    "* Please follow the instructions written at each part very carefully.\n",
    "* There are hidden test cases for each part so please don't hard code anything.\n"
   ]
  },
  {
   "cell_type": "code",
   "execution_count": null,
   "metadata": {},
   "outputs": [],
   "source": [
    "import pandas as pd"
   ]
  },
  {
   "cell_type": "markdown",
   "metadata": {},
   "source": [
    "## Reading Data"
   ]
  },
  {
   "cell_type": "code",
   "execution_count": null,
   "metadata": {},
   "outputs": [],
   "source": [
    "fake_jobs = pd.read_csv('fake_job_postings.csv')\n",
    "fake_jobs"
   ]
  },
  {
   "cell_type": "markdown",
   "metadata": {},
   "source": [
    "## **Data Cleaning**"
   ]
  },
  {
   "cell_type": "markdown",
   "metadata": {},
   "source": [
    "### **Cleaning Part 1: Examining the Data**"
   ]
  },
  {
   "cell_type": "markdown",
   "metadata": {},
   "source": [
    "<!-- BEGIN QUESTION -->\n",
    "\n",
    "**Question 1:** What is the granularity of the data (i.e. what does each row represent)?\n",
    "\n",
    "*Answering Guidelines:* a placeholder for your answer has been made - simply add your answer in the markdown cell below as instructed.\n",
    "\n",
    "<!--\n",
    "BEGIN QUESTION\n",
    "name: q1\n",
    "points: 3\n",
    "manual: true\n",
    "-->"
   ]
  },
  {
   "cell_type": "markdown",
   "metadata": {},
   "source": [
    "_Type your answer here, replacing this text._"
   ]
  },
  {
   "cell_type": "markdown",
   "metadata": {},
   "source": [
    "### **Cleaning Part 2: Data Preparation**"
   ]
  },
  {
   "cell_type": "markdown",
   "metadata": {},
   "source": [
    "#### **2A: Data Summary**\n"
   ]
  },
  {
   "cell_type": "markdown",
   "metadata": {},
   "source": [
    "Before beginning to clean our datasets, lets take a look at how our data looks. You will be examining the datasets using the following:\n",
    "\n",
    "*   Use .head() to examine the first 5 rows of each dataset\n",
    "*   Use .shape() to examine the number of rows and columns in each dataset\n",
    "*   Use an appropriate pandas function which displays a summary of the dataset, including the min,max etc.\n",
    "*   Use an appropriate pandas function which displays a summary of the datatype for each column within the dataset.\n"
   ]
  },
  {
   "cell_type": "markdown",
   "metadata": {},
   "source": [
    "**Question 2:** Perform the above mentioned functions on the dataset\n",
    "\n",
    "*Answering Guidelines:* Store your answers in the appropriate variables\n",
    "* q2_head = stores the output of the first requirement listed above\n",
    "* q2_shape = stores the output of the second requirement listed above\n",
    "* q2_summary = stores the output of the third requirement listed above\n",
    "* q2_datatype = stores the output of the fourth requirement listed above\n",
    "\n",
    "<!--\n",
    "BEGIN QUESTION\n",
    "name: q3\n",
    "points: 4\n",
    "-->"
   ]
  },
  {
   "cell_type": "code",
   "execution_count": null,
   "metadata": {},
   "outputs": [],
   "source": [
    "q2_head = ...\n",
    "q2_shape = ...\n",
    "q2_summary = ...\n",
    "q2_datatype = ..."
   ]
  },
  {
   "cell_type": "code",
   "execution_count": null,
   "metadata": {},
   "outputs": [],
   "source": [
    "grader.check(\"q2\")"
   ]
  },
  {
   "cell_type": "markdown",
   "metadata": {},
   "source": [
    "#### Missing values"
   ]
  },
  {
   "cell_type": "markdown",
   "metadata": {},
   "source": [
    "<!-- BEGIN QUESTION -->\n",
    "\n",
    "**Question 3:** Count the number of rows which have missing values and store it in the variable count. You can take help from this [link](https://pandas.pydata.org/pandas-docs/stable/user_guide/missing_data.html) to see how to work with missing data in pandas.\n",
    "\n",
    "\n",
    "*Answering Guidelines:* a placeholder for your answer has been made - simply add your answer in the markdown cell below as instructed.\n",
    "\n",
    "<!--\n",
    "BEGIN QUESTION\n",
    "name: q1\n",
    "points: 3\n",
    "manual: true\n",
    "-->"
   ]
  },
  {
   "cell_type": "code",
   "execution_count": null,
   "metadata": {},
   "outputs": [],
   "source": [
    "count = ..."
   ]
  },
  {
   "cell_type": "code",
   "execution_count": null,
   "metadata": {},
   "outputs": [],
   "source": [
    "grader.check(\"q3\")"
   ]
  },
  {
   "cell_type": "markdown",
   "metadata": {},
   "source": [
    "<!-- BEGIN QUESTION -->\n",
    "\n",
    "**Question 4:**  \n",
    "* Identify which column contains the most missing values. Write the column names with most number of missing values in the variable **column_q4**. \n",
    "* Remove any row with contains missing values from the dataframe **fake_jobs**.\n",
    "* After removing write a code which verifies that your dataframe **fake_jobs** doesnot contains any missing values.\n",
    "\n",
    "*Answering Guidelines:*\n",
    "* a placeholder for your answer has been made - simply add your answer in the markdown cell below as instructed.\n",
    "* Show all steps. Properly comment each step in this part. If you just write the final answer you will get *no marks*. \n",
    "* Test case will be case sensitive so make sure that you write the spellings of the column that is in written in the dataframe.\n",
    "\n",
    "\n",
    "<!--\n",
    "BEGIN QUESTION\n",
    "name: q4\n",
    "points: 6\n",
    "manual: false\n",
    "-->"
   ]
  },
  {
   "cell_type": "code",
   "execution_count": null,
   "metadata": {},
   "outputs": [],
   "source": [
    "column_q4= ..."
   ]
  },
  {
   "cell_type": "code",
   "execution_count": null,
   "metadata": {},
   "outputs": [],
   "source": [
    "grader.check(\"q4\")"
   ]
  },
  {
   "cell_type": "markdown",
   "metadata": {},
   "source": [
    "<!-- BEGIN QUESTION -->\n",
    "\n",
    "**Question 5** How many rows are left in the dataset **fake_jobs** after all missing_values has been removed. Store the result in the variables **q5_rows**.\n",
    "\n",
    "*Answering Guidelines:*\n",
    "* a placeholder for your answer has been made - simply add your answer in the markdown cell below as instructed.\n",
    "* Show all step(s). If you just write the final answer you will get *no marks*. \n",
    "\n",
    "<!--\n",
    "BEGIN QUESTION\n",
    "name: q5\n",
    "points: 2\n",
    "manual: false\n",
    "-->"
   ]
  },
  {
   "cell_type": "code",
   "execution_count": null,
   "metadata": {},
   "outputs": [],
   "source": [
    "q5_rows = ..."
   ]
  },
  {
   "cell_type": "code",
   "execution_count": null,
   "metadata": {},
   "outputs": [],
   "source": [
    "grader.check(\"q5\")"
   ]
  },
  {
   "cell_type": "markdown",
   "metadata": {},
   "source": [
    "<!-- BEGIN QUESTION -->\n",
    "**Question 6** There is a column name **Unnamed: 0**  was added to the dataset by mistake. Remove that column from the dataframe **fake_jobs**.\n",
    "\n",
    "*Answering Guidelines:*\n",
    "* a placeholder for your answer has been made - simply add your answer in the markdown cell below as instructed.\n",
    "* Show all step(s).\n",
    "\n",
    "<!--\n",
    "BEGIN QUESTION\n",
    "name: q5\n",
    "points: 3\n",
    "-->"
   ]
  },
  {
   "cell_type": "code",
   "execution_count": null,
   "metadata": {},
   "outputs": [],
   "source": [
    "..."
   ]
  },
  {
   "cell_type": "code",
   "execution_count": null,
   "metadata": {},
   "outputs": [],
   "source": [
    "grader.check(\"q6\")"
   ]
  },
  {
   "cell_type": "markdown",
   "metadata": {},
   "source": [
    "<!-- BEGIN QUESTION -->\n",
    "**Question 7** In the column name **telecommutingg** replace 0s with No and 1s with Yes. Follow the same steps for the following columns :\n",
    "\n",
    "* **hAs_company_logo**\n",
    "* **has_questions**\n",
    "* **fraudul....ent**\n",
    "\n",
    "*Answering Guidelines:*\n",
    "* a placeholder for your answer has been made - simply add your answer in the markdown cell below as instructed.\n",
    "* Show all step(s). Do proper commenting\n",
    "\n",
    "<!--\n",
    "BEGIN QUESTION\n",
    "name: q7\n",
    "points: 5\n",
    "manual: True\n",
    "-->"
   ]
  },
  {
   "cell_type": "code",
   "execution_count": null,
   "metadata": {},
   "outputs": [],
   "source": []
  },
  {
   "cell_type": "code",
   "execution_count": null,
   "metadata": {},
   "outputs": [],
   "source": [
    "grader.check(\"q7\")"
   ]
  },
  {
   "cell_type": "markdown",
   "metadata": {},
   "source": [
    "<!-- BEGIN QUESTION -->\n",
    "**Question 8** The column name **department!!!** has 2 exclamation marks at end of each entry. Your head TA Hareem didn't like it at all. Now you have to remove the exclamation marks from the column values of the **department!!!** . Store the modified data back in to the column and the change should be visible in **fake_jobs** variable.\n",
    "\n",
    "*Answering Guidelines:*\n",
    "* a placeholder for your answer has been made - simply add your answer in the markdown cell below as instructed.\n",
    "* Show all step(s).\n",
    "* No automatic testing for this part\n",
    "\n",
    "<!--\n",
    "BEGIN QUESTION\n",
    "name: q8\n",
    "points: 4\n",
    "manual: false\n",
    "-->"
   ]
  },
  {
   "cell_type": "code",
   "execution_count": null,
   "metadata": {},
   "outputs": [],
   "source": [
    "..."
   ]
  },
  {
   "cell_type": "markdown",
   "metadata": {},
   "source": [
    "#### Extracting features of complex values"
   ]
  },
  {
   "cell_type": "markdown",
   "metadata": {},
   "source": [
    "<!-- BEGIN QUESTION -->\n",
    "**Question 9**\n",
    "The variable location stores information of a location of a person in the following format (city, state, country). If any row doesn't follow this pattern drop that row from dataframe.\n",
    "* In this question, you will be extracting information from the column **location** . \n",
    "* You will make 3 new columns **city**, **state** and ***country*** and store the information of employees in it which you have extracted from the column locations. \n",
    "* After you have successfully made 3 columns and store the relevant information in it, delete the column **locations**.\n",
    "\n",
    "*Answering Guidelines:*\n",
    "* a placeholder for your answer has been made - simply add your answer in the markdown cell below as instructed.\n",
    "* Show all steps.Properly comment each step in this part. \n",
    "* Please read the question very carefully and follow every guideline to rename the column\n",
    "\n",
    "<!--\n",
    "BEGIN QUESTION\n",
    "name: q5\n",
    "points: 10\n",
    "manual: false\n",
    "-->"
   ]
  },
  {
   "cell_type": "code",
   "execution_count": null,
   "metadata": {},
   "outputs": [],
   "source": []
  },
  {
   "cell_type": "code",
   "execution_count": null,
   "metadata": {},
   "outputs": [],
   "source": [
    "grader.check(\"q9\")"
   ]
  },
  {
   "cell_type": "markdown",
   "metadata": {},
   "source": [
    "##### **Renaming Columns**"
   ]
  },
  {
   "cell_type": "markdown",
   "metadata": {},
   "source": [
    "<!-- BEGIN QUESTION -->\n",
    "\n",
    "**Question 10:**  \n",
    "Its a good practice to have short, uniform, and representative column names when you are working with datasets.\n",
    "\n",
    "Rename the columns to the following names in such a way that\n",
    "* only first letter of all columns names are in capital and rest are written in small letters. \n",
    "* There should no punctuation marks in the column names. \n",
    "* None of the column name should be mispelled.\n",
    "\n",
    "*Answering Guidelines:*\n",
    "* a placeholder for your answer has been made - simply add your answer in the markdown cell below as instructed.\n",
    "* Show all steps.  If you just write the final answer you will get *no marks*. \n",
    "* Please read the question very carefully and follow every guideline to rename the column\n",
    "* No automatic testing for this part. \n",
    "\n",
    "<!--\n",
    "BEGIN QUESTION\n",
    "name: q5\n",
    "points: 4\n",
    "manual: true\n",
    "-->"
   ]
  },
  {
   "cell_type": "code",
   "execution_count": null,
   "metadata": {},
   "outputs": [],
   "source": [
    "..."
   ]
  },
  {
   "cell_type": "markdown",
   "metadata": {},
   "source": [
    "### Insights"
   ]
  },
  {
   "cell_type": "markdown",
   "metadata": {},
   "source": [
    "<!-- END QUESTION -->\n",
    "\n",
    "<!-- BEGIN QUESTION -->\n",
    "\n",
    "**Question 11 :** What other meaningful insights could you have extracted from this dataset apart from what you did in this assignment? Also, comment on the quality of data available and give suggestions on how the data could have been better.\n",
    "\n",
    "*Answering Guidelines:* \n",
    "* a placeholder for your answer has been made - simply add your answer in the markdown cell below as instructed.\n",
    "\n",
    "<!--\n",
    "BEGIN QUESTION\n",
    "name: q2\n",
    "points: 6\n",
    "manual: true\n",
    "-->"
   ]
  },
  {
   "cell_type": "markdown",
   "metadata": {},
   "source": [
    "### Well done !! \n",
    "\n",
    "You are half way through the assignment. Grab a coffee/chai and take some rest before beginning the next part."
   ]
  },
  {
   "cell_type": "code",
   "execution_count": null,
   "metadata": {},
   "outputs": [],
   "source": [
    "grader.check_all()\n",
    "# if your test 6 fails over here and not on the top then don't worry!"
   ]
  }
 ],
 "metadata": {
  "kernelspec": {
   "display_name": "Python 3",
   "language": "python",
   "name": "python3"
  },
  "language_info": {
   "codemirror_mode": {
    "name": "ipython",
    "version": 3
   },
   "file_extension": ".py",
   "mimetype": "text/x-python",
   "name": "python",
   "nbconvert_exporter": "python",
   "pygments_lexer": "ipython3",
   "version": "3.8.3"
  }
 },
 "nbformat": 4,
 "nbformat_minor": 5
}
