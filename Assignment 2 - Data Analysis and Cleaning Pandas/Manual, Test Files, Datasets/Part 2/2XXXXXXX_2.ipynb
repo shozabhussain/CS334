{
 "cells": [
  {
   "cell_type": "markdown",
   "metadata": {
    "id": "MvS895Mmqy61"
   },
   "source": [
    "# **Assignment 2 Part 2**"
   ]
  },
  {
   "cell_type": "markdown",
   "metadata": {
    "id": "MvS895Mmqy61"
   },
   "source": [
    "### Assignment Instructions"
   ]
  },
  {
   "cell_type": "markdown",
   "metadata": {
    "id": "MvS895Mmqy61"
   },
   "source": [
    "* **How to install 'otter'**: Run `pip install otter-grader` in your Anaconda Command Prompt\n",
    "* **Otter**: It is an autograder that we will be using for grading your notebooks.\n",
    "* **grader.check('qn')**: This command runs test cases for nth question `qn` provided to you and displays the result. But these are not the only test cases, these are provided just for your basic testing. There will be some *hidden test cases* on which your answers will be tested as well.\n",
    "* You are **not** allowed to edit any pre-defined variables and as per the instructions for every question you have to assign your answers to these variables.\n",
    "* Write your answers in place of `...` and `pass`\n",
    "* Hardcoded answers will get `zero` marks"
   ]
  },
  {
   "cell_type": "markdown",
   "metadata": {
    "id": "MvS895Mmqy61"
   },
   "source": [
    "### Submission Instructions"
   ]
  },
  {
   "cell_type": "markdown",
   "metadata": {
    "id": "MvS895Mmqy61"
   },
   "source": [
    "* There are two parts of this assignment. You should name both notebooks as **YourRollNumber_PartNumber.ipynb**. (e.g. this part should be named as *`2XXXXXXX_2.ipynb`*)\n",
    "* You must submit a zip file containg just two notebooks and it must not has any folder or any other file. \n",
    "* The name of the zip file must be your `Roll Number`"
   ]
  },
  {
   "cell_type": "code",
   "execution_count": null,
   "metadata": {
    "id": "bMSrIYtXeHEV"
   },
   "outputs": [],
   "source": [
    "import pandas as pd\n",
    "import numpy as np\n",
    "import matplotlib.pyplot as plt\n",
    "from matplotlib import pyplot\n",
    "import seaborn as sns\n",
    "from statsmodels.graphics.gofplots import qqplot"
   ]
  },
  {
   "cell_type": "code",
   "execution_count": null,
   "metadata": {},
   "outputs": [],
   "source": [
    "import otter\n",
    "grader = otter.Notebook()"
   ]
  },
  {
   "cell_type": "code",
   "execution_count": null,
   "metadata": {
    "id": "fXq31mqYefUc"
   },
   "outputs": [],
   "source": [
    "# Do not change this cell\n",
    "\n",
    "df_2019 = pd.read_csv('2019.csv', encoding='latin-1')\n",
    "df_2020 = pd.read_csv('2020.csv', encoding='latin-1')\n",
    "df_2021 = pd.read_csv('2021.csv', encoding='latin-1')"
   ]
  },
  {
   "cell_type": "code",
   "execution_count": null,
   "metadata": {
    "id": "w7pCCL8zYruv"
   },
   "outputs": [],
   "source": [
    "# Standardizing the column names\n",
    "df_2019.columns = df_2019.columns.str.lower()\n",
    "df_2020.columns = df_2019.columns.str.lower()\n",
    "df_2021.columns = df_2019.columns.str.lower()\n",
    "\n",
    "# Restructuring the column indexes\n",
    "df_2019 = df_2019[['rank', 'university', 'region', 'academic reputation', 'employer reputation', 'faculty student', 'international faculty','international students', 'citations per faculty', 'overall score'] ]\n",
    "df_2020 = df_2020[['rank', 'university', 'region', 'academic reputation', 'employer reputation', 'faculty student', 'international faculty','international students', 'citations per faculty', 'overall score'] ]\n",
    "df_2021 = df_2021[['rank', 'university', 'region', 'academic reputation', 'employer reputation', 'faculty student', 'international faculty','international students', 'citations per faculty', 'overall score'] ]\n"
   ]
  },
  {
   "cell_type": "markdown",
   "metadata": {
    "id": "qfK7Ki5CrhY9"
   },
   "source": [
    "Let's check a few rows from each dataframe"
   ]
  },
  {
   "cell_type": "code",
   "execution_count": null,
   "metadata": {
    "colab": {
     "base_uri": "https://localhost:8080/",
     "height": 231
    },
    "id": "PFsayuqqVI5_",
    "outputId": "d5dd794b-5df3-4c9d-c88c-52d46ff5566b"
   },
   "outputs": [],
   "source": [
    "df_2019.sample(5)"
   ]
  },
  {
   "cell_type": "code",
   "execution_count": null,
   "metadata": {
    "colab": {
     "base_uri": "https://localhost:8080/",
     "height": 247
    },
    "id": "j8FqriChVI77",
    "outputId": "f894d068-3392-42d1-dda7-8400b16b6ac1"
   },
   "outputs": [],
   "source": [
    "df_2020.sample(5)"
   ]
  },
  {
   "cell_type": "code",
   "execution_count": null,
   "metadata": {
    "colab": {
     "base_uri": "https://localhost:8080/",
     "height": 247
    },
    "id": "KoXs1u0SVI_d",
    "outputId": "8448a03f-9f80-4209-b9ae-73004f128f8d"
   },
   "outputs": [],
   "source": [
    "df_2021.sample(5)"
   ]
  },
  {
   "cell_type": "markdown",
   "metadata": {
    "id": "OmbsyG40rok7"
   },
   "source": [
    "Let's also see where we stand in terms of Null values and data types"
   ]
  },
  {
   "cell_type": "code",
   "execution_count": null,
   "metadata": {
    "colab": {
     "base_uri": "https://localhost:8080/"
    },
    "id": "tPdtE1NyemnH",
    "outputId": "570d2c4c-5e88-4010-a9c3-2ee72cb445ef"
   },
   "outputs": [],
   "source": [
    "df_2019.info()\n",
    "df_2020.info()\n",
    "df_2021.info()\n"
   ]
  },
  {
   "cell_type": "markdown",
   "metadata": {
    "id": "qEN0bpewruOB"
   },
   "source": [
    "So, all good!"
   ]
  },
  {
   "cell_type": "markdown",
   "metadata": {
    "id": "6fzYHqLtv8mz"
   },
   "source": [
    "Notice that there is no 'year' column in any of the dataframe. As your first task, append an appropriate 'year' column in each dataframe."
   ]
  },
  {
   "cell_type": "markdown",
   "metadata": {
    "id": "z29LkspewNRn"
   },
   "source": [
    "**Q1.** Add a column 'year' in each dataframe. It must correspond to the year for which the data is represented. (2)"
   ]
  },
  {
   "cell_type": "code",
   "execution_count": null,
   "metadata": {
    "id": "Saef0Mu5i5XZ"
   },
   "outputs": [],
   "source": [
    "#Add code here"
   ]
  },
  {
   "cell_type": "code",
   "execution_count": null,
   "metadata": {},
   "outputs": [],
   "source": [
    "grader.check(\"q1\")"
   ]
  },
  {
   "cell_type": "markdown",
   "metadata": {
    "id": "lGMmDh941L-y"
   },
   "source": [
    "**Q2.** Next, find the count of universities in each region that made it to the Top 100 each year. Print all of them in the same cell. (2)\n",
    "<br> You will have three aggregated objects. Name them a,b,c for data belonging to 2019,2020,2021 respectively."
   ]
  },
  {
   "cell_type": "code",
   "execution_count": null,
   "metadata": {
    "id": "VgN0f8IdxwoS"
   },
   "outputs": [],
   "source": [
    "#Add code here"
   ]
  },
  {
   "cell_type": "code",
   "execution_count": null,
   "metadata": {},
   "outputs": [],
   "source": [
    "grader.check(\"q2\")"
   ]
  },
  {
   "cell_type": "markdown",
   "metadata": {
    "id": "IbC-ODBeVgD7"
   },
   "source": [
    "**Q3.** Using your answer to the previous question, visualize the count of universities in each region that made it to the Top 100 (for the year 2021). Note: you have to use a suitable visualization. (3)"
   ]
  },
  {
   "cell_type": "code",
   "execution_count": null,
   "metadata": {},
   "outputs": [],
   "source": [
    "#Add code here"
   ]
  },
  {
   "cell_type": "markdown",
   "metadata": {
    "id": "Axa3FzCDZFRJ"
   },
   "source": [
    "**Q4.** Sort the 2020 dataframe based on overall score in an ascending order. (1)"
   ]
  },
  {
   "cell_type": "code",
   "execution_count": null,
   "metadata": {
    "id": "FjmBadCcY7vB"
   },
   "outputs": [],
   "source": [
    "#Add code here"
   ]
  },
  {
   "cell_type": "code",
   "execution_count": null,
   "metadata": {},
   "outputs": [],
   "source": [
    "grader.check(\"q4\")"
   ]
  },
  {
   "cell_type": "markdown",
   "metadata": {
    "id": "Axa3FzCDZFRJ"
   },
   "source": [
    "**Q5.** Drop the rank column from all dataframes (2019,2020,2021). (1)"
   ]
  },
  {
   "cell_type": "code",
   "execution_count": null,
   "metadata": {},
   "outputs": [],
   "source": [
    "#Add code here"
   ]
  },
  {
   "cell_type": "code",
   "execution_count": null,
   "metadata": {},
   "outputs": [],
   "source": [
    "grader.check(\"q5\")"
   ]
  },
  {
   "cell_type": "markdown",
   "metadata": {
    "id": "Axa3FzCDZFRJ"
   },
   "source": [
    "**Q6.** Create a new dataframe called \"USA_2020\", containing only universities which belong to the USA region from 2020 dataframe. Remove the 'year' and 'region' column from this dataframe. (2)"
   ]
  },
  {
   "cell_type": "code",
   "execution_count": null,
   "metadata": {},
   "outputs": [],
   "source": [
    "#Add code here"
   ]
  },
  {
   "cell_type": "code",
   "execution_count": null,
   "metadata": {},
   "outputs": [],
   "source": [
    "grader.check(\"q6\")"
   ]
  },
  {
   "cell_type": "markdown",
   "metadata": {
    "id": "Axa3FzCDZFRJ"
   },
   "source": [
    "**Q7.** In the 'USA_2020' dataframe, make the 'university' column the index of the dataframe. (2)"
   ]
  },
  {
   "cell_type": "code",
   "execution_count": null,
   "metadata": {},
   "outputs": [],
   "source": [
    "#Add code here"
   ]
  },
  {
   "cell_type": "code",
   "execution_count": null,
   "metadata": {},
   "outputs": [],
   "source": [
    "grader.check(\"q7\")"
   ]
  },
  {
   "cell_type": "markdown",
   "metadata": {
    "id": "Axa3FzCDZFRJ"
   },
   "source": [
    "**Q8.** Using only the following attributes: 'academic reputation','employer reputation','faculty student','international faculty','international students','citations per faculty','overall score'. <br> Represent USA_2020 dataframe using a box and whisker plot. Do you observe any anomalies in any of them? (8)\n",
    "<br>**Note:** They should be in the same cell, but not necessarily in the same figure.<br>"
   ]
  },
  {
   "cell_type": "code",
   "execution_count": null,
   "metadata": {},
   "outputs": [],
   "source": [
    "#Add code here"
   ]
  },
  {
   "cell_type": "markdown",
   "metadata": {
    "id": "BSOav3W5NRsq"
   },
   "source": [
    "**Q9.** Create a new dataframe called \"USUK_2021\". This dataframe will contain all universities in the \"USA\" and \"UK\" region. Once created, remove the 'year' and 'rank' column. Also, set the index of the \"USUK_2021 to the \"university\" column. (3)<br>\n",
    "**Note:** Very similar to Question 6 and the data to be used should belong to 2021 and not 2020."
   ]
  },
  {
   "cell_type": "code",
   "execution_count": null,
   "metadata": {},
   "outputs": [],
   "source": [
    "#Add code here"
   ]
  },
  {
   "cell_type": "code",
   "execution_count": null,
   "metadata": {},
   "outputs": [],
   "source": [
    "grader.check(\"q9\")"
   ]
  },
  {
   "cell_type": "markdown",
   "metadata": {
    "id": "BSOav3W5NRsq"
   },
   "source": [
    "**Q10.** Represent all the attributes in the USUK_2021 dataframe using a scatter plot. Do you observe any general trend? (5+2) <br>\n",
    "**Note:** They should be in the same cell, but not necessarily in the same figure.<br>"
   ]
  },
  {
   "cell_type": "code",
   "execution_count": null,
   "metadata": {
    "id": "4ktkGSpsNHMj"
   },
   "outputs": [],
   "source": [
    "#Add code here"
   ]
  },
  {
   "cell_type": "markdown",
   "metadata": {
    "id": "KGMiTjo_TP-f"
   },
   "source": [
    "Let's finally look at an useful tool to get an idea about how different variables are corelated to each other. We call it a **correlation matrix** <br>\n",
    "A correlation matrix provides a correlation coefficient (a number between -1 and 1) that tells how strongly two variables are correlated. Values closer to -1 mean strong negative correlation whereas values closer to 1 mean strong positve correlation. Values closer to 0 show variables having no or little correlation. <br>\n",
    "\n",
    "**Q11.** Plot a correlation matrix to see how each variable is correlated to another. You can use the data from df_2019 . (3) <br> Provide a reasonable interpretation of the values obtained in the Correlation matrix. (1)"
   ]
  },
  {
   "cell_type": "code",
   "execution_count": null,
   "metadata": {},
   "outputs": [],
   "source": [
    "#Add code here"
   ]
  },
  {
   "cell_type": "markdown",
   "metadata": {
    "id": "MaxAZRjw8iPH"
   },
   "source": [
    "**How employable are you if you attend one of the top ten universities in the world? Let's find out.** <br><br>\n",
    "**Q12.** Create a smaller dataframe which has the top ten universities from each year (based on overall score). Remove all columns except the 'employer reputation' column. We will be evaluating the top ten universities based on their employer reputation scores. Name the resultant dataframe, \"resultant_df\". (3) <br>\n",
    "Hint: \n",
    "\n",
    "*   There will be four columns in the dataframe you make. One for the university name and the other three for their employer reputation scores across three years' data.\n",
    "*   The top ten universities are same across the three years (by overall scores). Only their rankings differ.\n",
    "*   Use the merge function. You can read more about how to use it in the documentation: https://pandas.pydata.org/pandas-docs/stable/reference/api/pandas.DataFrame.merge.html\n",
    "*   Shape of the resultant dataframe should be (10, 4)\n",
    "\n",
    "\n",
    "\n",
    "\n"
   ]
  },
  {
   "cell_type": "code",
   "execution_count": null,
   "metadata": {},
   "outputs": [],
   "source": [
    "#Add code here"
   ]
  },
  {
   "cell_type": "code",
   "execution_count": null,
   "metadata": {},
   "outputs": [],
   "source": [
    "grader.check(\"q12\")"
   ]
  },
  {
   "cell_type": "markdown",
   "metadata": {
    "id": "AsUyz-3C-N8-"
   },
   "source": [
    "**As you noticed that when you merged, Pandas auto-assigned the column names. Let's change them.** <br><br>\n",
    "**Q13.** For the columns representing scores, rename them such that they describe the data that the column holds. (3)"
   ]
  },
  {
   "cell_type": "code",
   "execution_count": null,
   "metadata": {
    "id": "Adlg9ODa-pPe"
   },
   "outputs": [],
   "source": [
    "#Add code here"
   ]
  },
  {
   "cell_type": "code",
   "execution_count": null,
   "metadata": {},
   "outputs": [],
   "source": [
    "grader.check(\"q13\")"
   ]
  },
  {
   "cell_type": "markdown",
   "metadata": {
    "id": "2mWkHs133oon"
   },
   "source": [
    "**Q14.** Draw a suitable plot to show how the employer reputation scores of the Top 10 universities varied over the three years. Clearly label your graph and attach a legend. Add a reasonable interpretation of the plot as comments in your code below. (4)<br> <br>\n",
    "Note 1: All universities must be in the same plot.<br>\n",
    "Note 2: Your graph should be clear and legend should be placed suitably .\n",
    "\n"
   ]
  },
  {
   "cell_type": "code",
   "execution_count": null,
   "metadata": {
    "id": "9sJ3Rs9RL25I"
   },
   "outputs": [],
   "source": [
    "#Add code here"
   ]
  },
  {
   "cell_type": "markdown",
   "metadata": {
    "id": "2mWkHs133oon"
   },
   "source": [
    "**This question is about Kernel density estimates (KDE). Please refer to your slides if you do not understand this concept properly. <br> <br>\n",
    "**Q15.** Plot the Kernel density estimate (KDE) of all attributes of score from the USUK2021 dataframe. (5) <br>\n",
    "\n",
    "**Note 1:** If you think there is any variable that does not need to be plotted, leave a rationale for it in the form of a comment before the graphs code.<br>\n",
    "**Note 2:** There should be just one figure having all the plots. Make a suitable legend alongside.\n",
    "\n"
   ]
  },
  {
   "cell_type": "code",
   "execution_count": null,
   "metadata": {},
   "outputs": [],
   "source": [
    "#Add code here"
   ]
  },
  {
   "cell_type": "markdown",
   "metadata": {
    "id": "2mWkHs133oon"
   },
   "source": [
    "**You have reached the end of this assignment. Please check whether you have labelled all axes, titles, legends etc. These will carry a good weightage of marks. Have a good day!**\n",
    "\n"
   ]
  }
 ],
 "metadata": {
  "colab": {
   "collapsed_sections": [],
   "name": "A2_2.ipynb",
   "provenance": []
  },
  "kernelspec": {
   "display_name": "Python 3",
   "language": "python",
   "name": "python3"
  },
  "language_info": {
   "codemirror_mode": {
    "name": "ipython",
    "version": 3
   },
   "file_extension": ".py",
   "mimetype": "text/x-python",
   "name": "python",
   "nbconvert_exporter": "python",
   "pygments_lexer": "ipython3",
   "version": "3.8.3"
  }
 },
 "nbformat": 4,
 "nbformat_minor": 1
}
