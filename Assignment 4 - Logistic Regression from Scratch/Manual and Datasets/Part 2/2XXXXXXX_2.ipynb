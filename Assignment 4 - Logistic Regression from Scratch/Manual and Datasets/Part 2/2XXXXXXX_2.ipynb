{
 "cells": [
  {
   "cell_type": "markdown",
   "metadata": {
    "id": "FQx45TI12rL6"
   },
   "source": [
    "# Part 2"
   ]
  },
  {
   "cell_type": "markdown",
   "metadata": {
    "id": "u4Cfym-eIw5A"
   },
   "source": [
    "In Part 1 of this assignment, we looked at Linear Regression and built a model from scratch. In practice, we usually do not build models from scratch, but use already available ones. Scikit-Learn provides a vast variety of models. You can have a look at a few different options available here (completely optional): <br>\n",
    "* Overall Supervised Learning: https://scikit-learn.org/stable/supervised_learning.html <br>\n",
    "* Classification: https://scikit-learn.org/stable/auto_examples/classification/plot_classifier_comparison.html <br> \n",
    "\n",
    "Feel free to explore other models available in scikit learn. "
   ]
  },
  {
   "cell_type": "markdown",
   "metadata": {},
   "source": [
    "### Context"
   ]
  },
  {
   "cell_type": "markdown",
   "metadata": {
    "id": "wJ3ZNeGyJvn8"
   },
   "source": [
    "The tech industry has observed a tremendous rise over the past decade whereby its growing advancements have made it a dream workplace for people around the globe. Consequently, a large influx of employees is observed in the tech-industry every year. However, the competitive and fast-paced environment does offer its own consequences. It is time to analyze the prevalence of mental health issues faced by employees in tech companies and the factors affecting them.\n",
    "\n",
    "In this Part, we will use a dataset called **Mental Health in Tech Companies** and check if we could use features related to work environment and other work-related factors of a tech employ to predict whether they suffer from mental health issues or not. "
   ]
  },
  {
   "cell_type": "code",
   "execution_count": null,
   "metadata": {
    "id": "P-gLgjasAayv"
   },
   "outputs": [],
   "source": [
    "# Importing libraries\n",
    "import pandas as pd\n",
    "import numpy as np\n",
    "import matplotlib.pyplot as plt\n",
    "from matplotlib import pyplot\n",
    "import seaborn as sns"
   ]
  },
  {
   "cell_type": "markdown",
   "metadata": {
    "id": "aESlewZZLjbm"
   },
   "source": [
    "**Question 0 (a):** To make things easier, you have been provided with cleaned dataset in data_tech.pkl (a pickle file). Read the file into the dataframe data_tech.\n",
    "\n",
    "**Note:** You may need to further clean and modify the dataframe based on your model/choice of features.  "
   ]
  },
  {
   "cell_type": "code",
   "execution_count": null,
   "metadata": {
    "id": "DM-CXhjRAbv5"
   },
   "outputs": [],
   "source": [
    "data_tech = ...\n",
    "data_tech.head(5)"
   ]
  },
  {
   "cell_type": "markdown",
   "metadata": {},
   "source": [
    "**Question 0 (b):** Since selecting features is an important part of creating of your model, you should have a clear idea about the different columns in the dataset. Read the column descriptions from the file columns.csv into the dataframe columns and understand them. Now analyze them in data_tech using an relevant techniques. You may want to do some additional data cleaning and EDA \n",
    "\n",
    "**Hint:** functions like .info(), .describe() etc might be helpful. You can also have a look at the concepts used in Assignment 2/EDA Phase"
   ]
  },
  {
   "cell_type": "code",
   "execution_count": null,
   "metadata": {},
   "outputs": [],
   "source": [
    "columns = ...\n",
    "# Write EDA code here"
   ]
  },
  {
   "cell_type": "markdown",
   "metadata": {},
   "source": [
    "Now that you have familiarzied yourself with the dataset, it is time to create your model!"
   ]
  },
  {
   "cell_type": "markdown",
   "metadata": {
    "id": "5zNuo0GLL83y"
   },
   "source": [
    "### Feature Engineering"
   ]
  },
  {
   "cell_type": "markdown",
   "metadata": {
    "id": "6Ic3tGKHBhOK"
   },
   "source": [
    "We want to make use of our features to predict whether an employee in the tech-industry would have mental health issues or not. \n",
    "Before making use of our features to predict whether an employee in the tech-industry would have mental health issues or not, we need to transform our raw features into new numerical/encoded features that the model could interpret i.e., we will start with feature engineering."
   ]
  },
  {
   "cell_type": "markdown",
   "metadata": {
    "id": "BdLs261uUbBi"
   },
   "source": [
    "**Question 1:** Choose your own attributes that you would like to have in your feature set. Encode them into numerical values. This can be a iterative step, therefore, feel free to come back to this question and add/remove features.\n",
    "\n",
    "**Hint:** You can use any encoding technique, either manually or using libraries like scikit learn. "
   ]
  },
  {
   "cell_type": "code",
   "execution_count": null,
   "metadata": {
    "id": "X_rs8ffLAhJi"
   },
   "outputs": [],
   "source": [
    "# Enter Code here"
   ]
  },
  {
   "cell_type": "markdown",
   "metadata": {
    "id": "d_DOSPbWmstv"
   },
   "source": [
    "**Question 2:** Create a correlation matrix to see how do your selected features correlate with each other and **the test attribute**. "
   ]
  },
  {
   "cell_type": "code",
   "execution_count": null,
   "metadata": {
    "id": "juMnm0JemsLr"
   },
   "outputs": [],
   "source": [
    "# Enter Code here"
   ]
  },
  {
   "cell_type": "markdown",
   "metadata": {
    "id": "yEX41qniWQqi"
   },
   "source": [
    "**Question 3:** Next, we want to create our feature set and our label vector. Extract your chosen attributes from the dataframe and create a feature set. Similarly, create a label vector. Decide which column will be appropriate to act as a label vector. Give reasoning for your choice of both the feature set and test vector at the end of the cell as comments. Also comment on the shape of both of them."
   ]
  },
  {
   "cell_type": "code",
   "execution_count": null,
   "metadata": {
    "id": "ySAWVYq8AoQA"
   },
   "outputs": [],
   "source": [
    "# Enter Code here\n",
    "Feature_set = ...\n",
    "Label = ...\n",
    "\n",
    "# Reasoning about Feature Set:\n",
    "\n",
    "# Reasoning about Test Label:\n",
    "\n",
    "# Comments about shape of feature set and test label"
   ]
  },
  {
   "cell_type": "code",
   "execution_count": null,
   "metadata": {
    "id": "nyOTAO8wAq2x"
   },
   "outputs": [],
   "source": [
    "print(\"The Feature Set of our Model:\\n\\n\",Feature_set)"
   ]
  },
  {
   "cell_type": "code",
   "execution_count": null,
   "metadata": {
    "id": "YESAxPBWAs9l"
   },
   "outputs": [],
   "source": [
    "print(\"Labels:\",Label)"
   ]
  },
  {
   "cell_type": "markdown",
   "metadata": {
    "id": "ut9oO2MS4CJ_"
   },
   "source": [
    "### Creating the Model"
   ]
  },
  {
   "cell_type": "markdown",
   "metadata": {
    "id": "DpYrdrQ22BwR"
   },
   "source": [
    "Unlike the previous part, this is not a simple linear regression problem. This is a classification problem. Lets apply a **K-Nearest Neighbor Model** to it. The application of KNN Classifier via scikit learn is similar to the application of other models that have been covered in class (e.g., Linear Regression). It is, however, recommended to read up about knn using the resources mentioned below:\n",
    "\n",
    "K-nearest neighbors (KNN) algorithm is a type of supervised ML algorithm which can be used for both classification as well as regression predictive problems. However, it is mainly used for classification predictive problems in industry. K-nearest neighbors (KNN) algorithm uses ‘feature similarity’ to predict the values of new datapoints which further means that the new data point will be assigned a value based on how closely it matches the points in the training set.\n",
    "You can read more on KNNs from this documentation. It will also help you build the model ahead:\n",
    "\n",
    "https://scikit-learn.org/stable/modules/generated/sklearn.neighbors.KNeighborsClassifier.html"
   ]
  },
  {
   "cell_type": "markdown",
   "metadata": {
    "id": "ARYiCcCP2OER"
   },
   "source": [
    "**Importing Scikit Learn Libraries**"
   ]
  },
  {
   "cell_type": "code",
   "execution_count": null,
   "metadata": {
    "id": "_GPOifEvAvJ1"
   },
   "outputs": [],
   "source": [
    "from sklearn import metrics #Import scikit-learn metrics module for accuracy calculation\n",
    "from sklearn.model_selection import train_test_split # For splitting dataset\n",
    "from sklearn.metrics import accuracy_score, f1_score, precision_score, recall_score, classification_report, multilabel_confusion_matrix # Evaluation metrics\n",
    "from sklearn.neighbors import KNeighborsClassifier # KNN Classifier"
   ]
  },
  {
   "cell_type": "markdown",
   "metadata": {
    "id": "INIuBqGjMRnK"
   },
   "source": [
    "**Splitting Data**"
   ]
  },
  {
   "cell_type": "markdown",
   "metadata": {
    "id": "NKhvxoIk26Xc"
   },
   "source": [
    "To set up a model, you first have to split your data into train and test sets. We can do this manually, but that will not be an optimized approach and can include biases. Therefore, we have an in-built function for it: train_test_split <br> Read this documentation to see how to use it: <br> https://scikit-learn.org/stable/modules/generated/sklearn.model_selection.train_test_split.html\n"
   ]
  },
  {
   "cell_type": "markdown",
   "metadata": {},
   "source": [
    "**Question 4:** Split the data into train and set into a split ratio of your choice. Also, provide a reason of the selection split ratio.\n",
    "**Hint:** It is a one-liner!"
   ]
  },
  {
   "cell_type": "code",
   "execution_count": null,
   "metadata": {
    "id": "JLj5Y-PRAy5w"
   },
   "outputs": [],
   "source": [
    "# Split dataset into training set and test set. Choose the test_size parameter yourself. \n",
    "\n",
    "X_train = ...\n",
    "X_test = ...\n",
    "y_train = ...\n",
    "y_test = ...\n",
    "\n",
    "# Reasoning for selected split ratio:\n",
    "\n",
    "# Printing shapes\n",
    "print ('Train set:', X_train.shape,  y_train.shape)\n",
    "print ('Test set:', X_test.shape,  y_test.shape)"
   ]
  },
  {
   "cell_type": "markdown",
   "metadata": {
    "id": "uFvSJ06H31-W"
   },
   "source": [
    "**Question 5:** Now let's create the KNN classifier. Follow the guidelines below to create, fit, and make predictions using your initial classifier. Refer to the KNN documentation for help. Then calculate the accuracy of the classifier."
   ]
  },
  {
   "cell_type": "code",
   "execution_count": null,
   "metadata": {
    "id": "ZRsTchkgA2_8"
   },
   "outputs": [],
   "source": [
    "# Create KNN Classifier. Keep any value of K for now e.g. 3,5,7...\n",
    "\n",
    "# Train the model using the training sets\n",
    "\n",
    "# Predict the response for test dataset\n",
    "y_pred = ..."
   ]
  },
  {
   "cell_type": "markdown",
   "metadata": {
    "id": "Aev8MeoX4YpN"
   },
   "source": [
    "We can now calculate the initial accuracy of our model. Remember that we have not optimized any parameters yet."
   ]
  },
  {
   "cell_type": "code",
   "execution_count": null,
   "metadata": {
    "id": "7ceXdvC_A6sx"
   },
   "outputs": [],
   "source": [
    "# Model Accuracy, how often is the classifier correct?\n",
    "Accuracy = ...\n",
    "print(\"Accuracy in Percentage:\", Accuracy)"
   ]
  },
  {
   "cell_type": "markdown",
   "metadata": {},
   "source": [
    "There is no right or wrong answer wrt accuracy and how high it should be. However, if your accuracy is very low, try reitering/ improving features etc. "
   ]
  },
  {
   "cell_type": "markdown",
   "metadata": {
    "id": "x09c8u-kBUx3"
   },
   "source": [
    "### Optimization"
   ]
  },
  {
   "cell_type": "markdown",
   "metadata": {
    "id": "YFWSKJQkBNCe"
   },
   "source": [
    "One of the main parameters for KNN is the number of neighbors. We want to find out for which value of K will the loss be minimized. To do that, we create models for varying values of K, and plot a graph of Error Rate against Number of Neighbors."
   ]
  },
  {
   "cell_type": "code",
   "execution_count": null,
   "metadata": {
    "id": "VFZevLp7A-bT"
   },
   "outputs": [],
   "source": [
    "# No changes are needed in this cell. However, you can change the variable names etc.\n",
    "error_rate = []\n",
    "\n",
    "for i in range(1,20): \n",
    "    knn = KNeighborsClassifier(n_neighbors=i)\n",
    "    knn.fit(X_train,y_train)\n",
    "    y_pred = knn.predict(X_test)\n",
    "    error_rate.append(np.mean(y_pred != y_test))\n",
    "\n",
    "plt.figure(figsize=(8,5))\n",
    "plt.plot(range(1,20),error_rate,color='blue', linestyle='dashed', marker='o',markerfacecolor='red', markersize=10)\n",
    "plt.title('Error Rate vs. K Value')\n",
    "plt.xlabel('Number of Neighbors-K')\n",
    "plt.ylabel('Error Rate')\n",
    "plt.show()\n",
    "\n",
    "min_val = 1+error_rate.index(min(error_rate))\n",
    "print(\"Minimum error: \",np.around(min(error_rate),decimals=5),\"at K =\", min_val)"
   ]
  },
  {
   "cell_type": "markdown",
   "metadata": {
    "id": "BrvkAea65cQz"
   },
   "source": [
    "**Question 6:** Now that you know the optimum value for K, create another model using this value. Also predict using X_train (as well as X_test) and store their results in separate variables. We will use that in the next question. <br>"
   ]
  },
  {
   "cell_type": "code",
   "execution_count": null,
   "metadata": {
    "id": "nOqDO2BmBXWe"
   },
   "outputs": [],
   "source": [
    "# Create KNN Classifier\n",
    "\n",
    "# Train the model using the training sets\n",
    "\n",
    "# Predict the response for Test data\n",
    "\n",
    "# Predict the response for Train data"
   ]
  },
  {
   "cell_type": "markdown",
   "metadata": {
    "id": "3lGL1sfQ7Mep"
   },
   "source": [
    "### Evaluation Metrics"
   ]
  },
  {
   "cell_type": "markdown",
   "metadata": {
    "id": "xpd7Px1FEv3q"
   },
   "source": [
    "**Question 7:**  The final part of the modelling process is evaluation of the model. There a different metrices that we can use to do so. Scikit Learn has in-built functions for calculating each metric. Look up for these functions and print the following: \n",
    "\n",
    "*   Train Accuracy\n",
    "*   Test Accuracy\n",
    "*   F1 Score\n",
    "*   Precision\n",
    "*   Recall"
   ]
  },
  {
   "cell_type": "code",
   "execution_count": null,
   "metadata": {
    "id": "NCAkP0jh64bS"
   },
   "outputs": [],
   "source": [
    "# Enter Code here"
   ]
  },
  {
   "cell_type": "markdown",
   "metadata": {
    "id": "cjtaaTspCOfQ"
   },
   "source": [
    "**Question 8:** As a final exercise, we want to summarize our prediction results using a confusion matrix. Create and display a confusion matrix that shows the test predictions. Again, use sklearn's built in function for the purpose.\n",
    "\n",
    "**Note:** Do not forget to label the plot properly."
   ]
  },
  {
   "cell_type": "code",
   "execution_count": null,
   "metadata": {
    "id": "GVEoBVDUG5rQ"
   },
   "outputs": [],
   "source": [
    "# Enter Code here"
   ]
  },
  {
   "cell_type": "markdown",
   "metadata": {
    "id": "mtFjoPEiDKSu"
   },
   "source": [
    "**Question 9:** Do the above results validate the accuracy, recall, and precision scores that you received in **Question 7**? <br>Manually calculate the accuracy, precision, and recall of the test predicitions. Do not forget to state the formula you used for each."
   ]
  },
  {
   "cell_type": "markdown",
   "metadata": {
    "id": "ccJgCXwQFdaj"
   },
   "source": [
    "Enter Answer here"
   ]
  },
  {
   "cell_type": "markdown",
   "metadata": {},
   "source": [
    "### Yayy, Good Job!"
   ]
  },
  {
   "cell_type": "markdown",
   "metadata": {
    "id": "gOus2E72Ff7j"
   },
   "source": [
    "Congratulations! You have successfully completed your assignment on creating machine learning models. In this part, we saw how implementations are already available in libraries such as Scikit Learn, which streamlines the entire process of machine learning. Various parameters can also be tuned in order to increase performances. <br> We hope that you enjoyed this assignment, and have gained some hands on experience of building machine learning models and classifiers. <br> \n",
    "\n",
    "This also wraps up CS334's assignments. Good job and all the best for the remaining semester! :')"
   ]
  }
 ],
 "metadata": {
  "colab": {
   "collapsed_sections": [],
   "name": "A4_2_(Release Version).ipynb",
   "provenance": []
  },
  "kernelspec": {
   "display_name": "Python 3",
   "language": "python",
   "name": "python3"
  },
  "language_info": {
   "codemirror_mode": {
    "name": "ipython",
    "version": 3
   },
   "file_extension": ".py",
   "mimetype": "text/x-python",
   "name": "python",
   "nbconvert_exporter": "python",
   "pygments_lexer": "ipython3",
   "version": "3.8.3"
  }
 },
 "nbformat": 4,
 "nbformat_minor": 1
}
