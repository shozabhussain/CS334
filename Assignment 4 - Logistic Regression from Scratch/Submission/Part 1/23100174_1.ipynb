{
 "cells": [
  {
   "cell_type": "code",
   "execution_count": 88,
   "metadata": {},
   "outputs": [],
   "source": [
    "# Initialize Otter\n",
    "import otter\n",
    "grader = otter.Notebook()"
   ]
  },
  {
   "cell_type": "markdown",
   "metadata": {},
   "source": [
    "## **Assignment Instructions**\n"
   ]
  },
  {
   "cell_type": "markdown",
   "metadata": {},
   "source": [
    "* **How to install 'otter'**: Run `pip install otter-grader` in your Anaconda Command Prompt\n",
    "* **Otter**: It is an autograder that we will be using for grading your notebooks.\n",
    "* **grader.check('qn')**: This command runs test cases for nth question `qn` provided to you and displays the result. But these are not the only test cases, these are provided just for your basic testing. There will be some *hidden test cases* on which your answers will be tested as well.\n",
    "* You are **not** allowed to edit any pre-defined variables and as per the instructions for every question you have to assign your answers to these variables.\n",
    "* Write your answers in place of `...` where prompted\n",
    "* **Ignore the last cell**\n",
    "* **How to run this on google colab**: Uncomment the below code and replace wherever necessary to run this assignment on google colab (only if you want to - jupyter notebooks work just fine)"
   ]
  },
  {
   "cell_type": "code",
   "execution_count": 89,
   "metadata": {},
   "outputs": [],
   "source": [
    "#Linking google colab to your drive folder\n",
    "#from google.colab import drive\n",
    "#drive.mount('/content/gdrive', force_remount=True)\n",
    "\n",
    "#Replace 'Assignment 4 DS' with the path of the folder of your assignment\n",
    "#%cd /content/gdrive/My\\ Drive/Assignment 4 DS"
   ]
  },
  {
   "cell_type": "markdown",
   "metadata": {},
   "source": [
    "## **Submission Instructions**"
   ]
  },
  {
   "cell_type": "markdown",
   "metadata": {},
   "source": [
    "* There are two parts of this assignment. You should name both notebooks as **YourRollNumber_PartNumber.ipynb**. (e.g. this part should be named as *`2XXXXXXX_1.ipynb`*)\n",
    "* You must submit a zip file containg just two notebooks and it must not has any folder or any other file. \n",
    "* The name of the ZIP file must be your `Roll Number`"
   ]
  },
  {
   "cell_type": "markdown",
   "metadata": {},
   "source": [
    "## Grading"
   ]
  },
  {
   "cell_type": "markdown",
   "metadata": {},
   "source": [
    "Grading is broken down into autograded answers and free response.\n",
    "\n",
    "* For autograded answers, the results of your code are compared to provided and/or hidden tests.\n",
    "* There are default assignments in some questions, storing the state of the dataframes at the time of that particular question in '*#_q#*' variables. Do NOT change any of these assignments as they are used by the auto-grader to check your answers.\n",
    "* For free response, readers will evaluate how well you answered the question and/or fulfilled the requirements of the question.\n",
    "\n",
    "* **Note that for ALL plotting questions from here on out, we will expect appropriate titles, axis labels, legends, etc. The following question serves as a good guideline on what is \"enough\": If I directly downloaded the plot and viewed it, would I be able to tell what was being visualized without knowing the question?**"
   ]
  },
  {
   "cell_type": "markdown",
   "metadata": {},
   "source": [
    "## Introduction\n",
    "\n",
    "You decide to buy a home but you are currently facing a paradox of choice - there are just too many ways of customizing it and so many options available! Do you want it to be in a busy town? In a forest? Do you want to have a basement? Or perhaps 3 stories instead? Or both? Or maybe you want a large parking area...\n",
    "\n",
    "The choices are endless, unlike your budget (unfortunately). Therefore, you decide to build a regression model which can take all such factors as input and perhaps give you some clue of just how much can you aim for - yes you do have real estate agencies for this kind of stuff but having learned what regression can do, you feel very powerful at the moment and so decide to take it into your own hands. \n",
    "\n",
    "To build such a model, you need a dataset on which this model can be trained. Luckily, there is a dataset available which can help you in answering some of your wishes.\n",
    "\n",
    "The dataset consists of information regarding home prices, along with the information of a number of other factors. The target variable is price and your task is to build a multiple linear regression model to help you predict prices and find the perfect future home for your budget."
   ]
  },
  {
   "cell_type": "code",
   "execution_count": 90,
   "metadata": {},
   "outputs": [],
   "source": [
    "import numpy as np\n",
    "import pandas as pd\n",
    "import seaborn as sns\n",
    "import matplotlib.pyplot as plt\n",
    "from matplotlib import pyplot\n",
    "\n",
    "from sklearn.model_selection import train_test_split\n",
    "from sklearn.preprocessing import StandardScaler"
   ]
  },
  {
   "cell_type": "code",
   "execution_count": 91,
   "metadata": {},
   "outputs": [],
   "source": [
    "df_data = pd.read_csv('data.csv')"
   ]
  },
  {
   "cell_type": "code",
   "execution_count": 92,
   "metadata": {},
   "outputs": [
    {
     "data": {
      "text/html": [
       "<div>\n",
       "<style scoped>\n",
       "    .dataframe tbody tr th:only-of-type {\n",
       "        vertical-align: middle;\n",
       "    }\n",
       "\n",
       "    .dataframe tbody tr th {\n",
       "        vertical-align: top;\n",
       "    }\n",
       "\n",
       "    .dataframe thead th {\n",
       "        text-align: right;\n",
       "    }\n",
       "</style>\n",
       "<table border=\"1\" class=\"dataframe\">\n",
       "  <thead>\n",
       "    <tr style=\"text-align: right;\">\n",
       "      <th></th>\n",
       "      <th>price</th>\n",
       "      <th>area</th>\n",
       "      <th>bedrooms</th>\n",
       "      <th>bathrooms</th>\n",
       "      <th>stories</th>\n",
       "      <th>mainroad</th>\n",
       "      <th>guestroom</th>\n",
       "      <th>basement</th>\n",
       "      <th>hotwaterheating</th>\n",
       "      <th>airconditioning</th>\n",
       "      <th>parking</th>\n",
       "      <th>prefarea</th>\n",
       "      <th>furnishingstatus</th>\n",
       "    </tr>\n",
       "  </thead>\n",
       "  <tbody>\n",
       "    <tr>\n",
       "      <th>0</th>\n",
       "      <td>13300000</td>\n",
       "      <td>7420</td>\n",
       "      <td>4</td>\n",
       "      <td>2</td>\n",
       "      <td>3</td>\n",
       "      <td>yes</td>\n",
       "      <td>no</td>\n",
       "      <td>no</td>\n",
       "      <td>no</td>\n",
       "      <td>yes</td>\n",
       "      <td>2</td>\n",
       "      <td>yes</td>\n",
       "      <td>furnished</td>\n",
       "    </tr>\n",
       "    <tr>\n",
       "      <th>1</th>\n",
       "      <td>12250000</td>\n",
       "      <td>8960</td>\n",
       "      <td>4</td>\n",
       "      <td>4</td>\n",
       "      <td>4</td>\n",
       "      <td>yes</td>\n",
       "      <td>no</td>\n",
       "      <td>no</td>\n",
       "      <td>no</td>\n",
       "      <td>yes</td>\n",
       "      <td>3</td>\n",
       "      <td>no</td>\n",
       "      <td>furnished</td>\n",
       "    </tr>\n",
       "    <tr>\n",
       "      <th>2</th>\n",
       "      <td>12250000</td>\n",
       "      <td>9960</td>\n",
       "      <td>3</td>\n",
       "      <td>2</td>\n",
       "      <td>2</td>\n",
       "      <td>yes</td>\n",
       "      <td>no</td>\n",
       "      <td>yes</td>\n",
       "      <td>no</td>\n",
       "      <td>no</td>\n",
       "      <td>2</td>\n",
       "      <td>yes</td>\n",
       "      <td>semi-furnished</td>\n",
       "    </tr>\n",
       "    <tr>\n",
       "      <th>3</th>\n",
       "      <td>12215000</td>\n",
       "      <td>7500</td>\n",
       "      <td>4</td>\n",
       "      <td>2</td>\n",
       "      <td>2</td>\n",
       "      <td>yes</td>\n",
       "      <td>no</td>\n",
       "      <td>yes</td>\n",
       "      <td>no</td>\n",
       "      <td>yes</td>\n",
       "      <td>3</td>\n",
       "      <td>yes</td>\n",
       "      <td>furnished</td>\n",
       "    </tr>\n",
       "    <tr>\n",
       "      <th>4</th>\n",
       "      <td>11410000</td>\n",
       "      <td>7420</td>\n",
       "      <td>4</td>\n",
       "      <td>1</td>\n",
       "      <td>2</td>\n",
       "      <td>yes</td>\n",
       "      <td>yes</td>\n",
       "      <td>yes</td>\n",
       "      <td>no</td>\n",
       "      <td>yes</td>\n",
       "      <td>2</td>\n",
       "      <td>no</td>\n",
       "      <td>furnished</td>\n",
       "    </tr>\n",
       "    <tr>\n",
       "      <th>...</th>\n",
       "      <td>...</td>\n",
       "      <td>...</td>\n",
       "      <td>...</td>\n",
       "      <td>...</td>\n",
       "      <td>...</td>\n",
       "      <td>...</td>\n",
       "      <td>...</td>\n",
       "      <td>...</td>\n",
       "      <td>...</td>\n",
       "      <td>...</td>\n",
       "      <td>...</td>\n",
       "      <td>...</td>\n",
       "      <td>...</td>\n",
       "    </tr>\n",
       "    <tr>\n",
       "      <th>540</th>\n",
       "      <td>1820000</td>\n",
       "      <td>3000</td>\n",
       "      <td>2</td>\n",
       "      <td>1</td>\n",
       "      <td>1</td>\n",
       "      <td>yes</td>\n",
       "      <td>no</td>\n",
       "      <td>yes</td>\n",
       "      <td>no</td>\n",
       "      <td>no</td>\n",
       "      <td>2</td>\n",
       "      <td>no</td>\n",
       "      <td>unfurnished</td>\n",
       "    </tr>\n",
       "    <tr>\n",
       "      <th>541</th>\n",
       "      <td>1767150</td>\n",
       "      <td>2400</td>\n",
       "      <td>3</td>\n",
       "      <td>1</td>\n",
       "      <td>1</td>\n",
       "      <td>no</td>\n",
       "      <td>no</td>\n",
       "      <td>no</td>\n",
       "      <td>no</td>\n",
       "      <td>no</td>\n",
       "      <td>0</td>\n",
       "      <td>no</td>\n",
       "      <td>semi-furnished</td>\n",
       "    </tr>\n",
       "    <tr>\n",
       "      <th>542</th>\n",
       "      <td>1750000</td>\n",
       "      <td>3620</td>\n",
       "      <td>2</td>\n",
       "      <td>1</td>\n",
       "      <td>1</td>\n",
       "      <td>yes</td>\n",
       "      <td>no</td>\n",
       "      <td>no</td>\n",
       "      <td>no</td>\n",
       "      <td>no</td>\n",
       "      <td>0</td>\n",
       "      <td>no</td>\n",
       "      <td>unfurnished</td>\n",
       "    </tr>\n",
       "    <tr>\n",
       "      <th>543</th>\n",
       "      <td>1750000</td>\n",
       "      <td>2910</td>\n",
       "      <td>3</td>\n",
       "      <td>1</td>\n",
       "      <td>1</td>\n",
       "      <td>no</td>\n",
       "      <td>no</td>\n",
       "      <td>no</td>\n",
       "      <td>no</td>\n",
       "      <td>no</td>\n",
       "      <td>0</td>\n",
       "      <td>no</td>\n",
       "      <td>furnished</td>\n",
       "    </tr>\n",
       "    <tr>\n",
       "      <th>544</th>\n",
       "      <td>1750000</td>\n",
       "      <td>3850</td>\n",
       "      <td>3</td>\n",
       "      <td>1</td>\n",
       "      <td>2</td>\n",
       "      <td>yes</td>\n",
       "      <td>no</td>\n",
       "      <td>no</td>\n",
       "      <td>no</td>\n",
       "      <td>no</td>\n",
       "      <td>0</td>\n",
       "      <td>no</td>\n",
       "      <td>unfurnished</td>\n",
       "    </tr>\n",
       "  </tbody>\n",
       "</table>\n",
       "<p>545 rows × 13 columns</p>\n",
       "</div>"
      ],
      "text/plain": [
       "        price  area  bedrooms  bathrooms  stories mainroad guestroom basement  \\\n",
       "0    13300000  7420         4          2        3      yes        no       no   \n",
       "1    12250000  8960         4          4        4      yes        no       no   \n",
       "2    12250000  9960         3          2        2      yes        no      yes   \n",
       "3    12215000  7500         4          2        2      yes        no      yes   \n",
       "4    11410000  7420         4          1        2      yes       yes      yes   \n",
       "..        ...   ...       ...        ...      ...      ...       ...      ...   \n",
       "540   1820000  3000         2          1        1      yes        no      yes   \n",
       "541   1767150  2400         3          1        1       no        no       no   \n",
       "542   1750000  3620         2          1        1      yes        no       no   \n",
       "543   1750000  2910         3          1        1       no        no       no   \n",
       "544   1750000  3850         3          1        2      yes        no       no   \n",
       "\n",
       "    hotwaterheating airconditioning  parking prefarea furnishingstatus  \n",
       "0                no             yes        2      yes        furnished  \n",
       "1                no             yes        3       no        furnished  \n",
       "2                no              no        2      yes   semi-furnished  \n",
       "3                no             yes        3      yes        furnished  \n",
       "4                no             yes        2       no        furnished  \n",
       "..              ...             ...      ...      ...              ...  \n",
       "540              no              no        2       no      unfurnished  \n",
       "541              no              no        0       no   semi-furnished  \n",
       "542              no              no        0       no      unfurnished  \n",
       "543              no              no        0       no        furnished  \n",
       "544              no              no        0       no      unfurnished  \n",
       "\n",
       "[545 rows x 13 columns]"
      ]
     },
     "execution_count": 92,
     "metadata": {},
     "output_type": "execute_result"
    }
   ],
   "source": [
    "df_data"
   ]
  },
  {
   "cell_type": "markdown",
   "metadata": {},
   "source": [
    "## **Data Cleaning & Pre-processing**\n",
    "\n",
    "**Question 1:** We will first examine our dataset using the shape and and summary function, also observing whether the dataset requires cleaning. Use the cell below to check if the dataset requires any. If so, feel free to do so.\n",
    "\n",
    "*Answering Guidelines:* Store your final dataset in the ```df_q1``` variable and the output of the functions in the appropriate variables after cleaning (if applicable).\n",
    "\n",
    "<!--\n",
    "BEGIN QUESTION\n",
    "name: q1\n",
    "points: 2\n",
    "-->"
   ]
  },
  {
   "cell_type": "code",
   "execution_count": 93,
   "metadata": {},
   "outputs": [],
   "source": [
    "df_shape = df_data.shape\n",
    "df_summary = df_data.describe()\n",
    "df_q1 = df_data.dropna()"
   ]
  },
  {
   "cell_type": "code",
   "execution_count": 94,
   "metadata": {},
   "outputs": [
    {
     "data": {
      "text/html": [
       "<p><strong><pre style='display: inline;'>q1</pre></strong> passed!</p>"
      ],
      "text/plain": [
       "q1 results: All test cases passed!"
      ]
     },
     "execution_count": 94,
     "metadata": {},
     "output_type": "execute_result"
    }
   ],
   "source": [
    "grader.check(\"q1\")"
   ]
  },
  {
   "cell_type": "markdown",
   "metadata": {},
   "source": [
    "<!-- BEGIN QUESTION -->\n",
    "\n",
    "**Question 2:** Use your understanding of data visualization to draw a suitable graph that will detect if any variable\n",
    "has outliers. Please remove the outliers from each variables if detected\n",
    "\n",
    "*Answering guidelines:* Follow the instructions given in the 'Grading' section with regards to plots. Make sure to draw boxplots for each variable. To understand what an outlier is, please read this: https://www.itl.nist.gov/div898/handbook/prc/section1/prc16.htm\n",
    "\n",
    "<!--\n",
    "BEGIN QUESTION\n",
    "name: q2\n",
    "points: 5\n",
    "manual: true\n",
    "-->"
   ]
  },
  {
   "cell_type": "code",
   "execution_count": 95,
   "metadata": {},
   "outputs": [
    {
     "data": {
      "image/png": "[encoded data removed]",
      "text/plain": [
       "<Figure size 1440x504 with 6 Axes>"
      ]
     },
     "metadata": {
      "needs_background": "light"
     },
     "output_type": "display_data"
    }
   ],
   "source": [
    "%matplotlib inline\n",
    "plt.figure(figsize=(20,7))\n",
    "\n",
    "columns_list = ['price', 'area', 'bedrooms', 'bathrooms', 'stories', 'parking']\n",
    "\n",
    "for i in range(len(columns_list)):\n",
    "    \n",
    "    plt.subplot(1,6,i+1)\n",
    "    plt.boxplot(df_data[columns_list[i]])                       #creates boxplot for price\n",
    "    plt.title(columns_list[i])                                  #sets the title \n",
    "    plt.xlabel('x axis')                                        #sets x-axis label\n",
    "    plt.ylabel(columns_list[i])                                 #sets y-axis label\n",
    "    \n",
    "plt.tight_layout()\n",
    "plt.show()"
   ]
  },
  {
   "cell_type": "markdown",
   "id": "2816d736",
   "metadata": {},
   "source": [
    "Removing Outliers"
   ]
  },
  {
   "cell_type": "code",
   "execution_count": 96,
   "id": "73134d1b",
   "metadata": {},
   "outputs": [],
   "source": [
    "df_data_no_outlier = df_data\n",
    "#after eyeballing outliers from boxplot removing them.\n",
    "df_data_no_outlier = df_data_no_outlier[ (df_data_no_outlier['price'] < 0.89*10**7) ]\n",
    "df_data_no_outlier = df_data_no_outlier[ (df_data_no_outlier['area'] < 9800) ]\n",
    "df_data_no_outlier = df_data_no_outlier[ (df_data_no_outlier['bedrooms'] < 5) ]\n",
    "df_data_no_outlier = df_data_no_outlier[ (df_data_no_outlier['bathrooms'] < 4) ]\n",
    "df_data_no_outlier = df_data_no_outlier[ (df_data_no_outlier['stories'] < 4) ]\n",
    "df_data_no_outlier = df_data_no_outlier[ (df_data_no_outlier['parking'] < 3) ]\n",
    "df_data = df_data_no_outlier"
   ]
  },
  {
   "cell_type": "markdown",
   "metadata": {},
   "source": [
    "## Simple Linear Regression"
   ]
  },
  {
   "cell_type": "markdown",
   "metadata": {},
   "source": [
    "<!-- END QUESTION -->\n",
    "\n",
    "**Question 3:** To build a linear regression model, you need to make sure that all of your data is numeric. Therefore, apart from the ```furnishingstatus``` column, convert all qualitative columns to a one-hot encoding. The ```furnishingstatus``` column has three classes, all of which would need to be converted into a one-hot encoding. Use ```.get_dummies``` function in the pandas library to convert variables like ```furnishingstatus``` based on the different categories present. \n",
    "\n",
    "*Answering Guidelines:* Make sure ```df_data``` stores the final dataframe for it to be stored in ```df_q3```. Otherwise, simply assign the dataframe with encodings to the variable.\n",
    "\n",
    "<!--\n",
    "BEGIN QUESTION\n",
    "name: q3\n",
    "points: 3\n",
    "-->"
   ]
  },
  {
   "cell_type": "code",
   "execution_count": 97,
   "metadata": {},
   "outputs": [],
   "source": [
    "df_data.replace(to_replace=\"yes\", value=1, inplace=True)\n",
    "df_data.replace(to_replace=\"no\", value=0, inplace=True)\n",
    "df_data = pd.get_dummies(df_data)\n",
    "df_q3 = df_data.copy()"
   ]
  },
  {
   "cell_type": "code",
   "execution_count": 98,
   "metadata": {},
   "outputs": [
    {
     "data": {
      "text/html": [
       "<p><strong><pre style='display: inline;'>q3</pre></strong> passed!</p>"
      ],
      "text/plain": [
       "q3 results: All test cases passed!"
      ]
     },
     "execution_count": 98,
     "metadata": {},
     "output_type": "execute_result"
    }
   ],
   "source": [
    "grader.check(\"q3\")"
   ]
  },
  {
   "cell_type": "markdown",
   "metadata": {},
   "source": [
    "<!-- BEGIN QUESTION -->\n",
    "\n",
    "**Question 4:** We can choose to drop any feature from the dataset which we think is not important. Devise a method which will help you figure out a way to see which features should be dropped and explain why. Explain your method properly. Name the features which should be removed. (Don't remove any feature from the dataset).\n",
    "\n",
    "*Answering Guidelines:* Follow the instructions given in the 'Grading' section with regards to plots.\n",
    "\n",
    "<!--\n",
    "BEGIN QUESTION\n",
    "name: q4\n",
    "points: 2\n",
    "manual: true\n",
    "-->"
   ]
  },
  {
   "cell_type": "markdown",
   "id": "8769e2ad",
   "metadata": {},
   "source": [
    "From a correlation matrix we can observe which of the features have a very low correlation with the predicting variable i-e price. It is reasonable to\n",
    "remove such variables with low correlation with price because this means that whatever the value of this variable will be, the price will not be affected\n",
    "by it. Since, the features hotwaterheating and furnishingstatus_semi-furnished have very low correlation with price so it may be appropriate to remove them."
   ]
  },
  {
   "cell_type": "code",
   "execution_count": 99,
   "metadata": {},
   "outputs": [
    {
     "data": {
      "text/html": [
       "<style  type=\"text/css\" >\n",
       "#T_3be55_row0_col0,#T_3be55_row1_col1,#T_3be55_row2_col2,#T_3be55_row3_col3,#T_3be55_row4_col4,#T_3be55_row5_col5,#T_3be55_row6_col6,#T_3be55_row7_col7,#T_3be55_row8_col8,#T_3be55_row9_col9,#T_3be55_row10_col10,#T_3be55_row11_col11,#T_3be55_row12_col12,#T_3be55_row13_col13,#T_3be55_row14_col14{\n",
       "            background-color:  #081d58;\n",
       "            color:  #f1f1f1;\n",
       "        }#T_3be55_row0_col1{\n",
       "            background-color:  #2ca1c2;\n",
       "            color:  #000000;\n",
       "        }#T_3be55_row0_col2{\n",
       "            background-color:  #6fc7bd;\n",
       "            color:  #000000;\n",
       "        }#T_3be55_row0_col3,#T_3be55_row0_col9,#T_3be55_row0_col13,#T_3be55_row6_col7{\n",
       "            background-color:  #4ebbc2;\n",
       "            color:  #000000;\n",
       "        }#T_3be55_row0_col4,#T_3be55_row6_col1,#T_3be55_row9_col14,#T_3be55_row11_col7{\n",
       "            background-color:  #9ed9b8;\n",
       "            color:  #000000;\n",
       "        }#T_3be55_row0_col5,#T_3be55_row1_col10,#T_3be55_row9_col13{\n",
       "            background-color:  #80cebb;\n",
       "            color:  #000000;\n",
       "        }#T_3be55_row0_col6,#T_3be55_row5_col13{\n",
       "            background-color:  #78cbbc;\n",
       "            color:  #000000;\n",
       "        }#T_3be55_row0_col7{\n",
       "            background-color:  #89d1ba;\n",
       "            color:  #000000;\n",
       "        }#T_3be55_row0_col8,#T_3be55_row0_col14,#T_3be55_row7_col5{\n",
       "            background-color:  #dcf1b2;\n",
       "            color:  #000000;\n",
       "        }#T_3be55_row0_col10,#T_3be55_row2_col3,#T_3be55_row5_col12,#T_3be55_row9_col12{\n",
       "            background-color:  #71c8bd;\n",
       "            color:  #000000;\n",
       "        }#T_3be55_row0_col11,#T_3be55_row1_col13,#T_3be55_row6_col13{\n",
       "            background-color:  #75c9bd;\n",
       "            color:  #000000;\n",
       "        }#T_3be55_row0_col12{\n",
       "            background-color:  #59bfc0;\n",
       "            color:  #000000;\n",
       "        }#T_3be55_row1_col0{\n",
       "            background-color:  #1e8bbd;\n",
       "            color:  #000000;\n",
       "        }#T_3be55_row1_col2,#T_3be55_row12_col1{\n",
       "            background-color:  #d1edb3;\n",
       "            color:  #000000;\n",
       "        }#T_3be55_row1_col3,#T_3be55_row2_col1,#T_3be55_row2_col10,#T_3be55_row3_col1,#T_3be55_row3_col9,#T_3be55_row10_col9,#T_3be55_row11_col10{\n",
       "            background-color:  #d5efb3;\n",
       "            color:  #000000;\n",
       "        }#T_3be55_row1_col4,#T_3be55_row8_col11{\n",
       "            background-color:  #f9fdcc;\n",
       "            color:  #000000;\n",
       "        }#T_3be55_row1_col5,#T_3be55_row4_col12,#T_3be55_row5_col1{\n",
       "            background-color:  #8cd2ba;\n",
       "            color:  #000000;\n",
       "        }#T_3be55_row1_col6,#T_3be55_row7_col11{\n",
       "            background-color:  #a9ddb7;\n",
       "            color:  #000000;\n",
       "        }#T_3be55_row1_col7,#T_3be55_row2_col11,#T_3be55_row10_col2{\n",
       "            background-color:  #d6efb3;\n",
       "            color:  #000000;\n",
       "        }#T_3be55_row1_col8,#T_3be55_row6_col4,#T_3be55_row6_col8,#T_3be55_row13_col9{\n",
       "            background-color:  #f3fabf;\n",
       "            color:  #000000;\n",
       "        }#T_3be55_row1_col9,#T_3be55_row6_col14{\n",
       "            background-color:  #9cd8b8;\n",
       "            color:  #000000;\n",
       "        }#T_3be55_row1_col11,#T_3be55_row11_col6{\n",
       "            background-color:  #bbe4b5;\n",
       "            color:  #000000;\n",
       "        }#T_3be55_row1_col12{\n",
       "            background-color:  #73c8bd;\n",
       "            color:  #000000;\n",
       "        }#T_3be55_row1_col14,#T_3be55_row3_col14,#T_3be55_row5_col14,#T_3be55_row8_col12{\n",
       "            background-color:  #a7dcb7;\n",
       "            color:  #000000;\n",
       "        }#T_3be55_row2_col0{\n",
       "            background-color:  #46b8c3;\n",
       "            color:  #000000;\n",
       "        }#T_3be55_row2_col4{\n",
       "            background-color:  #3aaec3;\n",
       "            color:  #000000;\n",
       "        }#T_3be55_row2_col5,#T_3be55_row12_col13{\n",
       "            background-color:  #f1fabb;\n",
       "            color:  #000000;\n",
       "        }#T_3be55_row2_col6,#T_3be55_row8_col2,#T_3be55_row12_col14{\n",
       "            background-color:  #e9f7b1;\n",
       "            color:  #000000;\n",
       "        }#T_3be55_row2_col7,#T_3be55_row3_col10,#T_3be55_row9_col3,#T_3be55_row12_col5,#T_3be55_row12_col10{\n",
       "            background-color:  #d0edb3;\n",
       "            color:  #000000;\n",
       "        }#T_3be55_row2_col8,#T_3be55_row5_col3{\n",
       "            background-color:  #eff9b6;\n",
       "            color:  #000000;\n",
       "        }#T_3be55_row2_col9{\n",
       "            background-color:  #caeab4;\n",
       "            color:  #000000;\n",
       "        }#T_3be55_row2_col12{\n",
       "            background-color:  #90d4b9;\n",
       "            color:  #000000;\n",
       "        }#T_3be55_row2_col13{\n",
       "            background-color:  #5bc0c0;\n",
       "            color:  #000000;\n",
       "        }#T_3be55_row2_col14,#T_3be55_row10_col14{\n",
       "            background-color:  #aedfb6;\n",
       "            color:  #000000;\n",
       "        }#T_3be55_row3_col0{\n",
       "            background-color:  #31a5c2;\n",
       "            color:  #000000;\n",
       "        }#T_3be55_row3_col2,#T_3be55_row10_col13{\n",
       "            background-color:  #6dc6be;\n",
       "            color:  #000000;\n",
       "        }#T_3be55_row3_col4,#T_3be55_row4_col3,#T_3be55_row5_col10{\n",
       "            background-color:  #b4e2b6;\n",
       "            color:  #000000;\n",
       "        }#T_3be55_row3_col5,#T_3be55_row5_col2{\n",
       "            background-color:  #f0f9b7;\n",
       "            color:  #000000;\n",
       "        }#T_3be55_row3_col6{\n",
       "            background-color:  #cfecb3;\n",
       "            color:  #000000;\n",
       "        }#T_3be55_row3_col7,#T_3be55_row10_col5{\n",
       "            background-color:  #bde5b5;\n",
       "            color:  #000000;\n",
       "        }#T_3be55_row3_col8,#T_3be55_row4_col11{\n",
       "            background-color:  #eaf7b1;\n",
       "            color:  #000000;\n",
       "        }#T_3be55_row3_col11,#T_3be55_row13_col1{\n",
       "            background-color:  #edf8b1;\n",
       "            color:  #000000;\n",
       "        }#T_3be55_row3_col12,#T_3be55_row10_col1,#T_3be55_row13_col0{\n",
       "            background-color:  #87d0ba;\n",
       "            color:  #000000;\n",
       "        }#T_3be55_row3_col13{\n",
       "            background-color:  #67c4be;\n",
       "            color:  #000000;\n",
       "        }#T_3be55_row4_col0,#T_3be55_row4_col13{\n",
       "            background-color:  #65c3bf;\n",
       "            color:  #000000;\n",
       "        }#T_3be55_row4_col1,#T_3be55_row10_col4{\n",
       "            background-color:  #f9fdcb;\n",
       "            color:  #000000;\n",
       "        }#T_3be55_row4_col2{\n",
       "            background-color:  #37acc3;\n",
       "            color:  #000000;\n",
       "        }#T_3be55_row4_col5,#T_3be55_row5_col4,#T_3be55_row9_col11,#T_3be55_row10_col7,#T_3be55_row12_col3,#T_3be55_row12_col7,#T_3be55_row13_col10{\n",
       "            background-color:  #e0f3b2;\n",
       "            color:  #000000;\n",
       "        }#T_3be55_row4_col6,#T_3be55_row4_col10,#T_3be55_row11_col8{\n",
       "            background-color:  #f6fbc5;\n",
       "            color:  #000000;\n",
       "        }#T_3be55_row4_col7{\n",
       "            background-color:  #fcfed1;\n",
       "            color:  #000000;\n",
       "        }#T_3be55_row4_col8,#T_3be55_row5_col6,#T_3be55_row5_col9,#T_3be55_row7_col9,#T_3be55_row10_col8,#T_3be55_row11_col4,#T_3be55_row12_col6{\n",
       "            background-color:  #e1f3b2;\n",
       "            color:  #000000;\n",
       "        }#T_3be55_row4_col9{\n",
       "            background-color:  #ceecb3;\n",
       "            color:  #000000;\n",
       "        }#T_3be55_row4_col14,#T_3be55_row7_col14{\n",
       "            background-color:  #a5dcb7;\n",
       "            color:  #000000;\n",
       "        }#T_3be55_row5_col0,#T_3be55_row7_col6{\n",
       "            background-color:  #52bcc2;\n",
       "            color:  #000000;\n",
       "        }#T_3be55_row5_col7,#T_3be55_row8_col4,#T_3be55_row9_col5{\n",
       "            background-color:  #ddf2b2;\n",
       "            color:  #000000;\n",
       "        }#T_3be55_row5_col8,#T_3be55_row13_col6{\n",
       "            background-color:  #f0f9b8;\n",
       "            color:  #000000;\n",
       "        }#T_3be55_row5_col11,#T_3be55_row6_col11,#T_3be55_row9_col2{\n",
       "            background-color:  #c0e6b5;\n",
       "            color:  #000000;\n",
       "        }#T_3be55_row6_col0{\n",
       "            background-color:  #44b7c4;\n",
       "            color:  #000000;\n",
       "        }#T_3be55_row6_col2,#T_3be55_row9_col7,#T_3be55_row13_col3,#T_3be55_row13_col4{\n",
       "            background-color:  #dff2b2;\n",
       "            color:  #000000;\n",
       "        }#T_3be55_row6_col3{\n",
       "            background-color:  #c8e9b4;\n",
       "            color:  #000000;\n",
       "        }#T_3be55_row6_col5,#T_3be55_row6_col10,#T_3be55_row9_col6,#T_3be55_row11_col9,#T_3be55_row13_col8{\n",
       "            background-color:  #dbf1b2;\n",
       "            color:  #000000;\n",
       "        }#T_3be55_row6_col9,#T_3be55_row8_col10{\n",
       "            background-color:  #d9f0b3;\n",
       "            color:  #000000;\n",
       "        }#T_3be55_row6_col12{\n",
       "            background-color:  #7ecdbb;\n",
       "            color:  #000000;\n",
       "        }#T_3be55_row7_col0{\n",
       "            background-color:  #55bec1;\n",
       "            color:  #000000;\n",
       "        }#T_3be55_row7_col1,#T_3be55_row10_col3,#T_3be55_row12_col9{\n",
       "            background-color:  #d4eeb3;\n",
       "            color:  #000000;\n",
       "        }#T_3be55_row7_col2,#T_3be55_row9_col4{\n",
       "            background-color:  #cbebb4;\n",
       "            color:  #000000;\n",
       "        }#T_3be55_row7_col3{\n",
       "            background-color:  #b9e4b5;\n",
       "            color:  #000000;\n",
       "        }#T_3be55_row7_col4{\n",
       "            background-color:  #fbfdd0;\n",
       "            color:  #000000;\n",
       "        }#T_3be55_row7_col8,#T_3be55_row14_col12{\n",
       "            background-color:  #f8fcca;\n",
       "            color:  #000000;\n",
       "        }#T_3be55_row7_col10{\n",
       "            background-color:  #daf0b3;\n",
       "            color:  #000000;\n",
       "        }#T_3be55_row7_col12{\n",
       "            background-color:  #83cebb;\n",
       "            color:  #000000;\n",
       "        }#T_3be55_row7_col13{\n",
       "            background-color:  #6bc6be;\n",
       "            color:  #000000;\n",
       "        }#T_3be55_row8_col0{\n",
       "            background-color:  #a2dbb8;\n",
       "            color:  #000000;\n",
       "        }#T_3be55_row8_col1{\n",
       "            background-color:  #f1faba;\n",
       "            color:  #000000;\n",
       "        }#T_3be55_row8_col3,#T_3be55_row12_col4,#T_3be55_row13_col7{\n",
       "            background-color:  #e6f5b2;\n",
       "            color:  #000000;\n",
       "        }#T_3be55_row8_col5{\n",
       "            background-color:  #eff9b5;\n",
       "            color:  #000000;\n",
       "        }#T_3be55_row8_col6{\n",
       "            background-color:  #f4fbc1;\n",
       "            color:  #000000;\n",
       "        }#T_3be55_row8_col7{\n",
       "            background-color:  #f7fcc6;\n",
       "            color:  #000000;\n",
       "        }#T_3be55_row8_col9,#T_3be55_row9_col8,#T_3be55_row13_col12,#T_3be55_row13_col14,#T_3be55_row14_col0,#T_3be55_row14_col1,#T_3be55_row14_col2,#T_3be55_row14_col3,#T_3be55_row14_col4,#T_3be55_row14_col5,#T_3be55_row14_col6,#T_3be55_row14_col7,#T_3be55_row14_col10,#T_3be55_row14_col11,#T_3be55_row14_col13{\n",
       "            background-color:  #ffffd9;\n",
       "            color:  #000000;\n",
       "        }#T_3be55_row8_col13{\n",
       "            background-color:  #5dc0c0;\n",
       "            color:  #000000;\n",
       "        }#T_3be55_row8_col14{\n",
       "            background-color:  #99d7b8;\n",
       "            color:  #000000;\n",
       "        }#T_3be55_row9_col0{\n",
       "            background-color:  #2fa4c2;\n",
       "            color:  #000000;\n",
       "        }#T_3be55_row9_col1,#T_3be55_row11_col14{\n",
       "            background-color:  #97d6b9;\n",
       "            color:  #000000;\n",
       "        }#T_3be55_row9_col10{\n",
       "            background-color:  #cdebb4;\n",
       "            color:  #000000;\n",
       "        }#T_3be55_row10_col0{\n",
       "            background-color:  #48b9c3;\n",
       "            color:  #000000;\n",
       "        }#T_3be55_row10_col6{\n",
       "            background-color:  #e7f6b1;\n",
       "            color:  #000000;\n",
       "        }#T_3be55_row10_col11,#T_3be55_row12_col11{\n",
       "            background-color:  #e3f4b2;\n",
       "            color:  #000000;\n",
       "        }#T_3be55_row10_col12,#T_3be55_row12_col0{\n",
       "            background-color:  #76cabc;\n",
       "            color:  #000000;\n",
       "        }#T_3be55_row11_col0{\n",
       "            background-color:  #3fb4c4;\n",
       "            color:  #000000;\n",
       "        }#T_3be55_row11_col1{\n",
       "            background-color:  #abdeb7;\n",
       "            color:  #000000;\n",
       "        }#T_3be55_row11_col2{\n",
       "            background-color:  #c9eab4;\n",
       "            color:  #000000;\n",
       "        }#T_3be55_row11_col3{\n",
       "            background-color:  #e2f4b2;\n",
       "            color:  #000000;\n",
       "        }#T_3be55_row11_col5{\n",
       "            background-color:  #b0e0b6;\n",
       "            color:  #000000;\n",
       "        }#T_3be55_row11_col12{\n",
       "            background-color:  #7cccbb;\n",
       "            color:  #000000;\n",
       "        }#T_3be55_row11_col13{\n",
       "            background-color:  #7acbbc;\n",
       "            color:  #000000;\n",
       "        }#T_3be55_row12_col2{\n",
       "            background-color:  #e5f5b2;\n",
       "            color:  #000000;\n",
       "        }#T_3be55_row12_col8,#T_3be55_row13_col11{\n",
       "            background-color:  #f4fbc0;\n",
       "            color:  #000000;\n",
       "        }#T_3be55_row13_col2{\n",
       "            background-color:  #d3eeb3;\n",
       "            color:  #000000;\n",
       "        }#T_3be55_row13_col5{\n",
       "            background-color:  #eef8b3;\n",
       "            color:  #000000;\n",
       "        }#T_3be55_row14_col8{\n",
       "            background-color:  #fdfed4;\n",
       "            color:  #000000;\n",
       "        }#T_3be55_row14_col9{\n",
       "            background-color:  #feffd6;\n",
       "            color:  #000000;\n",
       "        }</style><table id=\"T_3be55_\" ><thead>    <tr>        <th class=\"blank level0\" ></th>        <th class=\"col_heading level0 col0\" >price</th>        <th class=\"col_heading level0 col1\" >area</th>        <th class=\"col_heading level0 col2\" >bedrooms</th>        <th class=\"col_heading level0 col3\" >bathrooms</th>        <th class=\"col_heading level0 col4\" >stories</th>        <th class=\"col_heading level0 col5\" >mainroad</th>        <th class=\"col_heading level0 col6\" >guestroom</th>        <th class=\"col_heading level0 col7\" >basement</th>        <th class=\"col_heading level0 col8\" >hotwaterheating</th>        <th class=\"col_heading level0 col9\" >airconditioning</th>        <th class=\"col_heading level0 col10\" >parking</th>        <th class=\"col_heading level0 col11\" >prefarea</th>        <th class=\"col_heading level0 col12\" >furnishingstatus_furnished</th>        <th class=\"col_heading level0 col13\" >furnishingstatus_semi-furnished</th>        <th class=\"col_heading level0 col14\" >furnishingstatus_unfurnished</th>    </tr></thead><tbody>\n",
       "                <tr>\n",
       "                        <th id=\"T_3be55_level0_row0\" class=\"row_heading level0 row0\" >price</th>\n",
       "                        <td id=\"T_3be55_row0_col0\" class=\"data row0 col0\" >1.000</td>\n",
       "                        <td id=\"T_3be55_row0_col1\" class=\"data row0 col1\" >0.521</td>\n",
       "                        <td id=\"T_3be55_row0_col2\" class=\"data row0 col2\" >0.325</td>\n",
       "                        <td id=\"T_3be55_row0_col3\" class=\"data row0 col3\" >0.410</td>\n",
       "                        <td id=\"T_3be55_row0_col4\" class=\"data row0 col4\" >0.239</td>\n",
       "                        <td id=\"T_3be55_row0_col5\" class=\"data row0 col5\" >0.295</td>\n",
       "                        <td id=\"T_3be55_row0_col6\" class=\"data row0 col6\" >0.330</td>\n",
       "                        <td id=\"T_3be55_row0_col7\" class=\"data row0 col7\" >0.282</td>\n",
       "                        <td id=\"T_3be55_row0_col8\" class=\"data row0 col8\" >0.093</td>\n",
       "                        <td id=\"T_3be55_row0_col9\" class=\"data row0 col9\" >0.418</td>\n",
       "                        <td id=\"T_3be55_row0_col10\" class=\"data row0 col10\" >0.317</td>\n",
       "                        <td id=\"T_3be55_row0_col11\" class=\"data row0 col11\" >0.346</td>\n",
       "                        <td id=\"T_3be55_row0_col12\" class=\"data row0 col12\" >0.193</td>\n",
       "                        <td id=\"T_3be55_row0_col13\" class=\"data row0 col13\" >0.150</td>\n",
       "                        <td id=\"T_3be55_row0_col14\" class=\"data row0 col14\" >-0.327</td>\n",
       "            </tr>\n",
       "            <tr>\n",
       "                        <th id=\"T_3be55_level0_row1\" class=\"row_heading level0 row1\" >area</th>\n",
       "                        <td id=\"T_3be55_row1_col0\" class=\"data row1 col0\" >0.521</td>\n",
       "                        <td id=\"T_3be55_row1_col1\" class=\"data row1 col1\" >1.000</td>\n",
       "                        <td id=\"T_3be55_row1_col2\" class=\"data row1 col2\" >0.106</td>\n",
       "                        <td id=\"T_3be55_row1_col3\" class=\"data row1 col3\" >0.105</td>\n",
       "                        <td id=\"T_3be55_row1_col4\" class=\"data row1 col4\" >-0.077</td>\n",
       "                        <td id=\"T_3be55_row1_col5\" class=\"data row1 col5\" >0.274</td>\n",
       "                        <td id=\"T_3be55_row1_col6\" class=\"data row1 col6\" >0.238</td>\n",
       "                        <td id=\"T_3be55_row1_col7\" class=\"data row1 col7\" >0.108</td>\n",
       "                        <td id=\"T_3be55_row1_col8\" class=\"data row1 col8\" >-0.014</td>\n",
       "                        <td id=\"T_3be55_row1_col9\" class=\"data row1 col9\" >0.253</td>\n",
       "                        <td id=\"T_3be55_row1_col10\" class=\"data row1 col10\" >0.281</td>\n",
       "                        <td id=\"T_3be55_row1_col11\" class=\"data row1 col11\" >0.211</td>\n",
       "                        <td id=\"T_3be55_row1_col12\" class=\"data row1 col12\" >0.120</td>\n",
       "                        <td id=\"T_3be55_row1_col13\" class=\"data row1 col13\" >0.018</td>\n",
       "                        <td id=\"T_3be55_row1_col14\" class=\"data row1 col14\" >-0.125</td>\n",
       "            </tr>\n",
       "            <tr>\n",
       "                        <th id=\"T_3be55_level0_row2\" class=\"row_heading level0 row2\" >bedrooms</th>\n",
       "                        <td id=\"T_3be55_row2_col0\" class=\"data row2 col0\" >0.325</td>\n",
       "                        <td id=\"T_3be55_row2_col1\" class=\"data row2 col1\" >0.106</td>\n",
       "                        <td id=\"T_3be55_row2_col2\" class=\"data row2 col2\" >1.000</td>\n",
       "                        <td id=\"T_3be55_row2_col3\" class=\"data row2 col3\" >0.328</td>\n",
       "                        <td id=\"T_3be55_row2_col4\" class=\"data row2 col4\" >0.466</td>\n",
       "                        <td id=\"T_3be55_row2_col5\" class=\"data row2 col5\" >-0.017</td>\n",
       "                        <td id=\"T_3be55_row2_col6\" class=\"data row2 col6\" >0.058</td>\n",
       "                        <td id=\"T_3be55_row2_col7\" class=\"data row2 col7\" >0.129</td>\n",
       "                        <td id=\"T_3be55_row2_col8\" class=\"data row2 col8\" >0.016</td>\n",
       "                        <td id=\"T_3be55_row2_col9\" class=\"data row2 col9\" >0.160</td>\n",
       "                        <td id=\"T_3be55_row2_col10\" class=\"data row2 col10\" >0.089</td>\n",
       "                        <td id=\"T_3be55_row2_col11\" class=\"data row2 col11\" >0.136</td>\n",
       "                        <td id=\"T_3be55_row2_col12\" class=\"data row2 col12\" >0.036</td>\n",
       "                        <td id=\"T_3be55_row2_col13\" class=\"data row2 col13\" >0.104</td>\n",
       "                        <td id=\"T_3be55_row2_col14\" class=\"data row2 col14\" >-0.141</td>\n",
       "            </tr>\n",
       "            <tr>\n",
       "                        <th id=\"T_3be55_level0_row3\" class=\"row_heading level0 row3\" >bathrooms</th>\n",
       "                        <td id=\"T_3be55_row3_col0\" class=\"data row3 col0\" >0.410</td>\n",
       "                        <td id=\"T_3be55_row3_col1\" class=\"data row3 col1\" >0.105</td>\n",
       "                        <td id=\"T_3be55_row3_col2\" class=\"data row3 col2\" >0.328</td>\n",
       "                        <td id=\"T_3be55_row3_col3\" class=\"data row3 col3\" >1.000</td>\n",
       "                        <td id=\"T_3be55_row3_col4\" class=\"data row3 col4\" >0.194</td>\n",
       "                        <td id=\"T_3be55_row3_col5\" class=\"data row3 col5\" >-0.003</td>\n",
       "                        <td id=\"T_3be55_row3_col6\" class=\"data row3 col6\" >0.152</td>\n",
       "                        <td id=\"T_3be55_row3_col7\" class=\"data row3 col7\" >0.181</td>\n",
       "                        <td id=\"T_3be55_row3_col8\" class=\"data row3 col8\" >0.041</td>\n",
       "                        <td id=\"T_3be55_row3_col9\" class=\"data row3 col9\" >0.121</td>\n",
       "                        <td id=\"T_3be55_row3_col10\" class=\"data row3 col10\" >0.109</td>\n",
       "                        <td id=\"T_3be55_row3_col11\" class=\"data row3 col11\" >0.056</td>\n",
       "                        <td id=\"T_3be55_row3_col12\" class=\"data row3 col12\" >0.063</td>\n",
       "                        <td id=\"T_3be55_row3_col13\" class=\"data row3 col13\" >0.068</td>\n",
       "                        <td id=\"T_3be55_row3_col14\" class=\"data row3 col14\" >-0.127</td>\n",
       "            </tr>\n",
       "            <tr>\n",
       "                        <th id=\"T_3be55_level0_row4\" class=\"row_heading level0 row4\" >stories</th>\n",
       "                        <td id=\"T_3be55_row4_col0\" class=\"data row4 col0\" >0.239</td>\n",
       "                        <td id=\"T_3be55_row4_col1\" class=\"data row4 col1\" >-0.077</td>\n",
       "                        <td id=\"T_3be55_row4_col2\" class=\"data row4 col2\" >0.466</td>\n",
       "                        <td id=\"T_3be55_row4_col3\" class=\"data row4 col3\" >0.194</td>\n",
       "                        <td id=\"T_3be55_row4_col4\" class=\"data row4 col4\" >1.000</td>\n",
       "                        <td id=\"T_3be55_row4_col5\" class=\"data row4 col5\" >0.070</td>\n",
       "                        <td id=\"T_3be55_row4_col6\" class=\"data row4 col6\" >-0.026</td>\n",
       "                        <td id=\"T_3be55_row4_col7\" class=\"data row4 col7\" >-0.090</td>\n",
       "                        <td id=\"T_3be55_row4_col8\" class=\"data row4 col8\" >0.079</td>\n",
       "                        <td id=\"T_3be55_row4_col9\" class=\"data row4 col9\" >0.145</td>\n",
       "                        <td id=\"T_3be55_row4_col10\" class=\"data row4 col10\" >-0.069</td>\n",
       "                        <td id=\"T_3be55_row4_col11\" class=\"data row4 col11\" >0.065</td>\n",
       "                        <td id=\"T_3be55_row4_col12\" class=\"data row4 col12\" >0.049</td>\n",
       "                        <td id=\"T_3be55_row4_col13\" class=\"data row4 col13\" >0.075</td>\n",
       "                        <td id=\"T_3be55_row4_col14\" class=\"data row4 col14\" >-0.121</td>\n",
       "            </tr>\n",
       "            <tr>\n",
       "                        <th id=\"T_3be55_level0_row5\" class=\"row_heading level0 row5\" >mainroad</th>\n",
       "                        <td id=\"T_3be55_row5_col0\" class=\"data row5 col0\" >0.295</td>\n",
       "                        <td id=\"T_3be55_row5_col1\" class=\"data row5 col1\" >0.274</td>\n",
       "                        <td id=\"T_3be55_row5_col2\" class=\"data row5 col2\" >-0.017</td>\n",
       "                        <td id=\"T_3be55_row5_col3\" class=\"data row5 col3\" >-0.003</td>\n",
       "                        <td id=\"T_3be55_row5_col4\" class=\"data row5 col4\" >0.070</td>\n",
       "                        <td id=\"T_3be55_row5_col5\" class=\"data row5 col5\" >1.000</td>\n",
       "                        <td id=\"T_3be55_row5_col6\" class=\"data row5 col6\" >0.086</td>\n",
       "                        <td id=\"T_3be55_row5_col7\" class=\"data row5 col7\" >0.082</td>\n",
       "                        <td id=\"T_3be55_row5_col8\" class=\"data row5 col8\" >0.007</td>\n",
       "                        <td id=\"T_3be55_row5_col9\" class=\"data row5 col9\" >0.077</td>\n",
       "                        <td id=\"T_3be55_row5_col10\" class=\"data row5 col10\" >0.178</td>\n",
       "                        <td id=\"T_3be55_row5_col11\" class=\"data row5 col11\" >0.203</td>\n",
       "                        <td id=\"T_3be55_row5_col12\" class=\"data row5 col12\" >0.127</td>\n",
       "                        <td id=\"T_3be55_row5_col13\" class=\"data row5 col13\" >0.009</td>\n",
       "                        <td id=\"T_3be55_row5_col14\" class=\"data row5 col14\" >-0.122</td>\n",
       "            </tr>\n",
       "            <tr>\n",
       "                        <th id=\"T_3be55_level0_row6\" class=\"row_heading level0 row6\" >guestroom</th>\n",
       "                        <td id=\"T_3be55_row6_col0\" class=\"data row6 col0\" >0.330</td>\n",
       "                        <td id=\"T_3be55_row6_col1\" class=\"data row6 col1\" >0.238</td>\n",
       "                        <td id=\"T_3be55_row6_col2\" class=\"data row6 col2\" >0.058</td>\n",
       "                        <td id=\"T_3be55_row6_col3\" class=\"data row6 col3\" >0.152</td>\n",
       "                        <td id=\"T_3be55_row6_col4\" class=\"data row6 col4\" >-0.026</td>\n",
       "                        <td id=\"T_3be55_row6_col5\" class=\"data row6 col5\" >0.086</td>\n",
       "                        <td id=\"T_3be55_row6_col6\" class=\"data row6 col6\" >1.000</td>\n",
       "                        <td id=\"T_3be55_row6_col7\" class=\"data row6 col7\" >0.415</td>\n",
       "                        <td id=\"T_3be55_row6_col8\" class=\"data row6 col8\" >-0.011</td>\n",
       "                        <td id=\"T_3be55_row6_col9\" class=\"data row6 col9\" >0.109</td>\n",
       "                        <td id=\"T_3be55_row6_col10\" class=\"data row6 col10\" >0.067</td>\n",
       "                        <td id=\"T_3be55_row6_col11\" class=\"data row6 col11\" >0.202</td>\n",
       "                        <td id=\"T_3be55_row6_col12\" class=\"data row6 col12\" >0.086</td>\n",
       "                        <td id=\"T_3be55_row6_col13\" class=\"data row6 col13\" >0.018</td>\n",
       "                        <td id=\"T_3be55_row6_col14\" class=\"data row6 col14\" >-0.095</td>\n",
       "            </tr>\n",
       "            <tr>\n",
       "                        <th id=\"T_3be55_level0_row7\" class=\"row_heading level0 row7\" >basement</th>\n",
       "                        <td id=\"T_3be55_row7_col0\" class=\"data row7 col0\" >0.282</td>\n",
       "                        <td id=\"T_3be55_row7_col1\" class=\"data row7 col1\" >0.108</td>\n",
       "                        <td id=\"T_3be55_row7_col2\" class=\"data row7 col2\" >0.129</td>\n",
       "                        <td id=\"T_3be55_row7_col3\" class=\"data row7 col3\" >0.181</td>\n",
       "                        <td id=\"T_3be55_row7_col4\" class=\"data row7 col4\" >-0.090</td>\n",
       "                        <td id=\"T_3be55_row7_col5\" class=\"data row7 col5\" >0.082</td>\n",
       "                        <td id=\"T_3be55_row7_col6\" class=\"data row7 col6\" >0.415</td>\n",
       "                        <td id=\"T_3be55_row7_col7\" class=\"data row7 col7\" >1.000</td>\n",
       "                        <td id=\"T_3be55_row7_col8\" class=\"data row7 col8\" >-0.051</td>\n",
       "                        <td id=\"T_3be55_row7_col9\" class=\"data row7 col9\" >0.078</td>\n",
       "                        <td id=\"T_3be55_row7_col10\" class=\"data row7 col10\" >0.073</td>\n",
       "                        <td id=\"T_3be55_row7_col11\" class=\"data row7 col11\" >0.244</td>\n",
       "                        <td id=\"T_3be55_row7_col12\" class=\"data row7 col12\" >0.073</td>\n",
       "                        <td id=\"T_3be55_row7_col13\" class=\"data row7 col13\" >0.050</td>\n",
       "                        <td id=\"T_3be55_row7_col14\" class=\"data row7 col14\" >-0.117</td>\n",
       "            </tr>\n",
       "            <tr>\n",
       "                        <th id=\"T_3be55_level0_row8\" class=\"row_heading level0 row8\" >hotwaterheating</th>\n",
       "                        <td id=\"T_3be55_row8_col0\" class=\"data row8 col0\" >0.093</td>\n",
       "                        <td id=\"T_3be55_row8_col1\" class=\"data row8 col1\" >-0.014</td>\n",
       "                        <td id=\"T_3be55_row8_col2\" class=\"data row8 col2\" >0.016</td>\n",
       "                        <td id=\"T_3be55_row8_col3\" class=\"data row8 col3\" >0.041</td>\n",
       "                        <td id=\"T_3be55_row8_col4\" class=\"data row8 col4\" >0.079</td>\n",
       "                        <td id=\"T_3be55_row8_col5\" class=\"data row8 col5\" >0.007</td>\n",
       "                        <td id=\"T_3be55_row8_col6\" class=\"data row8 col6\" >-0.011</td>\n",
       "                        <td id=\"T_3be55_row8_col7\" class=\"data row8 col7\" >-0.051</td>\n",
       "                        <td id=\"T_3be55_row8_col8\" class=\"data row8 col8\" >1.000</td>\n",
       "                        <td id=\"T_3be55_row8_col9\" class=\"data row8 col9\" >-0.106</td>\n",
       "                        <td id=\"T_3be55_row8_col10\" class=\"data row8 col10\" >0.077</td>\n",
       "                        <td id=\"T_3be55_row8_col11\" class=\"data row8 col11\" >-0.036</td>\n",
       "                        <td id=\"T_3be55_row8_col12\" class=\"data row8 col12\" >-0.016</td>\n",
       "                        <td id=\"T_3be55_row8_col13\" class=\"data row8 col13\" >0.099</td>\n",
       "                        <td id=\"T_3be55_row8_col14\" class=\"data row8 col14\" >-0.089</td>\n",
       "            </tr>\n",
       "            <tr>\n",
       "                        <th id=\"T_3be55_level0_row9\" class=\"row_heading level0 row9\" >airconditioning</th>\n",
       "                        <td id=\"T_3be55_row9_col0\" class=\"data row9 col0\" >0.418</td>\n",
       "                        <td id=\"T_3be55_row9_col1\" class=\"data row9 col1\" >0.253</td>\n",
       "                        <td id=\"T_3be55_row9_col2\" class=\"data row9 col2\" >0.160</td>\n",
       "                        <td id=\"T_3be55_row9_col3\" class=\"data row9 col3\" >0.121</td>\n",
       "                        <td id=\"T_3be55_row9_col4\" class=\"data row9 col4\" >0.145</td>\n",
       "                        <td id=\"T_3be55_row9_col5\" class=\"data row9 col5\" >0.077</td>\n",
       "                        <td id=\"T_3be55_row9_col6\" class=\"data row9 col6\" >0.109</td>\n",
       "                        <td id=\"T_3be55_row9_col7\" class=\"data row9 col7\" >0.078</td>\n",
       "                        <td id=\"T_3be55_row9_col8\" class=\"data row9 col8\" >-0.106</td>\n",
       "                        <td id=\"T_3be55_row9_col9\" class=\"data row9 col9\" >1.000</td>\n",
       "                        <td id=\"T_3be55_row9_col10\" class=\"data row9 col10\" >0.122</td>\n",
       "                        <td id=\"T_3be55_row9_col11\" class=\"data row9 col11\" >0.100</td>\n",
       "                        <td id=\"T_3be55_row9_col12\" class=\"data row9 col12\" >0.126</td>\n",
       "                        <td id=\"T_3be55_row9_col13\" class=\"data row9 col13\" >-0.015</td>\n",
       "                        <td id=\"T_3be55_row9_col14\" class=\"data row9 col14\" >-0.097</td>\n",
       "            </tr>\n",
       "            <tr>\n",
       "                        <th id=\"T_3be55_level0_row10\" class=\"row_heading level0 row10\" >parking</th>\n",
       "                        <td id=\"T_3be55_row10_col0\" class=\"data row10 col0\" >0.317</td>\n",
       "                        <td id=\"T_3be55_row10_col1\" class=\"data row10 col1\" >0.281</td>\n",
       "                        <td id=\"T_3be55_row10_col2\" class=\"data row10 col2\" >0.089</td>\n",
       "                        <td id=\"T_3be55_row10_col3\" class=\"data row10 col3\" >0.109</td>\n",
       "                        <td id=\"T_3be55_row10_col4\" class=\"data row10 col4\" >-0.069</td>\n",
       "                        <td id=\"T_3be55_row10_col5\" class=\"data row10 col5\" >0.178</td>\n",
       "                        <td id=\"T_3be55_row10_col6\" class=\"data row10 col6\" >0.067</td>\n",
       "                        <td id=\"T_3be55_row10_col7\" class=\"data row10 col7\" >0.073</td>\n",
       "                        <td id=\"T_3be55_row10_col8\" class=\"data row10 col8\" >0.077</td>\n",
       "                        <td id=\"T_3be55_row10_col9\" class=\"data row10 col9\" >0.122</td>\n",
       "                        <td id=\"T_3be55_row10_col10\" class=\"data row10 col10\" >1.000</td>\n",
       "                        <td id=\"T_3be55_row10_col11\" class=\"data row10 col11\" >0.091</td>\n",
       "                        <td id=\"T_3be55_row10_col12\" class=\"data row10 col12\" >0.106</td>\n",
       "                        <td id=\"T_3be55_row10_col13\" class=\"data row10 col13\" >0.048</td>\n",
       "                        <td id=\"T_3be55_row10_col14\" class=\"data row10 col14\" >-0.145</td>\n",
       "            </tr>\n",
       "            <tr>\n",
       "                        <th id=\"T_3be55_level0_row11\" class=\"row_heading level0 row11\" >prefarea</th>\n",
       "                        <td id=\"T_3be55_row11_col0\" class=\"data row11 col0\" >0.346</td>\n",
       "                        <td id=\"T_3be55_row11_col1\" class=\"data row11 col1\" >0.211</td>\n",
       "                        <td id=\"T_3be55_row11_col2\" class=\"data row11 col2\" >0.136</td>\n",
       "                        <td id=\"T_3be55_row11_col3\" class=\"data row11 col3\" >0.056</td>\n",
       "                        <td id=\"T_3be55_row11_col4\" class=\"data row11 col4\" >0.065</td>\n",
       "                        <td id=\"T_3be55_row11_col5\" class=\"data row11 col5\" >0.203</td>\n",
       "                        <td id=\"T_3be55_row11_col6\" class=\"data row11 col6\" >0.202</td>\n",
       "                        <td id=\"T_3be55_row11_col7\" class=\"data row11 col7\" >0.244</td>\n",
       "                        <td id=\"T_3be55_row11_col8\" class=\"data row11 col8\" >-0.036</td>\n",
       "                        <td id=\"T_3be55_row11_col9\" class=\"data row11 col9\" >0.100</td>\n",
       "                        <td id=\"T_3be55_row11_col10\" class=\"data row11 col10\" >0.091</td>\n",
       "                        <td id=\"T_3be55_row11_col11\" class=\"data row11 col11\" >1.000</td>\n",
       "                        <td id=\"T_3be55_row11_col12\" class=\"data row11 col12\" >0.089</td>\n",
       "                        <td id=\"T_3be55_row11_col13\" class=\"data row11 col13\" >0.003</td>\n",
       "                        <td id=\"T_3be55_row11_col14\" class=\"data row11 col14\" >-0.082</td>\n",
       "            </tr>\n",
       "            <tr>\n",
       "                        <th id=\"T_3be55_level0_row12\" class=\"row_heading level0 row12\" >furnishingstatus_furnished</th>\n",
       "                        <td id=\"T_3be55_row12_col0\" class=\"data row12 col0\" >0.193</td>\n",
       "                        <td id=\"T_3be55_row12_col1\" class=\"data row12 col1\" >0.120</td>\n",
       "                        <td id=\"T_3be55_row12_col2\" class=\"data row12 col2\" >0.036</td>\n",
       "                        <td id=\"T_3be55_row12_col3\" class=\"data row12 col3\" >0.063</td>\n",
       "                        <td id=\"T_3be55_row12_col4\" class=\"data row12 col4\" >0.049</td>\n",
       "                        <td id=\"T_3be55_row12_col5\" class=\"data row12 col5\" >0.127</td>\n",
       "                        <td id=\"T_3be55_row12_col6\" class=\"data row12 col6\" >0.086</td>\n",
       "                        <td id=\"T_3be55_row12_col7\" class=\"data row12 col7\" >0.073</td>\n",
       "                        <td id=\"T_3be55_row12_col8\" class=\"data row12 col8\" >-0.016</td>\n",
       "                        <td id=\"T_3be55_row12_col9\" class=\"data row12 col9\" >0.126</td>\n",
       "                        <td id=\"T_3be55_row12_col10\" class=\"data row12 col10\" >0.106</td>\n",
       "                        <td id=\"T_3be55_row12_col11\" class=\"data row12 col11\" >0.089</td>\n",
       "                        <td id=\"T_3be55_row12_col12\" class=\"data row12 col12\" >1.000</td>\n",
       "                        <td id=\"T_3be55_row12_col13\" class=\"data row12 col13\" >-0.469</td>\n",
       "                        <td id=\"T_3be55_row12_col14\" class=\"data row12 col14\" >-0.400</td>\n",
       "            </tr>\n",
       "            <tr>\n",
       "                        <th id=\"T_3be55_level0_row13\" class=\"row_heading level0 row13\" >furnishingstatus_semi-furnished</th>\n",
       "                        <td id=\"T_3be55_row13_col0\" class=\"data row13 col0\" >0.150</td>\n",
       "                        <td id=\"T_3be55_row13_col1\" class=\"data row13 col1\" >0.018</td>\n",
       "                        <td id=\"T_3be55_row13_col2\" class=\"data row13 col2\" >0.104</td>\n",
       "                        <td id=\"T_3be55_row13_col3\" class=\"data row13 col3\" >0.068</td>\n",
       "                        <td id=\"T_3be55_row13_col4\" class=\"data row13 col4\" >0.075</td>\n",
       "                        <td id=\"T_3be55_row13_col5\" class=\"data row13 col5\" >0.009</td>\n",
       "                        <td id=\"T_3be55_row13_col6\" class=\"data row13 col6\" >0.018</td>\n",
       "                        <td id=\"T_3be55_row13_col7\" class=\"data row13 col7\" >0.050</td>\n",
       "                        <td id=\"T_3be55_row13_col8\" class=\"data row13 col8\" >0.099</td>\n",
       "                        <td id=\"T_3be55_row13_col9\" class=\"data row13 col9\" >-0.015</td>\n",
       "                        <td id=\"T_3be55_row13_col10\" class=\"data row13 col10\" >0.048</td>\n",
       "                        <td id=\"T_3be55_row13_col11\" class=\"data row13 col11\" >0.003</td>\n",
       "                        <td id=\"T_3be55_row13_col12\" class=\"data row13 col12\" >-0.469</td>\n",
       "                        <td id=\"T_3be55_row13_col13\" class=\"data row13 col13\" >1.000</td>\n",
       "                        <td id=\"T_3be55_row13_col14\" class=\"data row13 col14\" >-0.622</td>\n",
       "            </tr>\n",
       "            <tr>\n",
       "                        <th id=\"T_3be55_level0_row14\" class=\"row_heading level0 row14\" >furnishingstatus_unfurnished</th>\n",
       "                        <td id=\"T_3be55_row14_col0\" class=\"data row14 col0\" >-0.327</td>\n",
       "                        <td id=\"T_3be55_row14_col1\" class=\"data row14 col1\" >-0.125</td>\n",
       "                        <td id=\"T_3be55_row14_col2\" class=\"data row14 col2\" >-0.141</td>\n",
       "                        <td id=\"T_3be55_row14_col3\" class=\"data row14 col3\" >-0.127</td>\n",
       "                        <td id=\"T_3be55_row14_col4\" class=\"data row14 col4\" >-0.121</td>\n",
       "                        <td id=\"T_3be55_row14_col5\" class=\"data row14 col5\" >-0.122</td>\n",
       "                        <td id=\"T_3be55_row14_col6\" class=\"data row14 col6\" >-0.095</td>\n",
       "                        <td id=\"T_3be55_row14_col7\" class=\"data row14 col7\" >-0.117</td>\n",
       "                        <td id=\"T_3be55_row14_col8\" class=\"data row14 col8\" >-0.089</td>\n",
       "                        <td id=\"T_3be55_row14_col9\" class=\"data row14 col9\" >-0.097</td>\n",
       "                        <td id=\"T_3be55_row14_col10\" class=\"data row14 col10\" >-0.145</td>\n",
       "                        <td id=\"T_3be55_row14_col11\" class=\"data row14 col11\" >-0.082</td>\n",
       "                        <td id=\"T_3be55_row14_col12\" class=\"data row14 col12\" >-0.400</td>\n",
       "                        <td id=\"T_3be55_row14_col13\" class=\"data row14 col13\" >-0.622</td>\n",
       "                        <td id=\"T_3be55_row14_col14\" class=\"data row14 col14\" >1.000</td>\n",
       "            </tr>\n",
       "    </tbody></table>"
      ],
      "text/plain": [
       "<pandas.io.formats.style.Styler at 0x26ae0a9ebe0>"
      ]
     },
     "execution_count": 99,
     "metadata": {},
     "output_type": "execute_result"
    }
   ],
   "source": [
    "corr_data = df_data.corr(method='pearson')\n",
    "corr_data.style.background_gradient(cmap='YlGnBu').set_precision(3)"
   ]
  },
  {
   "cell_type": "markdown",
   "metadata": {},
   "source": [
    "<!-- END QUESTION -->\n",
    "\n",
    "<!-- BEGIN QUESTION -->\n",
    "\n",
    "**Question 5:** Provide a rationale, keeping the box plots and the correlation diagram in mind, in the markdown cell below for why or why not you choose to drop any feature.\n",
    "\n",
    "*Answering Guidelines:* There is no right or wrong answer to this question - the purpose is to, both, make you look closely at your data and check how strongly you can form a rationale in choosing features. Feel free to come back to this question after having made models - the process of choosing features is usually iterative. A placeholder for your answer has been made.\n",
    "\n",
    "<!--\n",
    "BEGIN QUESTION\n",
    "name: q5\n",
    "points: 1\n",
    "manual: true\n",
    "-->"
   ]
  },
  {
   "cell_type": "markdown",
   "id": "424b3bbb",
   "metadata": {},
   "source": [
    " Since, the features hotwaterheating have very low correlation with price so it may be appropriate to remove them because whatever the values of these values is, the price variable will be not affected. While remaining features have reasonable correlation so no need to remove them."
   ]
  },
  {
   "cell_type": "markdown",
   "metadata": {},
   "source": [
    "**Question 6:** It is time for you to split the dataset into features and a response variable. \n",
    "\n",
    "*Answering Guidelines:* ```X``` should store all your feature columns and ```y``` should have the response variable. \n",
    "\n",
    "<!--\n",
    "BEGIN QUESTION\n",
    "name: q6\n",
    "points: 2\n",
    "-->"
   ]
  },
  {
   "cell_type": "code",
   "execution_count": 100,
   "metadata": {},
   "outputs": [],
   "source": [
    "X = df_data.drop(columns=['price'])\n",
    "y = df_data[['price']]\n",
    "\n",
    "#The dataframes need to be converted into numpy for our implementation\n",
    "X = X.to_numpy()\n",
    "y = y.to_numpy()"
   ]
  },
  {
   "cell_type": "markdown",
   "metadata": {},
   "source": [
    "**Question 7:** Before any model can be trained, it is important for your data to be split into different sets and be standardized.\n",
    "\n",
    "You will run into many problems such as exploding weights, division by zero etc. Use ```StandardScaler``` (it has already been imported for you) from sklearn to help you in this. Read up on how and why it is used.\n",
    "\n",
    "You will be implementing the most basic split: the 'Train-Test' split (here is a comprehensive article explaining the need of such splits: https://developers.google.com/machine-learning/crash-course/training-and-test-sets/splitting-data). Refer to lecture 22 for more details.\n",
    "\n",
    "*Answering guidelines:* Use the train_test_split function imported from sklearn above. Read up on how it is used and use it to make a 70-30 train-test split. Use standardized ```X``` and ```y``` as your data to be input. Do not change the variables already coined for you below.\n",
    "\n",
    "<!--\n",
    "BEGIN QUESTION\n",
    "name: q7\n",
    "points: 2\n",
    "-->"
   ]
  },
  {
   "cell_type": "code",
   "execution_count": 101,
   "metadata": {},
   "outputs": [],
   "source": [
    "scalar = StandardScaler()\n",
    "X = scalar.fit_transform(X)\n",
    "\n",
    "scalar = StandardScaler()\n",
    "y = scalar.fit_transform(y)\n",
    "\n",
    "X_train, X_test, y_train, y_test = train_test_split(X, y, test_size=0.3, random_state=42)"
   ]
  },
  {
   "cell_type": "code",
   "execution_count": 102,
   "metadata": {},
   "outputs": [
    {
     "data": {
      "text/html": [
       "<p><strong><pre style='display: inline;'>q7</pre></strong> passed!</p>"
      ],
      "text/plain": [
       "q7 results: All test cases passed!"
      ]
     },
     "execution_count": 102,
     "metadata": {},
     "output_type": "execute_result"
    }
   ],
   "source": [
    "grader.check(\"q7\")"
   ]
  },
  {
   "cell_type": "markdown",
   "metadata": {},
   "source": [
    "Now that you have split the data, it is time you build the model so that the model can be trained on that data."
   ]
  },
  {
   "cell_type": "markdown",
   "metadata": {},
   "source": [
    "In this part, you will be implementing the model yourself (with the guide of placeholders). While this approach is seldom used, it is important to understand the basics of the mechanics behind these models for you to understand why a model might not be working as well as you would want it to.\n",
    "\n",
    "**Note: Your solution has to be efficient**. Using simple for loops to iterate over all data-points will not earn you full marks, you should try to use vectorized versions of the equations. You have covered these in class as well. Make sure you deal with exploding weights or division by zeros. This can be done by changing the learning rates and using the right algorithms when calculating the derivatives. If you get an \"overflow\" error, try to **reduce the learning rate and double check your loss derivative** (though derivatives will be given to you in the form of placeholders but this is something that you should be aware of)."
   ]
  },
  {
   "cell_type": "markdown",
   "metadata": {},
   "source": [
    "**Question 8:** Complete the function below to calculate predicted obseration(s), given certain parameters of the model (theta) and X.\n",
    "\n",
    "<!--\n",
    "BEGIN QUESTION\n",
    "name: q8\n",
    "points: 1\n",
    "-->"
   ]
  },
  {
   "cell_type": "code",
   "execution_count": 103,
   "metadata": {},
   "outputs": [],
   "source": [
    "def predict(theta, X):\n",
    "    h = np.dot(X,theta)\n",
    "    return h "
   ]
  },
  {
   "cell_type": "code",
   "execution_count": 104,
   "metadata": {},
   "outputs": [
    {
     "data": {
      "text/html": [
       "<p><strong><pre style='display: inline;'>q8</pre></strong> passed!</p>"
      ],
      "text/plain": [
       "q8 results: All test cases passed!"
      ]
     },
     "execution_count": 104,
     "metadata": {},
     "output_type": "execute_result"
    }
   ],
   "source": [
    "grader.check(\"q8\")"
   ]
  },
  {
   "cell_type": "markdown",
   "metadata": {},
   "source": [
    "**Question 9:** Complete the functions below to be able to compute the squared loss and absolute loss. \n",
    "\n",
    "*Answering Guidelines:* Make sure to return the correct value. Feel free to introduce as many variables as you want.\n",
    "\n",
    "<!--\n",
    "BEGIN QUESTION\n",
    "name: q9\n",
    "points: 2\n",
    "-->"
   ]
  },
  {
   "cell_type": "code",
   "execution_count": 105,
   "metadata": {},
   "outputs": [],
   "source": [
    "def squared_loss(y, yhat):\n",
    "    return  np.mean((y - yhat)**2)\n",
    "\n",
    "def abs_loss(y, yhat):\n",
    "    return  np.mean(abs(y - yhat))"
   ]
  },
  {
   "cell_type": "code",
   "execution_count": 106,
   "metadata": {},
   "outputs": [
    {
     "data": {
      "text/html": [
       "<p><strong><pre style='display: inline;'>q9</pre></strong> passed!</p>"
      ],
      "text/plain": [
       "q9 results: All test cases passed!"
      ]
     },
     "execution_count": 106,
     "metadata": {},
     "output_type": "execute_result"
    }
   ],
   "source": [
    "grader.check(\"q9\")"
   ]
  },
  {
   "cell_type": "markdown",
   "metadata": {},
   "source": [
    "**Question 10:** Complete the function below to compute mean squared loss and the absolute squared loss. \n",
    "\n",
    "*Answering Guidelines:* The following are the parameters being sent in:\n",
    "* X: the features of the data\n",
    "* theta: model parameters\n",
    "* y: the observed response variable\n",
    "* loss_func: defines what function needs to be computed - 'L2' or 'L1'. This parameter has been kept for future purposes. \n",
    "\n",
    " In the case where wrong input has been entered for ```loss_func```, make the function return 0.\n",
    "\n",
    "<!--\n",
    "BEGIN QUESTION\n",
    "name: q10\n",
    "points: 2\n",
    "-->"
   ]
  },
  {
   "cell_type": "code",
   "execution_count": 107,
   "metadata": {},
   "outputs": [],
   "source": [
    "def compute_cost(X, theta, y, loss_func):\n",
    "    yhat = predict(theta, X)\n",
    "    cost = 0\n",
    "    \n",
    "    if loss_func == \"L2\":\n",
    "        cost = squared_loss(y, yhat) \n",
    "    elif loss_func == \"L1\":\n",
    "        cost = abs_loss(y, yhat)\n",
    "        \n",
    "    return cost\n",
    "\n",
    "#For testing purposes\n",
    "theta_12 = np.array([1, 2, 3])\n",
    "X_12 = np.array([[4, 5, 6]])\n",
    "y_12 = np.array([10])\n",
    "cost_12 = compute_cost(X_12, theta_12, y_12, \"L3\")\n",
    "cost_12s = compute_cost(X_12, theta_12, y_12, \"L2\")\n",
    "cost_12a = compute_cost(X_12, theta_12, y_12, \"L1\")"
   ]
  },
  {
   "cell_type": "code",
   "execution_count": 108,
   "metadata": {},
   "outputs": [
    {
     "data": {
      "text/html": [
       "<p><strong><pre style='display: inline;'>q10</pre></strong> passed!</p>"
      ],
      "text/plain": [
       "q10 results: All test cases passed!"
      ]
     },
     "execution_count": 108,
     "metadata": {},
     "output_type": "execute_result"
    }
   ],
   "source": [
    "grader.check(\"q10\")"
   ]
  },
  {
   "cell_type": "markdown",
   "metadata": {},
   "source": [
    "<!-- BEGIN QUESTION -->\n",
    "\n",
    "**Question 11:** How would you reason the use of MSE vs. MAE? \n",
    "\n",
    "*Answering Guidelines:* Briefly discuss the strenghts and weaknesses of the two.\n",
    "\n",
    "<!--\n",
    "BEGIN QUESTION\n",
    "name: q11\n",
    "points: 2\n",
    "manual: true\n",
    "-->"
   ]
  },
  {
   "cell_type": "markdown",
   "id": "d5055852",
   "metadata": {},
   "source": [
    "1) Since, the errors are squared in MSE therefore, MSE penalises the large error much more significantly which means that MSE can be sensitive to large errors and outliers but on the other hand, it is also beneficial in situations where it is very important to avoid large errors. \n",
    "\n",
    "2) Secondly, MSE is also differentiable while MAE is not, so MSE is mostly used to do gradient descent\n",
    "\n",
    "3) However, MAE is much more robust and insensitive to outliers"
   ]
  },
  {
   "cell_type": "markdown",
   "metadata": {},
   "source": [
    "<!-- END QUESTION -->\n",
    "\n",
    "**Question 12:** In class, you have extensively studied the maths behind minimizing the loss functions to get to the optimal parameters of the model, specifically **lecture**. Gradient Descent is an algorithm that does precisely that - optimizes parameters in order to get to the local minimum of the cost function by continuously tweaking the parameters of the model (guided through learning rate).\n",
    "\n",
    "\n",
    "\n",
    "*Answering Guidelines:* The following are the parameters being sent in:\n",
    "* X: the features of the data\n",
    "* theta: model parameters\n",
    "* y: the observed response variable\n",
    "* loss_func: defines what function needs to be computed - 'L2' or 'L1'. This parameter has been kept for future purposes. \n",
    "* alpha: learning rate\n",
    "* iter_num: number of iterations that your model will run for\n",
    "* steps: after how many steps you would want to save the cost (to plot the learning curve). You need not worry about this since this is just for visualization purposes. If you are unsure, simply leave it as 1.\n",
    "\n",
    "\n",
    "<!--\n",
    "BEGIN QUESTION\n",
    "name: q12\n",
    "points: 3\n",
    "-->"
   ]
  },
  {
   "cell_type": "code",
   "execution_count": 109,
   "metadata": {},
   "outputs": [],
   "source": [
    "def gradient_descent(X, y, theta, alpha, iter_num, loss_func, steps):\n",
    "    history = [] #cost history\n",
    "    m = len(X) #number of samples of the data \n",
    "    \n",
    "    for iteration in range(iter_num):\n",
    "            \n",
    "        cost = compute_cost(X, theta, y, loss_func)\n",
    "        history.append(cost)\n",
    "        \n",
    "        y_hat = predict(theta, X)\n",
    "        difference = (y - y_hat)\n",
    "        \n",
    "        if loss_func == \"L1\":\n",
    "            gradient = np.dot(X.T, np.sign(difference))\n",
    "            theta = theta - ( (-1/m)*(alpha)*gradient )\n",
    "            \n",
    "        elif loss_func == \"L2\":\n",
    "            gradient = np.dot(X.T, difference)\n",
    "            theta = theta - ( (-2/m)*(alpha)*gradient )\n",
    "            \n",
    "    return history, theta\n",
    "\n",
    "#For testing purposes\n",
    "theta_14 = np.array([1, 2, 3])\n",
    "X_14 = np.array([[4, 5, 6], [4, 5, 6]])\n",
    "y_14 = np.array([10, 11])\n",
    "history, theta_opt = gradient_descent(X_14, y_14, theta_14, 0.01, 1, \"L1\", 1)"
   ]
  },
  {
   "cell_type": "code",
   "execution_count": 110,
   "metadata": {},
   "outputs": [
    {
     "data": {
      "text/html": [
       "<p><strong><pre style='display: inline;'>q12</pre></strong> passed!</p>"
      ],
      "text/plain": [
       "q12 results: All test cases passed!"
      ]
     },
     "execution_count": 110,
     "metadata": {},
     "output_type": "execute_result"
    }
   ],
   "source": [
    "grader.check(\"q12\")"
   ]
  },
  {
   "cell_type": "markdown",
   "metadata": {},
   "source": [
    "**Question 13:** Add the bias terms to ```X_train``` and ```X_test```\n",
    "\n",
    "<!--\n",
    "BEGIN QUESTION\n",
    "name: q13\n",
    "points: 2\n",
    "-->"
   ]
  },
  {
   "cell_type": "code",
   "execution_count": 111,
   "metadata": {},
   "outputs": [],
   "source": [
    "X_train = np.c_[ np.ones(X_train.shape[0]), X_train ]\n",
    "X_test = np.c_[ np.ones(X_test.shape[0]), X_test ]"
   ]
  },
  {
   "cell_type": "code",
   "execution_count": 112,
   "metadata": {},
   "outputs": [
    {
     "data": {
      "text/html": [
       "<p><strong><pre style='display: inline;'>q13</pre></strong> passed!</p>"
      ],
      "text/plain": [
       "q13 results: All test cases passed!"
      ]
     },
     "execution_count": 112,
     "metadata": {},
     "output_type": "execute_result"
    }
   ],
   "source": [
    "grader.check(\"q13\")"
   ]
  },
  {
   "cell_type": "markdown",
   "metadata": {},
   "source": [
    "### Running Model"
   ]
  },
  {
   "cell_type": "markdown",
   "metadata": {},
   "source": [
    "**Question 14:** Now that the methods have been written, we will put it altogether and run a multiple linear regression model on our data. \n",
    "\n",
    "*Answering Guidelines:* The placeholders have been made. Simply call the appropriate functions and methods. Feel free to add more variables but make sure the mentioned variables store the final answers.  \n",
    "\n",
    "<!--\n",
    "BEGIN QUESTION\n",
    "name: q14\n",
    "points: 4\n",
    "-->"
   ]
  },
  {
   "cell_type": "code",
   "execution_count": 113,
   "metadata": {},
   "outputs": [],
   "source": [
    "#Initialize the parametrs to zero\n",
    "theta = np.zeros((X_train.shape[1], 1))\n",
    "\n",
    "#Initialize parameters\n",
    "iter_num = 10000\n",
    "alpha = 0.001\n",
    "loss_func = \"L1\" \n",
    "steps = 1\n",
    "\n",
    "cost_history, theta = gradient_descent(X_train, y_train, theta, alpha, iter_num, loss_func, steps)"
   ]
  },
  {
   "cell_type": "markdown",
   "metadata": {},
   "source": [
    "The following code cell plots cost_history against the number of iterations to get an idea of how the cost is progressing and so to get an idea of how your model is performing. "
   ]
  },
  {
   "cell_type": "code",
   "execution_count": 114,
   "metadata": {},
   "outputs": [
    {
     "data": {
      "image/png": "[encoded data removed]",
      "text/plain": [
       "<Figure size 432x288 with 1 Axes>"
      ]
     },
     "metadata": {
      "needs_background": "light"
     },
     "output_type": "display_data"
    }
   ],
   "source": [
    "fig, ax = plt.subplots()\n",
    "ax.plot(np.arange(iter_num), cost_history, 'r')\n",
    "ax.set_xlabel('Iterations')\n",
    "ax.set_ylabel('Cost')\n",
    "ax.set_title('Cost vs Iterations')\n",
    "plt.show()"
   ]
  },
  {
   "cell_type": "markdown",
   "metadata": {},
   "source": [
    "## Evaluating the Model"
   ]
  },
  {
   "cell_type": "markdown",
   "metadata": {},
   "source": [
    "**Question 15:** Run predictions on y_train and y_test. We will be using these in the next questions.\n",
    "\n",
    "*Answering Guidelines:* Use the formula implemented previously. Record the answer for the last variable as True or False. \n",
    "\n",
    "<!--\n",
    "BEGIN QUESTION\n",
    "name: q15\n",
    "points: 2\n",
    "-->"
   ]
  },
  {
   "cell_type": "code",
   "execution_count": 115,
   "metadata": {},
   "outputs": [],
   "source": [
    "yhat_test = predict(theta, X_test)\n",
    "yhat_train = predict(theta, X_train)\n",
    "are_you_having_fun = True"
   ]
  },
  {
   "cell_type": "code",
   "execution_count": 116,
   "id": "04836796",
   "metadata": {},
   "outputs": [
    {
     "data": {
      "text/plain": [
       "(15, 1)"
      ]
     },
     "execution_count": 116,
     "metadata": {},
     "output_type": "execute_result"
    }
   ],
   "source": [
    "theta.shape"
   ]
  },
  {
   "cell_type": "code",
   "execution_count": 117,
   "metadata": {},
   "outputs": [
    {
     "data": {
      "text/html": [
       "<p><strong><pre style='display: inline;'>q15</pre></strong> passed!</p>"
      ],
      "text/plain": [
       "q15 results: All test cases passed!"
      ]
     },
     "execution_count": 117,
     "metadata": {},
     "output_type": "execute_result"
    }
   ],
   "source": [
    "grader.check(\"q15\")"
   ]
  },
  {
   "cell_type": "markdown",
   "metadata": {},
   "source": [
    "### Residuals\n",
    "\n",
    "**Question 16:** Calculate residuals for the above predictions.\n",
    "\n",
    "*Answering Guidelines:* To read up on why residuals are needed, the following article is a good read as well: https://blog.minitab.com/blog/adventures-in-statistics-2/why-you-need-to-check-your-residual-plots-for-regression-analysis\n",
    "\n",
    "<!--\n",
    "BEGIN QUESTION\n",
    "name: q16\n",
    "points: 2\n",
    "-->"
   ]
  },
  {
   "cell_type": "code",
   "execution_count": 118,
   "metadata": {},
   "outputs": [],
   "source": [
    "train_residuals = y_train - yhat_train\n",
    "test_residuals = y_test - yhat_test"
   ]
  },
  {
   "cell_type": "code",
   "execution_count": 119,
   "id": "a3aa0b4c",
   "metadata": {},
   "outputs": [
    {
     "name": "stdout",
     "output_type": "stream",
     "text": [
      "317\n"
     ]
    }
   ],
   "source": [
    "print(len(train_residuals))"
   ]
  },
  {
   "cell_type": "markdown",
   "metadata": {},
   "source": [
    "<!-- BEGIN QUESTION -->\n",
    "\n",
    "**Question 17:** Plot the residual plots for, both, the train and test data.\n",
    "\n",
    "*Answering Guidelines*: Follow the instructions given in the 'Grading' section with regards to plots.\n",
    "\n",
    "<!--\n",
    "BEGIN QUESTION\n",
    "name: q17\n",
    "points: 2\n",
    "manual: true\n",
    "-->"
   ]
  },
  {
   "cell_type": "code",
   "execution_count": 120,
   "metadata": {},
   "outputs": [
    {
     "data": {
      "text/plain": [
       "<matplotlib.collections.PathCollection at 0x26ae0bd7bb0>"
      ]
     },
     "execution_count": 120,
     "metadata": {},
     "output_type": "execute_result"
    },
    {
     "data": {
      "image/png": "[encoded data removed]",
      "text/plain": [
       "<Figure size 1440x360 with 2 Axes>"
      ]
     },
     "metadata": {
      "needs_background": "light"
     },
     "output_type": "display_data"
    }
   ],
   "source": [
    "plt.figure(figsize=(20,5))\n",
    "plt.subplot(1,2,1)\n",
    "plt.title(\"Residual vs yhat_train\")\n",
    "plt.xlabel(\"Fitted Values\")\n",
    "plt.ylabel(\"Residuals\")\n",
    "plt.scatter(yhat_train, train_residuals)\n",
    "\n",
    "plt.subplot(1,2,2)\n",
    "plt.title(\"Residual vs yhat_test\")\n",
    "plt.xlabel(\"Fitted Values\")\n",
    "plt.ylabel(\"Residuals\")\n",
    "plt.scatter(yhat_test, test_residuals)"
   ]
  },
  {
   "cell_type": "markdown",
   "metadata": {},
   "source": [
    "<!-- END QUESTION -->\n",
    "\n",
    "<!-- BEGIN QUESTION -->\n",
    "\n",
    "**Question 18:** Make use of histograms to see the distribution of the residuals. \n",
    "\n",
    "*Answering Guidelines*: Follow the instructions given in the 'Grading' section with regards to plots.\n",
    "\n",
    "<!--\n",
    "BEGIN QUESTION\n",
    "name: q18\n",
    "points: 2\n",
    "manual: true\n",
    "-->"
   ]
  },
  {
   "cell_type": "code",
   "execution_count": 121,
   "metadata": {},
   "outputs": [
    {
     "data": {
      "image/png": "[encoded data removed]",
      "text/plain": [
       "<Figure size 432x288 with 1 Axes>"
      ]
     },
     "metadata": {
      "needs_background": "light"
     },
     "output_type": "display_data"
    },
    {
     "data": {
      "image/png": "[encoded data removed]",
      "text/plain": [
       "<Figure size 432x288 with 1 Axes>"
      ]
     },
     "metadata": {
      "needs_background": "light"
     },
     "output_type": "display_data"
    }
   ],
   "source": [
    "plt.title(\"Train Residuals\")\n",
    "plt.ylabel(\"Frequency\")\n",
    "plt.xlabel(\"residuals\")\n",
    "plt.hist(train_residuals)\n",
    "plt.show()\n",
    "\n",
    "plt.title(\"Test Residuals\")\n",
    "plt.ylabel(\"Frequency\")\n",
    "plt.xlabel(\"residuals\")\n",
    "plt.hist(test_residuals)\n",
    "plt.show()"
   ]
  },
  {
   "cell_type": "markdown",
   "metadata": {},
   "source": [
    "<!-- END QUESTION -->\n",
    "\n",
    "<!-- BEGIN QUESTION -->\n",
    "\n",
    "**Question 19:** What are the above residual plots telling you? What conclusion about your predicted results can you make from these?\n",
    "\n",
    "<!--\n",
    "BEGIN QUESTION\n",
    "name: q19\n",
    "points: 2\n",
    "manual: true\n",
    "-->"
   ]
  },
  {
   "cell_type": "markdown",
   "id": "443eddab",
   "metadata": {},
   "source": [
    "There is no pattern that can be observed, so there seems no clear relationship indicating that the predicted results have a reliable accuracy and that the model represents the relationship in the data well. While most of the residuals are near zero which means most of the values are predicited with good accuracy indicating that model is a good fit"
   ]
  },
  {
   "cell_type": "markdown",
   "metadata": {},
   "source": [
    "<!-- END QUESTION -->\n",
    "\n",
    "\n",
    "\n",
    "### Multiple R^2"
   ]
  },
  {
   "cell_type": "markdown",
   "metadata": {},
   "source": [
    "**Question 20:** Compute R^2 as taught in class.\n",
    "\n",
    "<!--\n",
    "BEGIN QUESTION\n",
    "name: q20\n",
    "points: 2\n",
    "-->"
   ]
  },
  {
   "cell_type": "code",
   "execution_count": 122,
   "metadata": {},
   "outputs": [
    {
     "data": {
      "text/plain": [
       "0.6522919856251412"
      ]
     },
     "execution_count": 122,
     "metadata": {},
     "output_type": "execute_result"
    }
   ],
   "source": [
    "def r2(yhat, y):\n",
    "    \n",
    "    r2 = 1- np.sum(np.square(y-yhat)) / np.sum( np.square(y - y.mean()))\n",
    "    return r2\n",
    "    \n",
    "r2_val = r2(yhat_test, y_test)\n",
    "r2_val"
   ]
  },
  {
   "cell_type": "code",
   "execution_count": 123,
   "metadata": {},
   "outputs": [
    {
     "data": {
      "text/html": [
       "<p><strong><pre style='display: inline;'>q20</pre></strong> passed!</p>"
      ],
      "text/plain": [
       "q20 results: All test cases passed!"
      ]
     },
     "execution_count": 123,
     "metadata": {},
     "output_type": "execute_result"
    }
   ],
   "source": [
    "grader.check(\"q20\")"
   ]
  },
  {
   "cell_type": "markdown",
   "metadata": {},
   "source": [
    "<!-- BEGIN QUESTION -->\n",
    "\n",
    "**Question 21:** What does the value tell you? Can you assess whether the model is a good-fit from this value? Why or why not? \n",
    "\n",
    "<!--\n",
    "BEGIN QUESTION\n",
    "name: q21\n",
    "points: 1\n",
    "manual: true\n",
    "-->"
   ]
  },
  {
   "cell_type": "markdown",
   "metadata": {},
   "source": [
    "The value tells us the proportion of variance that the model explains, Since, a value of 0.652 is reasonable so it can be used to assess that the model is a good-fit form and explains large proportion of variance. "
   ]
  },
  {
   "cell_type": "markdown",
   "metadata": {},
   "source": [
    "<!-- END QUESTION -->\n",
    "\n",
    "\n",
    "\n",
    "### Root Mean Squared Loss"
   ]
  },
  {
   "cell_type": "markdown",
   "metadata": {},
   "source": [
    "**QUESTION 22:** Compute the two functions below as taught in class.\n",
    "\n",
    "<!--\n",
    "BEGIN QUESTION\n",
    "name: q22\n",
    "points: 2\n",
    "-->"
   ]
  },
  {
   "cell_type": "code",
   "execution_count": 124,
   "metadata": {},
   "outputs": [
    {
     "name": "stdout",
     "output_type": "stream",
     "text": [
      "0.6805353780703279\n",
      "0.5993158353532815\n"
     ]
    }
   ],
   "source": [
    "def rmse(y, yhat):\n",
    "    return (squared_loss(y, yhat))**0.5\n",
    "\n",
    "rmse_test = rmse(y_test, yhat_test)\n",
    "rmse_train = rmse(y_train, yhat_train)\n",
    "\n",
    "print(rmse_test)\n",
    "print(rmse_train)"
   ]
  },
  {
   "cell_type": "code",
   "execution_count": 125,
   "metadata": {},
   "outputs": [
    {
     "data": {
      "text/html": [
       "<p><strong><pre style='display: inline;'>q22</pre></strong> passed!</p>"
      ],
      "text/plain": [
       "q22 results: All test cases passed!"
      ]
     },
     "execution_count": 125,
     "metadata": {},
     "output_type": "execute_result"
    }
   ],
   "source": [
    "grader.check(\"q22\")"
   ]
  },
  {
   "cell_type": "markdown",
   "metadata": {},
   "source": [
    "<!-- BEGIN QUESTION -->\n",
    "\n",
    "**QUESTION 23:** What are the above values telling you? Can you assess whether the model is a good-fit from this value? Why or why not?\n",
    "\n",
    "<!--\n",
    "BEGIN QUESTION\n",
    "name: q23\n",
    "points: 2\n",
    "manual: true\n",
    "-->"
   ]
  },
  {
   "cell_type": "markdown",
   "metadata": {},
   "source": [
    "RMSEs for both test and train data are similar so that means that the model is not overfitted. While both RMSEs are also low so that means the model is a good-fit."
   ]
  },
  {
   "cell_type": "markdown",
   "metadata": {},
   "source": [
    "<!-- END QUESTION -->\n",
    "\n",
    "\n",
    "\n",
    "### Final Comments"
   ]
  },
  {
   "cell_type": "markdown",
   "metadata": {},
   "source": [
    "<!-- BEGIN QUESTION -->\n",
    "\n",
    "**Question 24:** Keeping all the analysis in mind, what can you say about the performance of the model? Is it a good fit? How can you make it better?\n",
    "\n",
    "<!--\n",
    "BEGIN QUESTION\n",
    "name: q24\n",
    "points: 2\n",
    "manual: true\n",
    "-->"
   ]
  },
  {
   "cell_type": "markdown",
   "metadata": {},
   "source": [
    "The performance of the model is not extremely good, but it's a reasonable fit. We might be able to make it better by adding some new meaningful features and also by doing cross validation and trying out different combinations of epochs and alpha and selecting the one with minimum cost. After this we might be able to get a much better fit."
   ]
  },
  {
   "cell_type": "markdown",
   "metadata": {},
   "source": [
    "<!-- END QUESTION -->\n",
    "\n",
    "\n",
    "\n",
    "# **Wuhu!**\n",
    "\n",
    "*Pat yourself on the back*\n",
    "\n",
    "You are now in a much better state (hopefully) to decide just how ambitious you can be about your future home!"
   ]
  }
 ],
 "metadata": {
  "kernelspec": {
   "display_name": "Python 3",
   "language": "python",
   "name": "python3"
  },
  "language_info": {
   "codemirror_mode": {
    "name": "ipython",
    "version": 3
   },
   "file_extension": ".py",
   "mimetype": "text/x-python",
   "name": "python",
   "nbconvert_exporter": "python",
   "pygments_lexer": "ipython3",
   "version": "3.9.1"
  }
 },
 "nbformat": 4,
 "nbformat_minor": 5
}
