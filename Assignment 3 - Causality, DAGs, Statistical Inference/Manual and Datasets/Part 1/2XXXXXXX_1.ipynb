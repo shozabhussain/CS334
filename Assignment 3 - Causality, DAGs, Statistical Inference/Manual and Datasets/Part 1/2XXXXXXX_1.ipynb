{
 "cells": [
  {
   "cell_type": "markdown",
   "metadata": {},
   "source": [
    "# Assignment 3"
   ]
  },
  {
   "cell_type": "markdown",
   "metadata": {},
   "source": [
    "## Part 1"
   ]
  },
  {
   "cell_type": "markdown",
   "metadata": {},
   "source": [
    "### Part 1 TA Lead: Ahsan Amin"
   ]
  },
  {
   "cell_type": "markdown",
   "metadata": {},
   "source": [
    "**Instructions**\n",
    "\n",
    "This part of the assignment is based on inferencing causality using Directed Acyclic Graphs.\n",
    "\n",
    "Approximate time to complete this part is 2-3 hours\n",
    "\n",
    "Total Marks for part 2 = 50\n",
    "\n",
    "Please visit my Office hours if something is not clear"
   ]
  },
  {
   "cell_type": "markdown",
   "metadata": {},
   "source": [
    "`Note:` please strictly follow the answering and submission guidelines. Not following any of them will result in deduction of marks. "
   ]
  },
  {
   "cell_type": "code",
   "execution_count": null,
   "metadata": {},
   "outputs": [],
   "source": [
    "from causalgraphicalmodels import CausalGraphicalModel"
   ]
  },
  {
   "cell_type": "markdown",
   "metadata": {},
   "source": [
    "This is a method you will using to draw DAGs in this part. Run the cell below to familiarize yourself with it."
   ]
  },
  {
   "cell_type": "code",
   "execution_count": null,
   "metadata": {},
   "outputs": [],
   "source": [
    "one1 = CausalGraphicalModel(\n",
    "    nodes=[\"A\", \"B\", \"C\"], \n",
    "    edges= [(\"A\", \"B\"), (\"B\", \"C\")]\n",
    ")\n",
    "one1.draw()"
   ]
  },
  {
   "cell_type": "markdown",
   "metadata": {},
   "source": [
    "**Question 1:** Draw two causal DAGs(containing three nodes X, Y and Z) in which X and Y become independant if conditioned on Z.(6)\n",
    "\n",
    "`Note:` Use the following two cells for your answer. One graph in each cell."
   ]
  },
  {
   "cell_type": "code",
   "execution_count": null,
   "metadata": {},
   "outputs": [],
   "source": []
  },
  {
   "cell_type": "code",
   "execution_count": null,
   "metadata": {},
   "outputs": [],
   "source": []
  },
  {
   "cell_type": "code",
   "execution_count": null,
   "metadata": {},
   "outputs": [],
   "source": [
    "## run this cell first for question 2\n",
    "q2 = CausalGraphicalModel(\n",
    "    nodes=[\"A\", \"B\", \"C\", \"D\", \"E\"], \n",
    "    edges= [(\"A\", \"B\"), (\"A\", \"C\"), (\"B\", \"D\"), (\"C\", \"E\")]\n",
    ")\n",
    "q2.draw()"
   ]
  },
  {
   "cell_type": "markdown",
   "metadata": {},
   "source": [
    "**Question 2:** In the above DAG, if we condition on A then B and C become independent? Justify your answer in one line.(4)\n",
    "\n",
    "`Note:` Answer in the markdown cell below."
   ]
  },
  {
   "cell_type": "markdown",
   "metadata": {},
   "source": [
    "answer in this cell"
   ]
  },
  {
   "cell_type": "markdown",
   "metadata": {},
   "source": [
    "**The follwing table will be used in Questions 3, 4 and 5.**\n",
    "\n",
    "A disease was diagnosed in several species of animals in the forests of Africa. To check the spread of the disease and to test the effectiveness of a cure(treatment), scientists decided to conduct an experiment on two species of animals(Tiger and Cheetah). They divided them into two groups, control group(no treatment) and experimental group(given the treatment) and recorded the the total number of animals in every group and the number of animals that recovered in every group. Results of this experiment are shown in the table below.\n",
    "\n",
    "![Table1](Images/Q3.png)\n",
    "\n",
    "                                                        Table 1"
   ]
  },
  {
   "cell_type": "markdown",
   "metadata": {},
   "source": [
    "**Question 3:** Identify all the variables from the table above.(4)"
   ]
  },
  {
   "cell_type": "markdown",
   "metadata": {},
   "source": [
    "answer in this cell"
   ]
  },
  {
   "cell_type": "markdown",
   "metadata": {},
   "source": [
    "**Question 4:** Using the data in the table and your answer to Question 3 make a causal DAG that can relate all the variables you mentioned in the answer to question 3.(6)\n",
    "\n",
    "`Note:` Clearly label all the labels you are using e.g. Recovery = R, using python comments\n",
    "    "
   ]
  },
  {
   "cell_type": "code",
   "execution_count": null,
   "metadata": {},
   "outputs": [],
   "source": [
    "## answer in this cell#"
   ]
  },
  {
   "cell_type": "markdown",
   "metadata": {},
   "source": [
    "**Question 5:** Identify any confounding variables from your causal graph that you have drawn in Question 4.(6)\n",
    "\n",
    "`Note:` Answer in the markdown cell below "
   ]
  },
  {
   "cell_type": "markdown",
   "metadata": {},
   "source": [
    "answer in this cell"
   ]
  },
  {
   "cell_type": "markdown",
   "metadata": {},
   "source": [
    "**Next Questions will be on the following DAG.**"
   ]
  },
  {
   "cell_type": "code",
   "execution_count": null,
   "metadata": {},
   "outputs": [],
   "source": [
    "# run this cell\n",
    "dag = CausalGraphicalModel(\n",
    "nodes=[\"x\", \"y\", \"z\", \"p\", \"q\", \"r\", \"s\", \"t\", \"u\", \"a\"],\n",
    "edges=[(\"a\", \"u\"), (\"z\", \"a\"), (\"z\", \"q\"),\n",
    "      (\"r\", \"s\"), (\"x\", \"y\"), (\"r\", \"p\"), (\"t\", \"z\"), (\"q\", \"s\"), (\"a\", \"s\"), (\"u\", \"s\"), (\"t\", \"r\")]\n",
    ")\n",
    "\n",
    "dag.draw()"
   ]
  },
  {
   "cell_type": "markdown",
   "metadata": {},
   "source": [
    "**Question 6:** What is the longest backdoor path in the graph from **t** to **r**?(4)\n",
    "\n",
    "`Note:` Answer using a python list and also print that list"
   ]
  },
  {
   "cell_type": "code",
   "execution_count": null,
   "metadata": {},
   "outputs": [],
   "source": [
    "Answer6 = [...]\n",
    "\n",
    "print(Answer6)"
   ]
  },
  {
   "cell_type": "markdown",
   "metadata": {},
   "source": [
    "**Question 7:** List all the colliders and forks in the example dag given above.(14)\n",
    "\n",
    "`Note:` Your answer are lists stored in the below variables and printed on screen. e.g. if two forks then forks=[[a, b, c], [d, e, f]]"
   ]
  },
  {
   "cell_type": "code",
   "execution_count": null,
   "metadata": {},
   "outputs": [],
   "source": [
    "forks = ...\n",
    "colliders = ...\n",
    "print(forks)\n",
    "print(colliders)"
   ]
  },
  {
   "cell_type": "markdown",
   "metadata": {},
   "source": [
    "**Question 8:** A student made the following statements. Identify which of them are true and false.(6)\n",
    "\n",
    "Statement 1: **x** has a backdoor path from **t**\n",
    "\n",
    "Statement 2: all backdoor paths from **t** to **r** pass through **s**\n",
    "\n",
    "Statement 3: **t** is indirectly causing **s**\n",
    "\n",
    "Statement 4: if we condition on **t**, then **r** and **z** become independent of **t**\n",
    "\n",
    "Statement 5: There is no node that is dependent on **s**\n",
    "\n",
    "Statement 6: conditioning on **a** make **s** dependent on **a**\n",
    "\n",
    "`Note:` Your answers are either True or False assigned to the following statements."
   ]
  },
  {
   "cell_type": "code",
   "execution_count": null,
   "metadata": {},
   "outputs": [],
   "source": [
    "Statement1 = ...\n",
    "Statement2 = ...\n",
    "Statement3 = ...\n",
    "Statement4 = ...\n",
    "Statement5 = ...\n",
    "Statement6 = ..."
   ]
  },
  {
   "cell_type": "markdown",
   "metadata": {},
   "source": [
    "## Submission Guidelines\n",
    "Submit this file after renaming it as rollnum_1.ipynb and zipping it inside the folder named rollnum.zip along with notebook from part 2 and no other files."
   ]
  }
 ],
 "metadata": {
  "kernelspec": {
   "display_name": "Python 3",
   "language": "python",
   "name": "python3"
  },
  "language_info": {
   "codemirror_mode": {
    "name": "ipython",
    "version": 3
   },
   "file_extension": ".py",
   "mimetype": "text/x-python",
   "name": "python",
   "nbconvert_exporter": "python",
   "pygments_lexer": "ipython3",
   "version": "3.8.3"
  }
 },
 "nbformat": 4,
 "nbformat_minor": 2
}
