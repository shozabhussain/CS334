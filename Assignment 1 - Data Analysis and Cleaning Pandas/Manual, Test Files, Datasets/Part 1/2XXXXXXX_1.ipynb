{
 "cells": [
  {
   "cell_type": "markdown",
   "metadata": {},
   "source": [
    "# Assignment 1 (Part 1)"
   ]
  },
  {
   "cell_type": "markdown",
   "metadata": {},
   "source": [
    "### Assignment Instructions"
   ]
  },
  {
   "cell_type": "markdown",
   "metadata": {},
   "source": [
    "* **How to install 'otter'**: Run `pip install otter-grader` in your Anaconda Command Prompt\n",
    "* **Otter**: It is an autograder that we will be using for grading your notebooks.\n",
    "* **grader.check('qn')**: This command runs test cases for nth question `qn` provided to you and displays the result. But these are not the only test cases, these are provided just for your basic testing. There will be some *hidden test cases* on which your answers will be tested as well.\n",
    "* You are **not** allowed to edit any pre-defined variables and as per the instructions for every question you have to assign your answers to these variables.\n",
    "* Write your answers in place of `...` and `pass`\n",
    "* Hardcoded answers will get `zero` marks"
   ]
  },
  {
   "cell_type": "markdown",
   "metadata": {},
   "source": [
    "### Submission Instructions"
   ]
  },
  {
   "cell_type": "markdown",
   "metadata": {},
   "source": [
    "* There are two parts of this assignment. You should name both notebooks as **YourRollNumber_PartNumber.ipynb**. (e.g. this part should be named as *`2XXXXXXX_1.ipynb`*)\n",
    "* You must submit a zip file containg just two notebooks and it must not has any folder or any other file. \n",
    "* The name of the zip file must be your `Roll Number`"
   ]
  },
  {
   "cell_type": "code",
   "execution_count": null,
   "metadata": {},
   "outputs": [],
   "source": [
    "# Initialize Otter\n",
    "import otter\n",
    "grader = otter.Notebook()"
   ]
  },
  {
   "cell_type": "code",
   "execution_count": null,
   "metadata": {},
   "outputs": [],
   "source": [
    "# Import necessary libraries here\n",
    "import pandas as pd"
   ]
  },
  {
   "cell_type": "markdown",
   "metadata": {},
   "source": [
    "**Question 1:** Create a DataFrame that looks like the table below and assign this to `student_information`.\n",
    "(Note: *name* is ***not*** an index_col)\n",
    "\n",
    "| name | age | university | CGPA |\n",
    "|-----|-----|-----| -----|\n",
    "| Brian | 32 | MIT | 3.5 | \n",
    "| Alina | 25 | Harvard | 3.7 |\n",
    "| John | 21 | LUMS | 3.2 |\n",
    "| Ali | 27 | NUST | 3.8 |\n",
    "| Hashim | 19 | FAST | 2.8 |\n",
    "| Arshad | 20 | LUMS | 3.4 |\n",
    "| Bismah | 22 | Oxford |2.9 |\n",
    "| Jessica | 24 | Stanford | 3.1 |\n",
    "| Thomas | 23 | Alabama State university | 2.5 |\n",
    "| Meghan | 21 | Stanford | 3.9 |\n",
    "\n",
    "<!--\n",
    "BEGIN QUESTION\n",
    "name: q1\n",
    "points: 5\n",
    "-->"
   ]
  },
  {
   "cell_type": "code",
   "execution_count": null,
   "metadata": {},
   "outputs": [],
   "source": [
    "student_information = ...\n",
    "student_information"
   ]
  },
  {
   "cell_type": "code",
   "execution_count": null,
   "metadata": {},
   "outputs": [],
   "source": [
    "grader.check(\"q1\")"
   ]
  },
  {
   "cell_type": "markdown",
   "metadata": {},
   "source": [
    "**Question 2:** Read dataset from `student_information.csv` and assign this dataframe to `student_info`\n",
    "\n",
    "<!--\n",
    "BEGIN QUESTION\n",
    "name: q2\n",
    "points: 5\n",
    "-->"
   ]
  },
  {
   "cell_type": "code",
   "execution_count": null,
   "metadata": {},
   "outputs": [],
   "source": [
    "student_info = ...\n",
    "student_info"
   ]
  },
  {
   "cell_type": "code",
   "execution_count": null,
   "metadata": {},
   "outputs": [],
   "source": [
    "grader.check(\"q2\")"
   ]
  },
  {
   "cell_type": "markdown",
   "metadata": {},
   "source": [
    "**Question 3:** Extract and make a list of all the universities these students study in, using the above dataset stored in `student_info`. (`Note:` Do NOT hardcode this and every university's name MUST appear only once.)\n",
    "\n",
    "*`Answering Guidelines:`* Store your answer in `uni_list`\n",
    "\n",
    "<!--\n",
    "BEGIN QUESTION\n",
    "name: q3\n",
    "points: 5\n",
    "-->"
   ]
  },
  {
   "cell_type": "code",
   "execution_count": null,
   "metadata": {},
   "outputs": [],
   "source": [
    "uni_list = ...\n",
    "uni_list"
   ]
  },
  {
   "cell_type": "code",
   "execution_count": null,
   "metadata": {},
   "outputs": [],
   "source": [
    "grader.check(\"q3\")"
   ]
  },
  {
   "cell_type": "markdown",
   "metadata": {},
   "source": [
    "**Question 4:** Extract columns `name` and `university`, using the above dataset stored in `student_info`. (`Note:` Do NOT hardcode this and you are only allowed to `.iloc` in this question)\n",
    "\n",
    "*`Answering Guidelines:`* Store your answer in `name_uni_info`\n",
    "\n",
    "<!--\n",
    "BEGIN QUESTION\n",
    "name: q4\n",
    "points: 5\n",
    "-->"
   ]
  },
  {
   "cell_type": "code",
   "execution_count": null,
   "metadata": {},
   "outputs": [],
   "source": [
    "name_uni_info = ...\n",
    "name_uni_info"
   ]
  },
  {
   "cell_type": "code",
   "execution_count": null,
   "metadata": {},
   "outputs": [],
   "source": [
    "grader.check(\"q4\")"
   ]
  },
  {
   "cell_type": "markdown",
   "metadata": {},
   "source": [
    "**Question 5:** Extract columns `name` and `CGPA`, using the above dataset stored in `student_info`. (`Note:` Do NOT hardcode this and you are only allowed to `.loc` in this question)\n",
    "\n",
    "*`Answering Guidelines:`* Store your answer in `name_cgpa_info`\n",
    "\n",
    "<!--\n",
    "BEGIN QUESTION\n",
    "name: q5\n",
    "points: 5\n",
    "-->"
   ]
  },
  {
   "cell_type": "code",
   "execution_count": null,
   "metadata": {},
   "outputs": [],
   "source": [
    "name_cgpa_info = ...\n",
    "name_cgpa_info"
   ]
  },
  {
   "cell_type": "code",
   "execution_count": null,
   "metadata": {},
   "outputs": [],
   "source": [
    "grader.check(\"q5\")"
   ]
  },
  {
   "cell_type": "markdown",
   "metadata": {},
   "source": [
    "**Question 6:** make a dataframe with students who study in `stanford`, using the above dataset stored in `student_info`. (`Note:` Do NOT hardcode this and you are only allowed to `.loc` in this question)\n",
    "\n",
    "*`Answering Guidelines:`* Store your answer in `stanford_students`\n",
    "\n",
    "<!--\n",
    "BEGIN QUESTION\n",
    "name: q6\n",
    "points: 5\n",
    "-->"
   ]
  },
  {
   "cell_type": "code",
   "execution_count": null,
   "metadata": {},
   "outputs": [],
   "source": [
    "stanford_students = ...\n",
    "stanford_students"
   ]
  },
  {
   "cell_type": "code",
   "execution_count": null,
   "metadata": {},
   "outputs": [],
   "source": [
    "grader.check(\"q6\")"
   ]
  },
  {
   "cell_type": "markdown",
   "metadata": {},
   "source": [
    "**Question 7:** make a dataframe which contains all the students with `CGPA>=3.6`, using the above dataset stored in `student_info`. (`Note:` Do NOT hardcode this)\n",
    "\n",
    "*`Answering Guidelines:`* Store your answer in `high_achievers`\n",
    "\n",
    "<!--\n",
    "BEGIN QUESTION\n",
    "name: q7\n",
    "points: 5\n",
    "-->"
   ]
  },
  {
   "cell_type": "code",
   "execution_count": null,
   "metadata": {},
   "outputs": [],
   "source": [
    "high_achievers = ...\n",
    "high_achievers"
   ]
  },
  {
   "cell_type": "code",
   "execution_count": null,
   "metadata": {},
   "outputs": [],
   "source": [
    "grader.check(\"q7\")"
   ]
  },
  {
   "cell_type": "markdown",
   "metadata": {},
   "source": [
    "**Question 8:** make a function that takes in a `university name` and `dataframe` as an input and returns the number of students in that university. (`Note:` `groupby` could be a helpful function)\n",
    "\n",
    "*`Answering Guidelines:`* Name of function should be `student_count`\n",
    "\n",
    "<!--\n",
    "BEGIN QUESTION\n",
    "name: q8\n",
    "points: 8\n",
    "-->"
   ]
  },
  {
   "cell_type": "code",
   "execution_count": null,
   "metadata": {},
   "outputs": [],
   "source": [
    "def student_count(df, uni_name):\n",
    "    pass\n",
    "\n",
    "student_count(student_info, \"Stanford\")"
   ]
  },
  {
   "cell_type": "code",
   "execution_count": null,
   "metadata": {},
   "outputs": [],
   "source": [
    "grader.check(\"q8\")"
   ]
  },
  {
   "cell_type": "markdown",
   "metadata": {},
   "source": [
    "**Question 9:** make a dataframe containing average CGPAs of every university (`Note:` `groupby` could be a helpful function)\n",
    "\n",
    "*`Answering Guidelines:`* Store the final answer in `avg_cgpa`, final should only have a column of `university` and `CGPA`\n",
    "\n",
    "<!--\n",
    "BEGIN QUESTION\n",
    "name: q9\n",
    "points: 7\n",
    "-->"
   ]
  },
  {
   "cell_type": "code",
   "execution_count": null,
   "metadata": {},
   "outputs": [],
   "source": [
    "avg_cgpa = ...\n",
    "avg_cgpa"
   ]
  },
  {
   "cell_type": "code",
   "execution_count": null,
   "metadata": {},
   "outputs": [],
   "source": [
    "grader.check(\"q9\")"
   ]
  },
  {
   "cell_type": "code",
   "execution_count": null,
   "metadata": {},
   "outputs": [],
   "source": [
    "grader.check_all()"
   ]
  }
 ],
 "metadata": {
  "kernelspec": {
   "display_name": "Python 3",
   "language": "python",
   "name": "python3"
  },
  "language_info": {
   "codemirror_mode": {
    "name": "ipython",
    "version": 3
   },
   "file_extension": ".py",
   "mimetype": "text/x-python",
   "name": "python",
   "nbconvert_exporter": "python",
   "pygments_lexer": "ipython3",
   "version": "3.8.3"
  }
 },
 "nbformat": 4,
 "nbformat_minor": 2
}
