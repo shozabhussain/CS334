{
 "cells": [
  {
   "cell_type": "markdown",
   "metadata": {},
   "source": [
    "## Assignment 1 (Part 2)"
   ]
  },
  {
   "cell_type": "markdown",
   "metadata": {},
   "source": [
    "### Context:\n",
    "\n",
    "The sinking of the Titanic is one of the most infamous shipwrecks in history. The titanic dataset is a record of passengers aboard the Titanic and their fates (whether or not they survived the incident). The principal source for data about Titanic passengers is the Encyclopedia Titanica. The datasets used here were begun by a variety of researchers. One of the original sources is Eaton & Haas (1994) Titanic: Triumph and Tragedy, Patrick Stephens Ltd, which includes a passenger list created by many researchers and edited by Michael A. Findlay.\n",
    "\n",
    "As we explore this data from titanic, lets put our Pandas skills to use and answer some pressing questions regarding the various age groups aboard, their economic statuses and survival rates in each gender. \n",
    "\n",
    "The code to read the data from titanic.csv into titanic_df has already been written for you. Proceed to familiarize yourself with the data and then answer the given questions."
   ]
  },
  {
   "cell_type": "markdown",
   "metadata": {},
   "source": [
    "### Instructions:       \n",
    "\n",
    "- Do not change the provided variable names in any cell. Other than them, you can create as many variables as you like.\n",
    "- You need to write your code in place of ... \n",
    "- Your code may exceed a line and that is okay. Make sure the final variable assignment is done properly though.\n",
    "- Read the answering guidelines carefully. Be careful about what your final answer should contain.  \n",
    "- Some useful functions that you might need for this assignment are groupby(), unique(), copy(), count(), sum(), zip(), list() \n",
    "- Variables named like *_df always store a dataframe.\n",
    "- Use the autograder to verify your code but keep in mind that there are some **hidden test cases** as well. Your code should work for types of testcases. If your code works for the testcases given to you but fails to work for the hidden test cases, no credit will be given for the particular question. Do not hardcode any values. "
   ]
  },
  {
   "cell_type": "code",
   "execution_count": null,
   "metadata": {},
   "outputs": [],
   "source": [
    "# Initialize Otter\n",
    "import otter\n",
    "grader = otter.Notebook()"
   ]
  },
  {
   "cell_type": "code",
   "execution_count": null,
   "metadata": {},
   "outputs": [],
   "source": [
    "# Import libraries\n",
    "import pandas as pd\n",
    "import numpy as np\n",
    "import matplotlib"
   ]
  },
  {
   "cell_type": "code",
   "execution_count": null,
   "metadata": {},
   "outputs": [],
   "source": [
    "titanic_df = pd.read_csv(\"titanic.csv\")\n",
    "titanic_df.head(5)"
   ]
  },
  {
   "cell_type": "code",
   "execution_count": null,
   "metadata": {},
   "outputs": [],
   "source": [
    "# Use this cell to familiarize yourself with titanic_df. Analyze the shape, datatypes, rows and columns of the dataframe."
   ]
  },
  {
   "cell_type": "markdown",
   "metadata": {},
   "source": [
    "**Question 1:** As you may have noticed, the above dataframe does not contain the fate of each passenger (i.e., whether he/she survived or not). Read the list of survivors present in survivors.csv and update titanic_df to incorporate a column called 'Survived'. (Hint: Make another dataframe and join/merge it with titanic_df) \n",
    "<br>**Answering Guidelines:** Your answer is the updated titanic_df. You do not need to explicitly assign this to any answer variable.\n",
    "<!--\n",
    "BEGIN QUESTION\n",
    "name: q1\n",
    "points: 5\n",
    "-->"
   ]
  },
  {
   "cell_type": "code",
   "execution_count": null,
   "metadata": {},
   "outputs": [],
   "source": [
    "# Write code here"
   ]
  },
  {
   "cell_type": "code",
   "execution_count": null,
   "metadata": {},
   "outputs": [],
   "source": [
    "grader.check(\"q1\")"
   ]
  },
  {
   "cell_type": "markdown",
   "metadata": {},
   "source": [
    "**Question 2:** Set the index of titanic_df to *PassengerId*.  \n",
    "**Answering Guidelines:** Your answer is the updated titanic_df. You do not need to explicitly assign this to any answer variable.\n",
    "<!--\n",
    "BEGIN QUESTION\n",
    "name: q2\n",
    "points: 3\n",
    "-->"
   ]
  },
  {
   "cell_type": "code",
   "execution_count": null,
   "metadata": {},
   "outputs": [],
   "source": [
    "# Write code here"
   ]
  },
  {
   "cell_type": "code",
   "execution_count": null,
   "metadata": {},
   "outputs": [],
   "source": [
    "grader.check(\"q2\")"
   ]
  },
  {
   "cell_type": "markdown",
   "metadata": {},
   "source": [
    "**Question 3:** Use the describe() function to calculate the median age of the passengers.  \n",
    "**Answering Guidelines:** Your answer is a float variable that needs to be assigned to answer3.\n",
    "<!--\n",
    "BEGIN QUESTION\n",
    "name: q3\n",
    "points: 3\n",
    "-->"
   ]
  },
  {
   "cell_type": "code",
   "execution_count": null,
   "metadata": {},
   "outputs": [],
   "source": [
    "answer3 = ..."
   ]
  },
  {
   "cell_type": "code",
   "execution_count": null,
   "metadata": {},
   "outputs": [],
   "source": [
    "grader.check(\"q3\")"
   ]
  },
  {
   "cell_type": "markdown",
   "metadata": {},
   "source": [
    "**Question 4:** Is the median age of passengers who survived higher than the median age of those who were not able to survive? \n",
    "<br>**Answering Guidelines:** You answer should be a string 'Yes' or 'No' stored in answer4.\n",
    "<!--\n",
    "BEGIN QUESTION\n",
    "name: q4\n",
    "points: 3\n",
    "-->"
   ]
  },
  {
   "cell_type": "code",
   "execution_count": null,
   "metadata": {},
   "outputs": [],
   "source": [
    "answer4 = ..."
   ]
  },
  {
   "cell_type": "code",
   "execution_count": null,
   "metadata": {},
   "outputs": [],
   "source": [
    "grader.check(\"q4\")"
   ]
  },
  {
   "cell_type": "markdown",
   "metadata": {},
   "source": [
    "**Question 5:** What do the SibSp and ParCh column in the dataset mean? (Hint: build a dataframe titanic_columns using the 2 series in the cell below to find the answer)\n",
    "<br>**Answering Guidelines:** Your answer must be in a string format and should be assigned to answer5_SibSp and answer5_Parch respectively.\n",
    "<!--\n",
    "BEGIN QUESTION\n",
    "name: q5\n",
    "points: 3\n",
    "-->"
   ]
  },
  {
   "cell_type": "code",
   "execution_count": null,
   "metadata": {},
   "outputs": [],
   "source": [
    "definition = pd.Series([\"Unique ID for each passenger\", \"Did the passenger survive? (0 = No; 1 = Yes)\",\"Class  (1 = 1st; 2 = 2nd; 3 = 3rd)\",\"Name of the passenger\",\"Sex of the passenger\",     \"Age of the passenger\" ,\"Number of Siblings/Spouses Aboard\",\"Number of Parents/Children Aboard\",\"Ticket Number\",\"Passenger Fare (British pound)\",\"Port of Embarkation (C = Cherbourg; Q = Queenstown; S = Southampton)\"])\n",
    "variables = pd.Series(['PassengerId','Survived', 'Pclass', 'Name', 'Sex', 'Age', 'SibSp', 'ParCh', 'Ticket', 'Fare','Embarked' ])\n",
    "\n",
    "titanic_columns = ...\n",
    "\n",
    "answer5_SibSp = ...\n",
    "answer5_ParCh = ..."
   ]
  },
  {
   "cell_type": "code",
   "execution_count": null,
   "metadata": {},
   "outputs": [],
   "source": [
    "grader.check(\"q5\")"
   ]
  },
  {
   "cell_type": "markdown",
   "metadata": {},
   "source": [
    "**Question 6:** What percent of the people aboard survived? Visualize the counts using a simple bar graph.\n",
    "<br>**Answering Guidelines:** Your answers should be rounded off to 2 decimal places and should be assigned to answer6.\n",
    "<!--\n",
    "BEGIN QUESTION\n",
    "name: q6\n",
    "points: 3\n",
    "-->"
   ]
  },
  {
   "cell_type": "code",
   "execution_count": null,
   "metadata": {},
   "outputs": [],
   "source": [
    "answer6 = ... "
   ]
  },
  {
   "cell_type": "code",
   "execution_count": null,
   "metadata": {},
   "outputs": [],
   "source": [
    "grader.check(\"q6\")"
   ]
  },
  {
   "cell_type": "markdown",
   "metadata": {},
   "source": [
    "**Question 7:**  What percent of the people who could not survive were women? Similarly, What percent of them were adults?\n",
    "<br>**Answering Guidelines:** Your answers should be rounded off to 2 decimal places and should be assigned to answer7_female and answer7_adult. \n",
    "<!--\n",
    "BEGIN QUESTION\n",
    "name: q7\n",
    "points: 3\n",
    "-->"
   ]
  },
  {
   "cell_type": "code",
   "execution_count": null,
   "metadata": {},
   "outputs": [],
   "source": [
    "answer7_adult = ...\n",
    "answer7_female = ..."
   ]
  },
  {
   "cell_type": "code",
   "execution_count": null,
   "metadata": {},
   "outputs": [],
   "source": [
    "grader.check(\"q7\")"
   ]
  },
  {
   "cell_type": "markdown",
   "metadata": {},
   "source": [
    "**Question 8:** What was the most preferred class by the passengers? Did this passenger class have the highest number of deaths as well? (Hint: Use groupby object)\n",
    "<br>**Answering Guidelines:** Your answers should be strings '1'/'2'/'3' and 'Yes'/'No') stored in answer8_pclass and answer8_moredeaths respectively.\n",
    "<!--\n",
    "BEGIN QUESTION\n",
    "name: q8\n",
    "points: 3\n",
    "-->"
   ]
  },
  {
   "cell_type": "code",
   "execution_count": null,
   "metadata": {},
   "outputs": [],
   "source": [
    "answer8_pclass = ...\n",
    "answer8_moredeaths = ..."
   ]
  },
  {
   "cell_type": "code",
   "execution_count": null,
   "metadata": {},
   "outputs": [],
   "source": [
    "grader.check(\"q8\")"
   ]
  },
  {
   "cell_type": "markdown",
   "metadata": {},
   "source": [
    "**Question 9:** Using a pivot table, represent the number of male and female passengers in each of the three passenger classes.\n",
    "<br>**Answering Guidelines:** Your answer is a pivot table stored in q9_pivot \n",
    "<!--\n",
    "BEGIN QUESTION\n",
    "name: q9\n",
    "points: 3\n",
    "-->"
   ]
  },
  {
   "cell_type": "code",
   "execution_count": null,
   "metadata": {},
   "outputs": [],
   "source": [
    "q9_pivot = ..."
   ]
  },
  {
   "cell_type": "code",
   "execution_count": null,
   "metadata": {},
   "outputs": [],
   "source": [
    "grader.check(\"q9\")"
   ]
  },
  {
   "cell_type": "markdown",
   "metadata": {},
   "source": [
    "**Question 10:** Similarly, using a pivot table, represent the mean age of male and female passengers in each of the three passenger classes.\n",
    "<br>**Answering Guidelines:** Your answer is a pivot table stored in q10_pivot \n",
    "<!--\n",
    "BEGIN QUESTION\n",
    "name: q9\n",
    "points: 5\n",
    "-->"
   ]
  },
  {
   "cell_type": "code",
   "execution_count": null,
   "metadata": {},
   "outputs": [],
   "source": [
    "q10_pivot = ..."
   ]
  },
  {
   "cell_type": "code",
   "execution_count": null,
   "metadata": {},
   "outputs": [],
   "source": [
    "grader.check(\"q10\")"
   ]
  },
  {
   "cell_type": "markdown",
   "metadata": {},
   "source": [
    "**Question 11:** Which class had the lowest age to fare ratio? (Hint: Simply find the age to fare ratio for each passenger and locate which class contains the value with minimum ratio.)\n",
    "<br>**Answering Guidelines:** Your answer should be a string ('1'/'2'/'3') stored in answer11 \n",
    "<!--\n",
    "BEGIN QUESTION\n",
    "name: q11\n",
    "points: 5\n",
    "-->"
   ]
  },
  {
   "cell_type": "code",
   "execution_count": null,
   "metadata": {},
   "outputs": [],
   "source": [
    "answer11 = ..."
   ]
  },
  {
   "cell_type": "code",
   "execution_count": null,
   "metadata": {},
   "outputs": [],
   "source": [
    "grader.check(\"q11\")"
   ]
  },
  {
   "cell_type": "markdown",
   "metadata": {},
   "source": [
    "**Question 12:** Just a check point to let you know that you are doing greattt! :)\n",
    "<br>**Answering Guidelines:** Have a small break if you want. "
   ]
  },
  {
   "cell_type": "markdown",
   "metadata": {},
   "source": [
    "**Question 13:** Replace the initials in the Embarked column with the exact port names. For the exact names, use the titanic_columns dataframe created earlier.\n",
    "<br>**Answering Guidelines:** Your answer is the updated titanic_df. You do not need to explicitly assign this to any answer variable.\n",
    "<!--\n",
    "BEGIN QUESTION\n",
    "name: q13\n",
    "points: 3\n",
    "-->"
   ]
  },
  {
   "cell_type": "code",
   "execution_count": null,
   "metadata": {},
   "outputs": [],
   "source": [
    "# Your code here"
   ]
  },
  {
   "cell_type": "code",
   "execution_count": null,
   "metadata": {},
   "outputs": [],
   "source": [
    "grader.check(\"q13\")"
   ]
  },
  {
   "cell_type": "markdown",
   "metadata": {},
   "source": [
    "**Question 14:** Did the passengers who embarked on Cherbourg and travelled 3rd class have a higher survival rate than the passengers who embarked on Southampton and travelled first class?\n",
    "<br>**Answering Guidelines:** Your answer should be a string ('Yes'/'No') stored in answer14\n",
    "<!--\n",
    "BEGIN QUESTION\n",
    "name: q14\n",
    "points: 3\n",
    "-->"
   ]
  },
  {
   "cell_type": "code",
   "execution_count": null,
   "metadata": {},
   "outputs": [],
   "source": [
    "answer14 = ..."
   ]
  },
  {
   "cell_type": "code",
   "execution_count": null,
   "metadata": {},
   "outputs": [],
   "source": [
    "grader.check(\"q14\")"
   ]
  },
  {
   "cell_type": "markdown",
   "metadata": {},
   "source": [
    "**Question 15:** How many passengers who were unable to survive had atleast 3 more family members (excluding them) aboard?\n",
    "<br>**Answering Guidelines:** Your answer is a whole number stored in answer15\n",
    "<!--\n",
    "BEGIN QUESTION\n",
    "name: q15\n",
    "points: 5\n",
    "-->"
   ]
  },
  {
   "cell_type": "code",
   "execution_count": null,
   "metadata": {},
   "outputs": [],
   "source": [
    "answer15 = ..."
   ]
  },
  {
   "cell_type": "code",
   "execution_count": null,
   "metadata": {},
   "outputs": [],
   "source": [
    "grader.check(\"q15\")"
   ]
  },
  {
   "cell_type": "markdown",
   "metadata": {},
   "source": [
    "To double-check your work, please run the following cell."
   ]
  },
  {
   "cell_type": "code",
   "execution_count": null,
   "metadata": {},
   "outputs": [],
   "source": [
    "grader.check_all()"
   ]
  }
 ],
 "metadata": {
  "kernelspec": {
   "display_name": "Python 3",
   "language": "python",
   "name": "python3"
  },
  "language_info": {
   "codemirror_mode": {
    "name": "ipython",
    "version": 3
   },
   "file_extension": ".py",
   "mimetype": "text/x-python",
   "name": "python",
   "nbconvert_exporter": "python",
   "pygments_lexer": "ipython3",
   "version": "3.8.3"
  }
 },
 "nbformat": 4,
 "nbformat_minor": 4
}
