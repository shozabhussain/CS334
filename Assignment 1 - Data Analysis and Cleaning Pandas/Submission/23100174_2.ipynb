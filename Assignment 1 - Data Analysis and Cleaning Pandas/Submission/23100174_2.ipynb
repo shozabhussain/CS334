{
 "cells": [
  {
   "cell_type": "markdown",
   "source": [
    "## Assignment 1 (Part 2)"
   ],
   "metadata": {}
  },
  {
   "cell_type": "markdown",
   "source": [
    "### Context:\n",
    "\n",
    "The sinking of the Titanic is one of the most infamous shipwrecks in history. The titanic dataset is a record of passengers aboard the Titanic and their fates (whether or not they survived the incident). The principal source for data about Titanic passengers is the Encyclopedia Titanica. The datasets used here were begun by a variety of researchers. One of the original sources is Eaton & Haas (1994) Titanic: Triumph and Tragedy, Patrick Stephens Ltd, which includes a passenger list created by many researchers and edited by Michael A. Findlay.\n",
    "\n",
    "As we explore this data from titanic, lets put our Pandas skills to use and answer some pressing questions regarding the various age groups aboard, their economic statuses and survival rates in each gender. \n",
    "\n",
    "The code to read the data from titanic.csv into titanic_df has already been written for you. Proceed to familiarize yourself with the data and then answer the given questions."
   ],
   "metadata": {}
  },
  {
   "cell_type": "markdown",
   "source": [
    "### Instructions:       \n",
    "\n",
    "- Do not change the provided variable names in any cell. Other than them, you can create as many variables as you like.\n",
    "- You need to write your code in place of ... \n",
    "- Your code may exceed a line and that is okay. Make sure the final variable assignment is done properly though.\n",
    "- Read the answering guidelines carefully. Be careful about what your final answer should contain.  \n",
    "- Some useful functions that you might need for this assignment are groupby(), unique(), copy(), count(), sum(), zip(), list() \n",
    "- Variables named like *_df always store a dataframe.\n",
    "- Use the autograder to verify your code but keep in mind that there are some **hidden test cases** as well. Your code should work for types of testcases. If your code works for the testcases given to you but fails to work for the hidden test cases, no credit will be given for the particular question. Do not hardcode any values. "
   ],
   "metadata": {}
  },
  {
   "cell_type": "code",
   "execution_count": 38,
   "source": [
    "# Initialize Otter\r\n",
    "import otter\r\n",
    "grader = otter.Notebook()"
   ],
   "outputs": [],
   "metadata": {}
  },
  {
   "cell_type": "code",
   "execution_count": 39,
   "source": [
    "# Import libraries\r\n",
    "import pandas as pd\r\n",
    "import numpy as np\r\n",
    "import matplotlib"
   ],
   "outputs": [],
   "metadata": {}
  },
  {
   "cell_type": "code",
   "execution_count": 40,
   "source": [
    "titanic_df = pd.read_csv(\"titanic.csv\")\r\n",
    "titanic_df.head(5)"
   ],
   "outputs": [
    {
     "output_type": "execute_result",
     "data": {
      "text/html": [
       "<div>\n",
       "<style scoped>\n",
       "    .dataframe tbody tr th:only-of-type {\n",
       "        vertical-align: middle;\n",
       "    }\n",
       "\n",
       "    .dataframe tbody tr th {\n",
       "        vertical-align: top;\n",
       "    }\n",
       "\n",
       "    .dataframe thead th {\n",
       "        text-align: right;\n",
       "    }\n",
       "</style>\n",
       "<table border=\"1\" class=\"dataframe\">\n",
       "  <thead>\n",
       "    <tr style=\"text-align: right;\">\n",
       "      <th></th>\n",
       "      <th>PassengerId</th>\n",
       "      <th>Pclass</th>\n",
       "      <th>Name</th>\n",
       "      <th>Sex</th>\n",
       "      <th>Age</th>\n",
       "      <th>SibSp</th>\n",
       "      <th>ParCh</th>\n",
       "      <th>Ticket</th>\n",
       "      <th>Fare</th>\n",
       "      <th>Embarked</th>\n",
       "    </tr>\n",
       "  </thead>\n",
       "  <tbody>\n",
       "    <tr>\n",
       "      <th>0</th>\n",
       "      <td>892</td>\n",
       "      <td>3</td>\n",
       "      <td>Kelly, Mr. James</td>\n",
       "      <td>male</td>\n",
       "      <td>34.5</td>\n",
       "      <td>0</td>\n",
       "      <td>0</td>\n",
       "      <td>330911</td>\n",
       "      <td>7.8292</td>\n",
       "      <td>Q</td>\n",
       "    </tr>\n",
       "    <tr>\n",
       "      <th>1</th>\n",
       "      <td>893</td>\n",
       "      <td>3</td>\n",
       "      <td>Wilkes, Mrs. James (Ellen Needs)</td>\n",
       "      <td>female</td>\n",
       "      <td>47.0</td>\n",
       "      <td>1</td>\n",
       "      <td>0</td>\n",
       "      <td>363272</td>\n",
       "      <td>7.0000</td>\n",
       "      <td>S</td>\n",
       "    </tr>\n",
       "    <tr>\n",
       "      <th>2</th>\n",
       "      <td>894</td>\n",
       "      <td>2</td>\n",
       "      <td>Myles, Mr. Thomas Francis</td>\n",
       "      <td>male</td>\n",
       "      <td>62.0</td>\n",
       "      <td>0</td>\n",
       "      <td>0</td>\n",
       "      <td>240276</td>\n",
       "      <td>9.6875</td>\n",
       "      <td>Q</td>\n",
       "    </tr>\n",
       "    <tr>\n",
       "      <th>3</th>\n",
       "      <td>895</td>\n",
       "      <td>3</td>\n",
       "      <td>Wirz, Mr. Albert</td>\n",
       "      <td>male</td>\n",
       "      <td>27.0</td>\n",
       "      <td>0</td>\n",
       "      <td>0</td>\n",
       "      <td>315154</td>\n",
       "      <td>8.6625</td>\n",
       "      <td>S</td>\n",
       "    </tr>\n",
       "    <tr>\n",
       "      <th>4</th>\n",
       "      <td>896</td>\n",
       "      <td>3</td>\n",
       "      <td>Hirvonen, Mrs. Alexander (Helga E Lindqvist)</td>\n",
       "      <td>female</td>\n",
       "      <td>22.0</td>\n",
       "      <td>1</td>\n",
       "      <td>1</td>\n",
       "      <td>3101298</td>\n",
       "      <td>12.2875</td>\n",
       "      <td>S</td>\n",
       "    </tr>\n",
       "  </tbody>\n",
       "</table>\n",
       "</div>"
      ],
      "text/plain": [
       "   PassengerId  Pclass                                          Name     Sex  \\\n",
       "0          892       3                              Kelly, Mr. James    male   \n",
       "1          893       3              Wilkes, Mrs. James (Ellen Needs)  female   \n",
       "2          894       2                     Myles, Mr. Thomas Francis    male   \n",
       "3          895       3                              Wirz, Mr. Albert    male   \n",
       "4          896       3  Hirvonen, Mrs. Alexander (Helga E Lindqvist)  female   \n",
       "\n",
       "    Age  SibSp  ParCh   Ticket     Fare Embarked  \n",
       "0  34.5      0      0   330911   7.8292        Q  \n",
       "1  47.0      1      0   363272   7.0000        S  \n",
       "2  62.0      0      0   240276   9.6875        Q  \n",
       "3  27.0      0      0   315154   8.6625        S  \n",
       "4  22.0      1      1  3101298  12.2875        S  "
      ]
     },
     "metadata": {},
     "execution_count": 40
    }
   ],
   "metadata": {}
  },
  {
   "cell_type": "code",
   "execution_count": 41,
   "source": [
    "# Use this cell to familiarize yourself with titanic_df. Analyze the shape, datatypes, rows and columns of the dataframe."
   ],
   "outputs": [],
   "metadata": {}
  },
  {
   "cell_type": "markdown",
   "source": [
    "**Question 1:** As you may have noticed, the above dataframe does not contain the fate of each passenger (i.e., whether he/she survived or not). Read the list of survivors present in survivors.csv and update titanic_df to incorporate a column called 'Survived'. (Hint: Make another dataframe and join/merge it with titanic_df) \n",
    "<br>**Answering Guidelines:** Your answer is the updated titanic_df. You do not need to explicitly assign this to any answer variable.\n",
    "<!--\n",
    "BEGIN QUESTION\n",
    "name: q1\n",
    "points: 5\n",
    "-->"
   ],
   "metadata": {}
  },
  {
   "cell_type": "code",
   "execution_count": 42,
   "source": [
    "survivors_df = pd.read_csv(\"survivors.csv\")\r\n",
    "titanic_df = titanic_df.merge(survivors_df)"
   ],
   "outputs": [],
   "metadata": {}
  },
  {
   "cell_type": "code",
   "execution_count": 43,
   "source": [
    "grader.check(\"q1\")"
   ],
   "outputs": [
    {
     "output_type": "execute_result",
     "data": {
      "text/html": [
       "<p><strong><pre style='display: inline;'>q1</pre></strong> passed!</p>"
      ],
      "text/plain": [
       "q1 results: All test cases passed!"
      ]
     },
     "metadata": {},
     "execution_count": 43
    }
   ],
   "metadata": {}
  },
  {
   "cell_type": "markdown",
   "source": [
    "**Question 2:** Set the index of titanic_df to *PassengerId*.  \n",
    "**Answering Guidelines:** Your answer is the updated titanic_df. You do not need to explicitly assign this to any answer variable.\n",
    "<!--\n",
    "BEGIN QUESTION\n",
    "name: q2\n",
    "points: 3\n",
    "-->"
   ],
   "metadata": {}
  },
  {
   "cell_type": "code",
   "execution_count": 44,
   "source": [
    "titanic_df = titanic_df.set_index('PassengerId')"
   ],
   "outputs": [],
   "metadata": {}
  },
  {
   "cell_type": "code",
   "execution_count": 45,
   "source": [
    "grader.check(\"q2\")"
   ],
   "outputs": [
    {
     "output_type": "execute_result",
     "data": {
      "text/html": [
       "<p><strong><pre style='display: inline;'>q2</pre></strong> passed!</p>"
      ],
      "text/plain": [
       "q2 results: All test cases passed!"
      ]
     },
     "metadata": {},
     "execution_count": 45
    }
   ],
   "metadata": {}
  },
  {
   "cell_type": "markdown",
   "source": [
    "**Question 3:** Use the describe() function to calculate the median age of the passengers.  \n",
    "**Answering Guidelines:** Your answer is a float variable that needs to be assigned to answer3.\n",
    "<!--\n",
    "BEGIN QUESTION\n",
    "name: q3\n",
    "points: 3\n",
    "-->"
   ],
   "metadata": {}
  },
  {
   "cell_type": "code",
   "execution_count": 46,
   "source": [
    "\r\n",
    "answer3 = titanic_df.describe().iloc[5, 1]\r\n"
   ],
   "outputs": [],
   "metadata": {}
  },
  {
   "cell_type": "code",
   "execution_count": 47,
   "source": [
    "grader.check(\"q3\")"
   ],
   "outputs": [
    {
     "output_type": "execute_result",
     "data": {
      "text/html": [
       "<p><strong><pre style='display: inline;'>q3</pre></strong> passed!</p>"
      ],
      "text/plain": [
       "q3 results: All test cases passed!"
      ]
     },
     "metadata": {},
     "execution_count": 47
    }
   ],
   "metadata": {}
  },
  {
   "cell_type": "markdown",
   "source": [
    "**Question 4:** Is the median age of passengers who survived higher than the median age of those who were not able to survive? \n",
    "<br>**Answering Guidelines:** You answer should be a string 'Yes' or 'No' stored in answer4.\n",
    "<!--\n",
    "BEGIN QUESTION\n",
    "name: q4\n",
    "points: 3\n",
    "-->"
   ],
   "metadata": {}
  },
  {
   "cell_type": "code",
   "execution_count": 48,
   "source": [
    "survived = titanic_df.loc[titanic_df['Survived'] == 1]\r\n",
    "not_survived = titanic_df.loc[titanic_df['Survived'] == 0]\r\n",
    "\r\n",
    "survived_median_age = survived.describe().iloc[5, 1]\r\n",
    "not_survived_median_age = not_survived.describe().iloc[5, 1]\r\n",
    "\r\n",
    "if survived_median_age > not_survived_median_age:\r\n",
    "    answer4 = 'Yes'\r\n",
    "else:\r\n",
    "    answer4 = 'No'\r\n",
    "\r\n"
   ],
   "outputs": [],
   "metadata": {}
  },
  {
   "cell_type": "code",
   "execution_count": 49,
   "source": [
    "grader.check(\"q4\")"
   ],
   "outputs": [
    {
     "output_type": "execute_result",
     "data": {
      "text/html": [
       "<p><strong><pre style='display: inline;'>q4</pre></strong> passed!</p>"
      ],
      "text/plain": [
       "q4 results: All test cases passed!"
      ]
     },
     "metadata": {},
     "execution_count": 49
    }
   ],
   "metadata": {}
  },
  {
   "cell_type": "markdown",
   "source": [
    "**Question 5:** What do the SibSp and ParCh column in the dataset mean? (Hint: build a dataframe titanic_columns using the 2 series in the cell below to find the answer)\n",
    "<br>**Answering Guidelines:** Your answer must be in a string format and should be assigned to answer5_SibSp and answer5_Parch respectively.\n",
    "<!--\n",
    "BEGIN QUESTION\n",
    "name: q5\n",
    "points: 3\n",
    "-->"
   ],
   "metadata": {}
  },
  {
   "cell_type": "code",
   "execution_count": 50,
   "source": [
    "definition = pd.Series([\"Unique ID for each passenger\", \"Did the passenger survive? (0 = No; 1 = Yes)\",\"Class  (1 = 1st; 2 = 2nd; 3 = 3rd)\",\"Name of the passenger\",\"Sex of the passenger\",     \"Age of the passenger\" ,\"Number of Siblings/Spouses Aboard\",\"Number of Parents/Children Aboard\",\"Ticket Number\",\"Passenger Fare (British pound)\",\"Port of Embarkation (C = Cherbourg; Q = Queenstown; S = Southampton)\"])\r\n",
    "variables = pd.Series(['PassengerId','Survived', 'Pclass', 'Name', 'Sex', 'Age', 'SibSp', 'ParCh', 'Ticket', 'Fare','Embarked' ])\r\n",
    "\r\n",
    "titanic_columns = pd.DataFrame({'definition':definition, 'variables':variables})\r\n",
    "\r\n",
    "answer5_SibSp = titanic_columns.loc[ (titanic_columns['variables'] == 'SibSp'), ['definition'] ] \r\n",
    "answer5_SibSp = answer5_SibSp.iloc[0, 0]\r\n",
    "\r\n",
    "answer5_ParCh = titanic_columns.loc[ (titanic_columns['variables'] == 'ParCh'), ['definition'] ]\r\n",
    "answer5_ParCh = answer5_ParCh.iloc[0,0]\r\n",
    "\r\n"
   ],
   "outputs": [],
   "metadata": {}
  },
  {
   "cell_type": "code",
   "execution_count": 51,
   "source": [
    "grader.check(\"q5\")"
   ],
   "outputs": [
    {
     "output_type": "execute_result",
     "data": {
      "text/html": [
       "<p><strong><pre style='display: inline;'>q5</pre></strong> passed!</p>"
      ],
      "text/plain": [
       "q5 results: All test cases passed!"
      ]
     },
     "metadata": {},
     "execution_count": 51
    }
   ],
   "metadata": {}
  },
  {
   "cell_type": "markdown",
   "source": [
    "**Question 6:** What percent of the people aboard survived? Visualize the counts using a simple bar graph.\n",
    "<br>**Answering Guidelines:** Your answers should be rounded off to 2 decimal places and should be assigned to answer6.\n",
    "<!--\n",
    "BEGIN QUESTION\n",
    "name: q6\n",
    "points: 3\n",
    "-->"
   ],
   "metadata": {}
  },
  {
   "cell_type": "code",
   "execution_count": 52,
   "source": [
    "no_of_survived = survived.describe().iloc[0,0]\r\n",
    "no_of_not_survived = not_survived.describe().iloc[0,0]\r\n",
    "\r\n",
    "bar_graph = pd.DataFrame( { \"fate\":[\"Survived\", \"Not Survived\"], \"Counts\":[no_of_survived, no_of_not_survived ] } )\r\n",
    "ax = bar_graph.plot.bar(x='fate', y='Counts')\r\n",
    "\r\n",
    "answer6 = no_of_survived / (no_of_survived + no_of_not_survived)\r\n",
    "answer6 = (answer6*100).round(2)"
   ],
   "outputs": [
    {
     "output_type": "display_data",
     "data": {
      "image/png": "[encoded data removed]",
      "text/plain": [
       "<Figure size 432x288 with 1 Axes>"
      ]
     },
     "metadata": {
      "needs_background": "light"
     }
    }
   ],
   "metadata": {}
  },
  {
   "cell_type": "code",
   "execution_count": 53,
   "source": [
    "grader.check(\"q6\")"
   ],
   "outputs": [
    {
     "output_type": "execute_result",
     "data": {
      "text/html": [
       "<p><strong><pre style='display: inline;'>q6</pre></strong> passed!</p>"
      ],
      "text/plain": [
       "q6 results: All test cases passed!"
      ]
     },
     "metadata": {},
     "execution_count": 53
    }
   ],
   "metadata": {}
  },
  {
   "cell_type": "markdown",
   "source": [
    "**Question 7:**  What percent of the people who could not survive were women? Similarly, What percent of them were adults?\n",
    "<br>**Answering Guidelines:** Your answers should be rounded off to 2 decimal places and should be assigned to answer7_female and answer7_adult. \n",
    "<!--\n",
    "BEGIN QUESTION\n",
    "name: q7\n",
    "points: 3\n",
    "-->"
   ],
   "metadata": {}
  },
  {
   "cell_type": "code",
   "execution_count": 54,
   "source": [
    "answer7_adult = not_survived.loc [ not_survived['Age'] >= 18 ].shape[0]\r\n",
    "answer7_female = not_survived.loc [ not_survived['Sex'] == 'female' ].shape[0]\r\n",
    "\r\n",
    "answer7_adult = ((answer7_adult/ no_of_not_survived)*100).round(2)\r\n",
    "answer7_female = ((answer7_female/ no_of_not_survived)*100).round(2)\r\n",
    "\r\n"
   ],
   "outputs": [],
   "metadata": {}
  },
  {
   "cell_type": "code",
   "execution_count": 55,
   "source": [
    "grader.check(\"q7\")"
   ],
   "outputs": [
    {
     "output_type": "execute_result",
     "data": {
      "text/html": [
       "<p><strong><pre style='display: inline;'>q7</pre></strong> passed!</p>"
      ],
      "text/plain": [
       "q7 results: All test cases passed!"
      ]
     },
     "metadata": {},
     "execution_count": 55
    }
   ],
   "metadata": {}
  },
  {
   "cell_type": "markdown",
   "source": [
    "**Question 8:** What was the most preferred class by the passengers? Did this passenger class have the highest number of deaths as well? (Hint: Use groupby object)\n",
    "<br>**Answering Guidelines:** Your answers should be strings '1'/'2'/'3' and 'Yes'/'No') stored in answer8_pclass and answer8_moredeaths respectively.\n",
    "<!--\n",
    "BEGIN QUESTION\n",
    "name: q8\n",
    "points: 3\n",
    "-->"
   ],
   "metadata": {}
  },
  {
   "cell_type": "code",
   "execution_count": 56,
   "source": [
    "answer8_pclass = titanic_df.groupby('Pclass').size().idxmax()\r\n",
    "answer8_pclass = str(answer8_pclass)\r\n",
    "\r\n",
    "class_with_most_deaths = not_survived.groupby('Pclass').size().idxmax()\r\n",
    "class_with_most_deaths = str(class_with_most_deaths)\r\n",
    "\r\n",
    "if answer8_pclass == class_with_most_deaths:\r\n",
    "    answer8_moredeaths = \"Yes\"\r\n",
    "else:\r\n",
    "    answer8_moredeaths = \"No\""
   ],
   "outputs": [],
   "metadata": {}
  },
  {
   "cell_type": "code",
   "execution_count": 57,
   "source": [
    "grader.check(\"q8\")"
   ],
   "outputs": [
    {
     "output_type": "execute_result",
     "data": {
      "text/html": [
       "<p><strong><pre style='display: inline;'>q8</pre></strong> passed!</p>"
      ],
      "text/plain": [
       "q8 results: All test cases passed!"
      ]
     },
     "metadata": {},
     "execution_count": 57
    }
   ],
   "metadata": {}
  },
  {
   "cell_type": "markdown",
   "source": [
    "**Question 9:** Using a pivot table, represent the number of male and female passengers in each of the three passenger classes.\n",
    "<br>**Answering Guidelines:** Your answer is a pivot table stored in q9_pivot \n",
    "<!--\n",
    "BEGIN QUESTION\n",
    "name: q9\n",
    "points: 3\n",
    "-->"
   ],
   "metadata": {}
  },
  {
   "cell_type": "code",
   "execution_count": 58,
   "source": [
    "q9_pivot = titanic_df.pivot_table(index = \"Pclass\", columns = \"Sex\", values =\"Name\", aggfunc = \"count\")\r\n",
    "q9_pivot"
   ],
   "outputs": [
    {
     "output_type": "execute_result",
     "data": {
      "text/html": [
       "<div>\n",
       "<style scoped>\n",
       "    .dataframe tbody tr th:only-of-type {\n",
       "        vertical-align: middle;\n",
       "    }\n",
       "\n",
       "    .dataframe tbody tr th {\n",
       "        vertical-align: top;\n",
       "    }\n",
       "\n",
       "    .dataframe thead th {\n",
       "        text-align: right;\n",
       "    }\n",
       "</style>\n",
       "<table border=\"1\" class=\"dataframe\">\n",
       "  <thead>\n",
       "    <tr style=\"text-align: right;\">\n",
       "      <th>Sex</th>\n",
       "      <th>female</th>\n",
       "      <th>male</th>\n",
       "    </tr>\n",
       "    <tr>\n",
       "      <th>Pclass</th>\n",
       "      <th></th>\n",
       "      <th></th>\n",
       "    </tr>\n",
       "  </thead>\n",
       "  <tbody>\n",
       "    <tr>\n",
       "      <th>1</th>\n",
       "      <td>50</td>\n",
       "      <td>57</td>\n",
       "    </tr>\n",
       "    <tr>\n",
       "      <th>2</th>\n",
       "      <td>30</td>\n",
       "      <td>63</td>\n",
       "    </tr>\n",
       "    <tr>\n",
       "      <th>3</th>\n",
       "      <td>72</td>\n",
       "      <td>146</td>\n",
       "    </tr>\n",
       "  </tbody>\n",
       "</table>\n",
       "</div>"
      ],
      "text/plain": [
       "Sex     female  male\n",
       "Pclass              \n",
       "1           50    57\n",
       "2           30    63\n",
       "3           72   146"
      ]
     },
     "metadata": {},
     "execution_count": 58
    }
   ],
   "metadata": {}
  },
  {
   "cell_type": "code",
   "execution_count": 59,
   "source": [
    "grader.check(\"q9\")"
   ],
   "outputs": [
    {
     "output_type": "execute_result",
     "data": {
      "text/html": [
       "<p><strong><pre style='display: inline;'>q9</pre></strong> passed!</p>"
      ],
      "text/plain": [
       "q9 results: All test cases passed!"
      ]
     },
     "metadata": {},
     "execution_count": 59
    }
   ],
   "metadata": {}
  },
  {
   "cell_type": "markdown",
   "source": [
    "**Question 10:** Similarly, using a pivot table, represent the mean age of male and female passengers in each of the three passenger classes.\n",
    "<br>**Answering Guidelines:** Your answer is a pivot table stored in q10_pivot \n",
    "<!--\n",
    "BEGIN QUESTION\n",
    "name: q9\n",
    "points: 5\n",
    "-->"
   ],
   "metadata": {}
  },
  {
   "cell_type": "code",
   "execution_count": 60,
   "source": [
    "q10_pivot = titanic_df.pivot_table(index = \"Pclass\", columns = \"Sex\", values =\"Age\", aggfunc = \"mean\")"
   ],
   "outputs": [],
   "metadata": {}
  },
  {
   "cell_type": "code",
   "execution_count": 61,
   "source": [
    "grader.check(\"q10\")"
   ],
   "outputs": [
    {
     "output_type": "execute_result",
     "data": {
      "text/html": [
       "<p><strong><pre style='display: inline;'>q10</pre></strong> passed!</p>"
      ],
      "text/plain": [
       "q10 results: All test cases passed!"
      ]
     },
     "metadata": {},
     "execution_count": 61
    }
   ],
   "metadata": {}
  },
  {
   "cell_type": "markdown",
   "source": [
    "**Question 11:** Which class had the lowest age to fare ratio? (Hint: Simply find the age to fare ratio for each passenger and locate which class contains the value with minimum ratio.)\n",
    "<br>**Answering Guidelines:** Your answer should be a string ('1'/'2'/'3') stored in answer11 \n",
    "<!--\n",
    "BEGIN QUESTION\n",
    "name: q11\n",
    "points: 5\n",
    "-->"
   ],
   "metadata": {}
  },
  {
   "cell_type": "code",
   "execution_count": 62,
   "source": [
    "answer11 = titanic_df.copy()\r\n",
    "answer11[\"ratio\"] = answer11[\"Age\"]/answer11[\"Fare\"]\r\n",
    "answer11 = answer11.sort_values(\"ratio\")\r\n",
    "answer11 = str(answer11['Pclass'].iloc[0])\r\n"
   ],
   "outputs": [],
   "metadata": {}
  },
  {
   "cell_type": "code",
   "execution_count": 63,
   "source": [
    "grader.check(\"q11\")"
   ],
   "outputs": [
    {
     "output_type": "execute_result",
     "data": {
      "text/html": [
       "<p><strong><pre style='display: inline;'>q11</pre></strong> passed!</p>"
      ],
      "text/plain": [
       "q11 results: All test cases passed!"
      ]
     },
     "metadata": {},
     "execution_count": 63
    }
   ],
   "metadata": {}
  },
  {
   "cell_type": "markdown",
   "source": [
    "**Question 12:** Just a check point to let you know that you are doing greattt! :)\n",
    "<br>**Answering Guidelines:** Have a small break if you want. "
   ],
   "metadata": {}
  },
  {
   "cell_type": "markdown",
   "source": [
    "**Question 13:** Replace the initials in the Embarked column with the exact port names. For the exact names, use the titanic_columns dataframe created earlier.\n",
    "<br>**Answering Guidelines:** Your answer is the updated titanic_df. You do not need to explicitly assign this to any answer variable.\n",
    "<!--\n",
    "BEGIN QUESTION\n",
    "name: q13\n",
    "points: 3\n",
    "-->"
   ],
   "metadata": {}
  },
  {
   "cell_type": "code",
   "execution_count": 64,
   "source": [
    "titanic_df = titanic_df.replace({'C':'Cherbourg', 'Q':'Queenstown', 'S':'Southampton'})"
   ],
   "outputs": [],
   "metadata": {}
  },
  {
   "cell_type": "code",
   "execution_count": 65,
   "source": [
    "grader.check(\"q13\")"
   ],
   "outputs": [
    {
     "output_type": "execute_result",
     "data": {
      "text/html": [
       "<p><strong><pre style='display: inline;'>q13</pre></strong> passed!</p>"
      ],
      "text/plain": [
       "q13 results: All test cases passed!"
      ]
     },
     "metadata": {},
     "execution_count": 65
    }
   ],
   "metadata": {}
  },
  {
   "cell_type": "markdown",
   "source": [
    "**Question 14:** Did the passengers who embarked on Cherbourg and travelled 3rd class have a higher survival rate than the passengers who embarked on Southampton and travelled first class?\n",
    "<br>**Answering Guidelines:** Your answer should be a string ('Yes'/'No') stored in answer14\n",
    "<!--\n",
    "BEGIN QUESTION\n",
    "name: q14\n",
    "points: 3\n",
    "-->"
   ],
   "metadata": {}
  },
  {
   "cell_type": "code",
   "execution_count": 66,
   "source": [
    "total_people_cherbourg = titanic_df.loc[ (titanic_df['Embarked'] == 'Cherbourg') & (titanic_df['Pclass'] == 3) ].shape[0]\r\n",
    "total_people_south = titanic_df.loc[ (titanic_df['Embarked'] == 'Southampton') & (titanic_df['Pclass'] == 1) ].shape[0]\r\n",
    "\r\n",
    "people_survived_cherbourg = survived.loc[ (survived['Embarked'] == 'C') & (survived['Pclass'] == 3) ].shape[0]\r\n",
    "people_survived_south = survived.loc[ (survived['Embarked'] == 'S') & (survived['Pclass'] == 1) ].shape[0]\r\n",
    "\r\n",
    "cherbourg_rate = people_survived_cherbourg / no_of_survived\r\n",
    "south_rate = people_survived_south / no_of_survived\r\n",
    "\r\n",
    "if cherbourg_rate > south_rate:\r\n",
    "   answer14 = 'Yes'\r\n",
    "else:\r\n",
    "   answer14 = 'No'"
   ],
   "outputs": [],
   "metadata": {}
  },
  {
   "cell_type": "code",
   "execution_count": 67,
   "source": [
    "grader.check(\"q14\")"
   ],
   "outputs": [
    {
     "output_type": "execute_result",
     "data": {
      "text/html": [
       "<p><strong><pre style='display: inline;'>q14</pre></strong> passed!</p>"
      ],
      "text/plain": [
       "q14 results: All test cases passed!"
      ]
     },
     "metadata": {},
     "execution_count": 67
    }
   ],
   "metadata": {}
  },
  {
   "cell_type": "markdown",
   "source": [
    "**Question 15:** How many passengers who were unable to survive had atleast 3 more family members (excluding them) aboard?\n",
    "<br>**Answering Guidelines:** Your answer is a whole number stored in answer15\n",
    "<!--\n",
    "BEGIN QUESTION\n",
    "name: q15\n",
    "points: 5\n",
    "-->"
   ],
   "metadata": {}
  },
  {
   "cell_type": "code",
   "execution_count": 68,
   "source": [
    "answer15 = titanic_df.loc[ (titanic_df['Survived'] == 0) & (not_survived['SibSp'] + not_survived['ParCh'] >=3) ].shape[0]"
   ],
   "outputs": [],
   "metadata": {}
  },
  {
   "cell_type": "code",
   "execution_count": 69,
   "source": [
    "grader.check(\"q15\")"
   ],
   "outputs": [
    {
     "output_type": "execute_result",
     "data": {
      "text/html": [
       "<p><strong><pre style='display: inline;'>q15</pre></strong> passed!</p>"
      ],
      "text/plain": [
       "q15 results: All test cases passed!"
      ]
     },
     "metadata": {},
     "execution_count": 69
    }
   ],
   "metadata": {}
  },
  {
   "cell_type": "markdown",
   "source": [
    "To double-check your work, please run the following cell."
   ],
   "metadata": {}
  },
  {
   "cell_type": "code",
   "execution_count": 70,
   "source": [
    "grader.check_all()"
   ],
   "outputs": [
    {
     "output_type": "execute_result",
     "data": {
      "text/plain": [
       "q1 results: All test cases passed!\n",
       "\n",
       "q10 results: All test cases passed!\n",
       "\n",
       "q11 results: All test cases passed!\n",
       "\n",
       "q13 results: All test cases passed!\n",
       "\n",
       "q14 results: All test cases passed!\n",
       "\n",
       "q15 results: All test cases passed!\n",
       "\n",
       "q2 results: All test cases passed!\n",
       "\n",
       "q3 results: All test cases passed!\n",
       "\n",
       "q4 results: All test cases passed!\n",
       "\n",
       "q5 results: All test cases passed!\n",
       "\n",
       "q6 results: All test cases passed!\n",
       "\n",
       "q7 results: All test cases passed!\n",
       "\n",
       "q8 results: All test cases passed!\n",
       "\n",
       "q9 results: All test cases passed!"
      ]
     },
     "metadata": {},
     "execution_count": 70
    }
   ],
   "metadata": {}
  }
 ],
 "metadata": {
  "kernelspec": {
   "name": "python3",
   "display_name": "Python 3.9.1 64-bit"
  },
  "language_info": {
   "codemirror_mode": {
    "name": "ipython",
    "version": 3
   },
   "file_extension": ".py",
   "mimetype": "text/x-python",
   "name": "python",
   "nbconvert_exporter": "python",
   "pygments_lexer": "ipython3",
   "version": "3.9.1"
  },
  "interpreter": {
   "hash": "9722b5e222019e22e0620b05e222a7fb76cdce7720d605713f02f3d05acc17da"
  }
 },
 "nbformat": 4,
 "nbformat_minor": 4
}